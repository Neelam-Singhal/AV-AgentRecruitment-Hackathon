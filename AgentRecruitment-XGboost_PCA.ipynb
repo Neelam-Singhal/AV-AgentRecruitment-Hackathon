{
 "metadata": {
  "language_info": {
   "codemirror_mode": {
    "name": "ipython",
    "version": 3
   },
   "file_extension": ".py",
   "mimetype": "text/x-python",
   "name": "python",
   "nbconvert_exporter": "python",
   "pygments_lexer": "ipython3",
   "version": "3.8.2"
  },
  "orig_nbformat": 2,
  "kernelspec": {
   "name": "python3",
   "display_name": "Python 3.8.2 64-bit ('env': venv)"
  },
  "metadata": {
   "interpreter": {
    "hash": "e905ad718a08ed27c2c36c9ef4f1f873648da9e7705f623e5afe311501acb5e0"
   }
  },
  "interpreter": {
   "hash": "e905ad718a08ed27c2c36c9ef4f1f873648da9e7705f623e5afe311501acb5e0"
  }
 },
 "nbformat": 4,
 "nbformat_minor": 2,
 "cells": [
  {
   "cell_type": "markdown",
   "source": [
    "## Smart Agent Recruitment Challenge\r\n",
    "\r\n",
    "FinMan is a Financial Distribution company. Over the last 10 years, they have created an offline distribution channel across India. They sell Financial products to consumers by hiring agents in their network. These agents are freelancers and get commission when they make a product sale.\r\n",
    "\r\n",
    "\r\n",
    "## Overview of FinMan On-boarding process\r\n",
    "The Managers at FinMan are primarily responsible for recruiting agents. Once a manager has identified a potential applicant, the would explain the business opportunity to the agent. Once the agent provides the consent, an application is made to FinMan to become an agent. This date is known as application_receipt_date.\r\n",
    "\r\n",
    "In the next 3 months, this potential agent has to undergo a 7 day training at the FinMan branch (about Sales processes and various products) and clear a subsequent examination in order to become a FinMan agent.\r\n",
    "\r\n",
    "\r\n",
    "## The problem - Who are the best agents?\r\n",
    " As is obvious in the above process, there is a significant investment which FinMan makes in identifying, training and recruiting these agents. However, there are a set of agents who do not bring in the expected resultant business.\r\n",
    "\r\n",
    " Finman has approached you and asked you to to predict the target variable for each potential agent, which would help them identify the right agents to hire.\r\n",
    "\r\n",
    "## Evaluation\r\n",
    "Your model's performance would be evaluated based on roc_auc score.\r\n",
    "\r\n",
    "\r\n",
    "\r\n",
    "## Public and Private Split\r\n",
    "Test Data is further divided into Public and Private set.\r\n",
    "Public leaderboard is based on First 2 months of the test dataset (02-Jul-2008 and 01-Sep-2008) and rest of test dataset is used for Private leaderboard.\r\n"
   ],
   "metadata": {}
  },
  {
   "cell_type": "markdown",
   "source": [
    "Data Defination\r\n",
    "\r\n",
    "    ID\t-\tUnique Application ID\r\n",
    "    Office_PIN\t-\tPINCODE of Fintro's Offices\r\n",
    "    Application_Receipt_Date\t-\tDate of Application\r\n",
    "    Applicant_City_PIN\t-\tPINCODE of Applicant Address\r\n",
    "    Applicant_Gender\t-\tApplicant's Gender\r\n",
    "    Applicant_BirthDate\t-\tApplicant's Birthdate\r\n",
    "    Applicant_Marital_Status\t-\tApplicant's Marital Status\r\n",
    "    Applicant_Occupation\t-\tApplicant's Occupation\r\n",
    "    Applicant_Qualification\t-\tApplicant's Educational Qualification\r\n",
    "    Manager_DOJ\t-\tManager's Date of Joining\r\n",
    "    Manager_Joining_Designation\t-\tManager's Joining Designation in Fintro\r\n",
    "    Manager_Current_Designation\t-\tManager's Designation at the time of application sourcing\r\n",
    "    Manager_Grade\t-\tManager's Grade in Fintro\r\n",
    "    Manager_Status\t-\tCurrent Employment Status (Probation / Confirmation)\r\n",
    "    Manager_Gender\t-\tManager's Gender\r\n",
    "    Manager_DoB\t-\tManager's Birthdate\r\n",
    "    Manager_Num_Application\t-\tNo. of Applications sourced in last 3 months by the Manager\r\n",
    "    Manager_Num_Coded\t-\tNo. of agents recruited by the manager in last 3 months\r\n",
    "    Manager_Business\t-\tAmount of business sourced by the manager in last 3 months\r\n",
    "    Manager_Num_Products\t-\tNumber of products sold by the manager in last 3 months\r\n",
    "    Manager_Business2\t-\tAmount of business sourced by the manager in last 3 months excluding business from their Category A advisor\r\n",
    "    Manager_Num_Products2\t-\tNumber of products sold by the manager in last 3 months excluding business from their Category A advisor\r\n",
    "    Business_Sourced(Target)\t-\tBusiness sourced by applicant within 3 months [1/0] of recruitment\r\n"
   ],
   "metadata": {}
  },
  {
   "cell_type": "code",
   "execution_count": 1,
   "source": [
    "#importing libraries \r\n",
    "import pandas as pd \r\n",
    "import numpy as np\r\n",
    "import matplotlib.pyplot as plt\r\n",
    "%matplotlib inline\r\n",
    "from sklearn.metrics import mean_squared_error as mse"
   ],
   "outputs": [],
   "metadata": {}
  },
  {
   "cell_type": "code",
   "execution_count": 2,
   "source": [
    "pd.set_option(\"display.max_columns\", 500)"
   ],
   "outputs": [],
   "metadata": {}
  },
  {
   "cell_type": "code",
   "execution_count": 273,
   "source": [
    "data = pd.read_csv(\"train_r7VTVyN_HtFA0Cn.csv\")\r\n",
    "data_test = pd.read_csv(\"test_ZkjAHF8_g6hTr3z.csv\")"
   ],
   "outputs": [],
   "metadata": {}
  },
  {
   "cell_type": "code",
   "execution_count": 274,
   "source": [
    "data_test.shape"
   ],
   "outputs": [
    {
     "output_type": "execute_result",
     "data": {
      "text/plain": [
       "(5045, 22)"
      ]
     },
     "metadata": {},
     "execution_count": 274
    }
   ],
   "metadata": {}
  },
  {
   "cell_type": "code",
   "execution_count": 5,
   "source": [
    "data_test.head()"
   ],
   "outputs": [
    {
     "output_type": "execute_result",
     "data": {
      "text/html": [
       "<div>\n",
       "<style scoped>\n",
       "    .dataframe tbody tr th:only-of-type {\n",
       "        vertical-align: middle;\n",
       "    }\n",
       "\n",
       "    .dataframe tbody tr th {\n",
       "        vertical-align: top;\n",
       "    }\n",
       "\n",
       "    .dataframe thead th {\n",
       "        text-align: right;\n",
       "    }\n",
       "</style>\n",
       "<table border=\"1\" class=\"dataframe\">\n",
       "  <thead>\n",
       "    <tr style=\"text-align: right;\">\n",
       "      <th></th>\n",
       "      <th>ID</th>\n",
       "      <th>Office_PIN</th>\n",
       "      <th>Application_Receipt_Date</th>\n",
       "      <th>Applicant_City_PIN</th>\n",
       "      <th>Applicant_Gender</th>\n",
       "      <th>Applicant_BirthDate</th>\n",
       "      <th>Applicant_Marital_Status</th>\n",
       "      <th>Applicant_Occupation</th>\n",
       "      <th>Applicant_Qualification</th>\n",
       "      <th>Manager_DOJ</th>\n",
       "      <th>Manager_Joining_Designation</th>\n",
       "      <th>Manager_Current_Designation</th>\n",
       "      <th>Manager_Grade</th>\n",
       "      <th>Manager_Status</th>\n",
       "      <th>Manager_Gender</th>\n",
       "      <th>Manager_DoB</th>\n",
       "      <th>Manager_Num_Application</th>\n",
       "      <th>Manager_Num_Coded</th>\n",
       "      <th>Manager_Business</th>\n",
       "      <th>Manager_Num_Products</th>\n",
       "      <th>Manager_Business2</th>\n",
       "      <th>Manager_Num_Products2</th>\n",
       "    </tr>\n",
       "  </thead>\n",
       "  <tbody>\n",
       "    <tr>\n",
       "      <th>0</th>\n",
       "      <td>FIN1009528</td>\n",
       "      <td>284001</td>\n",
       "      <td>7/2/2008</td>\n",
       "      <td>284001.0</td>\n",
       "      <td>M</td>\n",
       "      <td>8/5/1982</td>\n",
       "      <td>S</td>\n",
       "      <td>Salaried</td>\n",
       "      <td>Graduate</td>\n",
       "      <td>5/26/2008</td>\n",
       "      <td>Level 1</td>\n",
       "      <td>Level 1</td>\n",
       "      <td>2.0</td>\n",
       "      <td>Probation</td>\n",
       "      <td>F</td>\n",
       "      <td>10/14/1978</td>\n",
       "      <td>1.0</td>\n",
       "      <td>0.0</td>\n",
       "      <td>0.0</td>\n",
       "      <td>0.0</td>\n",
       "      <td>0.0</td>\n",
       "      <td>0.0</td>\n",
       "    </tr>\n",
       "    <tr>\n",
       "      <th>1</th>\n",
       "      <td>FIN1009529</td>\n",
       "      <td>800001</td>\n",
       "      <td>7/2/2008</td>\n",
       "      <td>800026.0</td>\n",
       "      <td>M</td>\n",
       "      <td>3/11/1968</td>\n",
       "      <td>M</td>\n",
       "      <td>Salaried</td>\n",
       "      <td>Graduate</td>\n",
       "      <td>6/24/2008</td>\n",
       "      <td>Level 1</td>\n",
       "      <td>Level 1</td>\n",
       "      <td>2.0</td>\n",
       "      <td>Probation</td>\n",
       "      <td>M</td>\n",
       "      <td>3/3/1971</td>\n",
       "      <td>2.0</td>\n",
       "      <td>0.0</td>\n",
       "      <td>0.0</td>\n",
       "      <td>0.0</td>\n",
       "      <td>0.0</td>\n",
       "      <td>0.0</td>\n",
       "    </tr>\n",
       "    <tr>\n",
       "      <th>2</th>\n",
       "      <td>FIN1009530</td>\n",
       "      <td>800001</td>\n",
       "      <td>7/2/2008</td>\n",
       "      <td>NaN</td>\n",
       "      <td>M</td>\n",
       "      <td>12/16/1984</td>\n",
       "      <td>S</td>\n",
       "      <td>NaN</td>\n",
       "      <td>Graduate</td>\n",
       "      <td>NaN</td>\n",
       "      <td>NaN</td>\n",
       "      <td>NaN</td>\n",
       "      <td>NaN</td>\n",
       "      <td>NaN</td>\n",
       "      <td>NaN</td>\n",
       "      <td>NaN</td>\n",
       "      <td>NaN</td>\n",
       "      <td>NaN</td>\n",
       "      <td>NaN</td>\n",
       "      <td>NaN</td>\n",
       "      <td>NaN</td>\n",
       "      <td>NaN</td>\n",
       "    </tr>\n",
       "    <tr>\n",
       "      <th>3</th>\n",
       "      <td>FIN1009531</td>\n",
       "      <td>800001</td>\n",
       "      <td>7/2/2008</td>\n",
       "      <td>844112.0</td>\n",
       "      <td>M</td>\n",
       "      <td>6/7/1971</td>\n",
       "      <td>S</td>\n",
       "      <td>Salaried</td>\n",
       "      <td>Graduate</td>\n",
       "      <td>NaN</td>\n",
       "      <td>NaN</td>\n",
       "      <td>NaN</td>\n",
       "      <td>NaN</td>\n",
       "      <td>NaN</td>\n",
       "      <td>NaN</td>\n",
       "      <td>NaN</td>\n",
       "      <td>NaN</td>\n",
       "      <td>NaN</td>\n",
       "      <td>NaN</td>\n",
       "      <td>NaN</td>\n",
       "      <td>NaN</td>\n",
       "      <td>NaN</td>\n",
       "    </tr>\n",
       "    <tr>\n",
       "      <th>4</th>\n",
       "      <td>FIN1009532</td>\n",
       "      <td>533101</td>\n",
       "      <td>7/2/2008</td>\n",
       "      <td>533102.0</td>\n",
       "      <td>M</td>\n",
       "      <td>7/22/1978</td>\n",
       "      <td>S</td>\n",
       "      <td>NaN</td>\n",
       "      <td>Masters of Business Administration</td>\n",
       "      <td>12/4/2007</td>\n",
       "      <td>Level 2</td>\n",
       "      <td>Level 2</td>\n",
       "      <td>3.0</td>\n",
       "      <td>Confirmation</td>\n",
       "      <td>M</td>\n",
       "      <td>6/23/1977</td>\n",
       "      <td>4.0</td>\n",
       "      <td>1.0</td>\n",
       "      <td>97352.0</td>\n",
       "      <td>3.0</td>\n",
       "      <td>97352.0</td>\n",
       "      <td>3.0</td>\n",
       "    </tr>\n",
       "  </tbody>\n",
       "</table>\n",
       "</div>"
      ],
      "text/plain": [
       "           ID  Office_PIN Application_Receipt_Date  Applicant_City_PIN  \\\n",
       "0  FIN1009528      284001                 7/2/2008            284001.0   \n",
       "1  FIN1009529      800001                 7/2/2008            800026.0   \n",
       "2  FIN1009530      800001                 7/2/2008                 NaN   \n",
       "3  FIN1009531      800001                 7/2/2008            844112.0   \n",
       "4  FIN1009532      533101                 7/2/2008            533102.0   \n",
       "\n",
       "  Applicant_Gender Applicant_BirthDate Applicant_Marital_Status  \\\n",
       "0                M            8/5/1982                        S   \n",
       "1                M           3/11/1968                        M   \n",
       "2                M          12/16/1984                        S   \n",
       "3                M            6/7/1971                        S   \n",
       "4                M           7/22/1978                        S   \n",
       "\n",
       "  Applicant_Occupation             Applicant_Qualification Manager_DOJ  \\\n",
       "0             Salaried                            Graduate   5/26/2008   \n",
       "1             Salaried                            Graduate   6/24/2008   \n",
       "2                  NaN                            Graduate         NaN   \n",
       "3             Salaried                            Graduate         NaN   \n",
       "4                  NaN  Masters of Business Administration   12/4/2007   \n",
       "\n",
       "  Manager_Joining_Designation Manager_Current_Designation  Manager_Grade  \\\n",
       "0                     Level 1                     Level 1            2.0   \n",
       "1                     Level 1                     Level 1            2.0   \n",
       "2                         NaN                         NaN            NaN   \n",
       "3                         NaN                         NaN            NaN   \n",
       "4                     Level 2                     Level 2            3.0   \n",
       "\n",
       "  Manager_Status Manager_Gender Manager_DoB  Manager_Num_Application  \\\n",
       "0      Probation              F  10/14/1978                      1.0   \n",
       "1      Probation              M    3/3/1971                      2.0   \n",
       "2            NaN            NaN         NaN                      NaN   \n",
       "3            NaN            NaN         NaN                      NaN   \n",
       "4   Confirmation              M   6/23/1977                      4.0   \n",
       "\n",
       "   Manager_Num_Coded  Manager_Business  Manager_Num_Products  \\\n",
       "0                0.0               0.0                   0.0   \n",
       "1                0.0               0.0                   0.0   \n",
       "2                NaN               NaN                   NaN   \n",
       "3                NaN               NaN                   NaN   \n",
       "4                1.0           97352.0                   3.0   \n",
       "\n",
       "   Manager_Business2  Manager_Num_Products2  \n",
       "0                0.0                    0.0  \n",
       "1                0.0                    0.0  \n",
       "2                NaN                    NaN  \n",
       "3                NaN                    NaN  \n",
       "4            97352.0                    3.0  "
      ]
     },
     "metadata": {},
     "execution_count": 5
    }
   ],
   "metadata": {}
  },
  {
   "cell_type": "code",
   "execution_count": 6,
   "source": [
    "data.head()"
   ],
   "outputs": [
    {
     "output_type": "execute_result",
     "data": {
      "text/html": [
       "<div>\n",
       "<style scoped>\n",
       "    .dataframe tbody tr th:only-of-type {\n",
       "        vertical-align: middle;\n",
       "    }\n",
       "\n",
       "    .dataframe tbody tr th {\n",
       "        vertical-align: top;\n",
       "    }\n",
       "\n",
       "    .dataframe thead th {\n",
       "        text-align: right;\n",
       "    }\n",
       "</style>\n",
       "<table border=\"1\" class=\"dataframe\">\n",
       "  <thead>\n",
       "    <tr style=\"text-align: right;\">\n",
       "      <th></th>\n",
       "      <th>ID</th>\n",
       "      <th>Office_PIN</th>\n",
       "      <th>Application_Receipt_Date</th>\n",
       "      <th>Applicant_City_PIN</th>\n",
       "      <th>Applicant_Gender</th>\n",
       "      <th>Applicant_BirthDate</th>\n",
       "      <th>Applicant_Marital_Status</th>\n",
       "      <th>Applicant_Occupation</th>\n",
       "      <th>Applicant_Qualification</th>\n",
       "      <th>Manager_DOJ</th>\n",
       "      <th>Manager_Joining_Designation</th>\n",
       "      <th>Manager_Current_Designation</th>\n",
       "      <th>Manager_Grade</th>\n",
       "      <th>Manager_Status</th>\n",
       "      <th>Manager_Gender</th>\n",
       "      <th>Manager_DoB</th>\n",
       "      <th>Manager_Num_Application</th>\n",
       "      <th>Manager_Num_Coded</th>\n",
       "      <th>Manager_Business</th>\n",
       "      <th>Manager_Num_Products</th>\n",
       "      <th>Manager_Business2</th>\n",
       "      <th>Manager_Num_Products2</th>\n",
       "      <th>Business_Sourced</th>\n",
       "    </tr>\n",
       "  </thead>\n",
       "  <tbody>\n",
       "    <tr>\n",
       "      <th>0</th>\n",
       "      <td>FIN1000001</td>\n",
       "      <td>842001</td>\n",
       "      <td>4/16/2007</td>\n",
       "      <td>844120.0</td>\n",
       "      <td>M</td>\n",
       "      <td>12/19/1971</td>\n",
       "      <td>M</td>\n",
       "      <td>Others</td>\n",
       "      <td>Graduate</td>\n",
       "      <td>11/10/2005</td>\n",
       "      <td>Level 1</td>\n",
       "      <td>Level 2</td>\n",
       "      <td>3.0</td>\n",
       "      <td>Confirmation</td>\n",
       "      <td>M</td>\n",
       "      <td>2/17/1978</td>\n",
       "      <td>2.0</td>\n",
       "      <td>1.0</td>\n",
       "      <td>335249.0</td>\n",
       "      <td>28.0</td>\n",
       "      <td>335249.0</td>\n",
       "      <td>28.0</td>\n",
       "      <td>0</td>\n",
       "    </tr>\n",
       "    <tr>\n",
       "      <th>1</th>\n",
       "      <td>FIN1000002</td>\n",
       "      <td>842001</td>\n",
       "      <td>4/16/2007</td>\n",
       "      <td>844111.0</td>\n",
       "      <td>M</td>\n",
       "      <td>2/17/1983</td>\n",
       "      <td>S</td>\n",
       "      <td>Others</td>\n",
       "      <td>Class XII</td>\n",
       "      <td>11/10/2005</td>\n",
       "      <td>Level 1</td>\n",
       "      <td>Level 2</td>\n",
       "      <td>3.0</td>\n",
       "      <td>Confirmation</td>\n",
       "      <td>M</td>\n",
       "      <td>2/17/1978</td>\n",
       "      <td>2.0</td>\n",
       "      <td>1.0</td>\n",
       "      <td>335249.0</td>\n",
       "      <td>28.0</td>\n",
       "      <td>335249.0</td>\n",
       "      <td>28.0</td>\n",
       "      <td>1</td>\n",
       "    </tr>\n",
       "    <tr>\n",
       "      <th>2</th>\n",
       "      <td>FIN1000003</td>\n",
       "      <td>800001</td>\n",
       "      <td>4/16/2007</td>\n",
       "      <td>844101.0</td>\n",
       "      <td>M</td>\n",
       "      <td>1/16/1966</td>\n",
       "      <td>M</td>\n",
       "      <td>Business</td>\n",
       "      <td>Class XII</td>\n",
       "      <td>5/27/2006</td>\n",
       "      <td>Level 1</td>\n",
       "      <td>Level 1</td>\n",
       "      <td>2.0</td>\n",
       "      <td>Confirmation</td>\n",
       "      <td>M</td>\n",
       "      <td>3/3/1969</td>\n",
       "      <td>0.0</td>\n",
       "      <td>0.0</td>\n",
       "      <td>357184.0</td>\n",
       "      <td>24.0</td>\n",
       "      <td>357184.0</td>\n",
       "      <td>24.0</td>\n",
       "      <td>0</td>\n",
       "    </tr>\n",
       "    <tr>\n",
       "      <th>3</th>\n",
       "      <td>FIN1000004</td>\n",
       "      <td>814112</td>\n",
       "      <td>4/16/2007</td>\n",
       "      <td>814112.0</td>\n",
       "      <td>M</td>\n",
       "      <td>2/3/1988</td>\n",
       "      <td>S</td>\n",
       "      <td>Salaried</td>\n",
       "      <td>Class XII</td>\n",
       "      <td>8/21/2003</td>\n",
       "      <td>Level 1</td>\n",
       "      <td>Level 3</td>\n",
       "      <td>4.0</td>\n",
       "      <td>Confirmation</td>\n",
       "      <td>F</td>\n",
       "      <td>8/14/1978</td>\n",
       "      <td>0.0</td>\n",
       "      <td>0.0</td>\n",
       "      <td>318356.0</td>\n",
       "      <td>22.0</td>\n",
       "      <td>318356.0</td>\n",
       "      <td>22.0</td>\n",
       "      <td>0</td>\n",
       "    </tr>\n",
       "    <tr>\n",
       "      <th>4</th>\n",
       "      <td>FIN1000005</td>\n",
       "      <td>814112</td>\n",
       "      <td>4/16/2007</td>\n",
       "      <td>815351.0</td>\n",
       "      <td>M</td>\n",
       "      <td>7/4/1985</td>\n",
       "      <td>M</td>\n",
       "      <td>Others</td>\n",
       "      <td>Class XII</td>\n",
       "      <td>5/8/2006</td>\n",
       "      <td>Level 1</td>\n",
       "      <td>Level 1</td>\n",
       "      <td>2.0</td>\n",
       "      <td>Confirmation</td>\n",
       "      <td>M</td>\n",
       "      <td>2/7/1971</td>\n",
       "      <td>2.0</td>\n",
       "      <td>1.0</td>\n",
       "      <td>230402.0</td>\n",
       "      <td>17.0</td>\n",
       "      <td>230402.0</td>\n",
       "      <td>17.0</td>\n",
       "      <td>0</td>\n",
       "    </tr>\n",
       "  </tbody>\n",
       "</table>\n",
       "</div>"
      ],
      "text/plain": [
       "           ID  Office_PIN Application_Receipt_Date  Applicant_City_PIN  \\\n",
       "0  FIN1000001      842001                4/16/2007            844120.0   \n",
       "1  FIN1000002      842001                4/16/2007            844111.0   \n",
       "2  FIN1000003      800001                4/16/2007            844101.0   \n",
       "3  FIN1000004      814112                4/16/2007            814112.0   \n",
       "4  FIN1000005      814112                4/16/2007            815351.0   \n",
       "\n",
       "  Applicant_Gender Applicant_BirthDate Applicant_Marital_Status  \\\n",
       "0                M          12/19/1971                        M   \n",
       "1                M           2/17/1983                        S   \n",
       "2                M           1/16/1966                        M   \n",
       "3                M            2/3/1988                        S   \n",
       "4                M            7/4/1985                        M   \n",
       "\n",
       "  Applicant_Occupation Applicant_Qualification Manager_DOJ  \\\n",
       "0               Others                Graduate  11/10/2005   \n",
       "1               Others               Class XII  11/10/2005   \n",
       "2             Business               Class XII   5/27/2006   \n",
       "3             Salaried               Class XII   8/21/2003   \n",
       "4               Others               Class XII    5/8/2006   \n",
       "\n",
       "  Manager_Joining_Designation Manager_Current_Designation  Manager_Grade  \\\n",
       "0                     Level 1                     Level 2            3.0   \n",
       "1                     Level 1                     Level 2            3.0   \n",
       "2                     Level 1                     Level 1            2.0   \n",
       "3                     Level 1                     Level 3            4.0   \n",
       "4                     Level 1                     Level 1            2.0   \n",
       "\n",
       "  Manager_Status Manager_Gender Manager_DoB  Manager_Num_Application  \\\n",
       "0   Confirmation              M   2/17/1978                      2.0   \n",
       "1   Confirmation              M   2/17/1978                      2.0   \n",
       "2   Confirmation              M    3/3/1969                      0.0   \n",
       "3   Confirmation              F   8/14/1978                      0.0   \n",
       "4   Confirmation              M    2/7/1971                      2.0   \n",
       "\n",
       "   Manager_Num_Coded  Manager_Business  Manager_Num_Products  \\\n",
       "0                1.0          335249.0                  28.0   \n",
       "1                1.0          335249.0                  28.0   \n",
       "2                0.0          357184.0                  24.0   \n",
       "3                0.0          318356.0                  22.0   \n",
       "4                1.0          230402.0                  17.0   \n",
       "\n",
       "   Manager_Business2  Manager_Num_Products2  Business_Sourced  \n",
       "0           335249.0                   28.0                 0  \n",
       "1           335249.0                   28.0                 1  \n",
       "2           357184.0                   24.0                 0  \n",
       "3           318356.0                   22.0                 0  \n",
       "4           230402.0                   17.0                 0  "
      ]
     },
     "metadata": {},
     "execution_count": 6
    }
   ],
   "metadata": {}
  },
  {
   "cell_type": "code",
   "execution_count": 7,
   "source": [
    "data.shape"
   ],
   "outputs": [
    {
     "output_type": "execute_result",
     "data": {
      "text/plain": [
       "(9527, 23)"
      ]
     },
     "metadata": {},
     "execution_count": 7
    }
   ],
   "metadata": {}
  },
  {
   "cell_type": "code",
   "execution_count": 8,
   "source": [
    "data.isna().sum()"
   ],
   "outputs": [
    {
     "output_type": "execute_result",
     "data": {
      "text/plain": [
       "ID                                0\n",
       "Office_PIN                        0\n",
       "Application_Receipt_Date          0\n",
       "Applicant_City_PIN               97\n",
       "Applicant_Gender                 67\n",
       "Applicant_BirthDate              73\n",
       "Applicant_Marital_Status         73\n",
       "Applicant_Occupation           1221\n",
       "Applicant_Qualification          86\n",
       "Manager_DOJ                     683\n",
       "Manager_Joining_Designation     683\n",
       "Manager_Current_Designation     683\n",
       "Manager_Grade                   683\n",
       "Manager_Status                  683\n",
       "Manager_Gender                  683\n",
       "Manager_DoB                     683\n",
       "Manager_Num_Application         683\n",
       "Manager_Num_Coded               683\n",
       "Manager_Business                683\n",
       "Manager_Num_Products            683\n",
       "Manager_Business2               683\n",
       "Manager_Num_Products2           683\n",
       "Business_Sourced                  0\n",
       "dtype: int64"
      ]
     },
     "metadata": {},
     "execution_count": 8
    }
   ],
   "metadata": {}
  },
  {
   "cell_type": "code",
   "execution_count": 9,
   "source": [
    "data_test.shape"
   ],
   "outputs": [
    {
     "output_type": "execute_result",
     "data": {
      "text/plain": [
       "(5045, 22)"
      ]
     },
     "metadata": {},
     "execution_count": 9
    }
   ],
   "metadata": {}
  },
  {
   "cell_type": "code",
   "execution_count": 10,
   "source": [
    "data_test.isna().sum()"
   ],
   "outputs": [
    {
     "output_type": "execute_result",
     "data": {
      "text/plain": [
       "ID                                0\n",
       "Office_PIN                        0\n",
       "Application_Receipt_Date          0\n",
       "Applicant_City_PIN               34\n",
       "Applicant_Gender                 22\n",
       "Applicant_BirthDate              23\n",
       "Applicant_Marital_Status         30\n",
       "Applicant_Occupation           1004\n",
       "Applicant_Qualification          44\n",
       "Manager_DOJ                     824\n",
       "Manager_Joining_Designation     824\n",
       "Manager_Current_Designation     824\n",
       "Manager_Grade                   824\n",
       "Manager_Status                  824\n",
       "Manager_Gender                  824\n",
       "Manager_DoB                     824\n",
       "Manager_Num_Application         824\n",
       "Manager_Num_Coded               824\n",
       "Manager_Business                824\n",
       "Manager_Num_Products            824\n",
       "Manager_Business2               824\n",
       "Manager_Num_Products2           824\n",
       "dtype: int64"
      ]
     },
     "metadata": {},
     "execution_count": 10
    }
   ],
   "metadata": {}
  },
  {
   "cell_type": "code",
   "execution_count": 11,
   "source": [
    "data.dtypes"
   ],
   "outputs": [
    {
     "output_type": "execute_result",
     "data": {
      "text/plain": [
       "ID                              object\n",
       "Office_PIN                       int64\n",
       "Application_Receipt_Date        object\n",
       "Applicant_City_PIN             float64\n",
       "Applicant_Gender                object\n",
       "Applicant_BirthDate             object\n",
       "Applicant_Marital_Status        object\n",
       "Applicant_Occupation            object\n",
       "Applicant_Qualification         object\n",
       "Manager_DOJ                     object\n",
       "Manager_Joining_Designation     object\n",
       "Manager_Current_Designation     object\n",
       "Manager_Grade                  float64\n",
       "Manager_Status                  object\n",
       "Manager_Gender                  object\n",
       "Manager_DoB                     object\n",
       "Manager_Num_Application        float64\n",
       "Manager_Num_Coded              float64\n",
       "Manager_Business               float64\n",
       "Manager_Num_Products           float64\n",
       "Manager_Business2              float64\n",
       "Manager_Num_Products2          float64\n",
       "Business_Sourced                 int64\n",
       "dtype: object"
      ]
     },
     "metadata": {},
     "execution_count": 11
    }
   ],
   "metadata": {}
  },
  {
   "cell_type": "code",
   "execution_count": 12,
   "source": [
    "data.nunique()"
   ],
   "outputs": [
    {
     "output_type": "execute_result",
     "data": {
      "text/plain": [
       "ID                             9527\n",
       "Office_PIN                       98\n",
       "Application_Receipt_Date        357\n",
       "Applicant_City_PIN             2979\n",
       "Applicant_Gender                  2\n",
       "Applicant_BirthDate            5836\n",
       "Applicant_Marital_Status          4\n",
       "Applicant_Occupation              5\n",
       "Applicant_Qualification          11\n",
       "Manager_DOJ                     646\n",
       "Manager_Joining_Designation       8\n",
       "Manager_Current_Designation       5\n",
       "Manager_Grade                    10\n",
       "Manager_Status                    2\n",
       "Manager_Gender                    2\n",
       "Manager_DoB                    1245\n",
       "Manager_Num_Application          17\n",
       "Manager_Num_Coded                10\n",
       "Manager_Business               3747\n",
       "Manager_Num_Products             57\n",
       "Manager_Business2              3743\n",
       "Manager_Num_Products2            57\n",
       "Business_Sourced                  2\n",
       "dtype: int64"
      ]
     },
     "metadata": {},
     "execution_count": 12
    }
   ],
   "metadata": {}
  },
  {
   "cell_type": "code",
   "execution_count": 13,
   "source": [
    "data.hist(figsize=(10,10))\r\n"
   ],
   "outputs": [
    {
     "output_type": "execute_result",
     "data": {
      "text/plain": [
       "array([[<AxesSubplot:title={'center':'Office_PIN'}>,\n",
       "        <AxesSubplot:title={'center':'Applicant_City_PIN'}>,\n",
       "        <AxesSubplot:title={'center':'Manager_Grade'}>],\n",
       "       [<AxesSubplot:title={'center':'Manager_Num_Application'}>,\n",
       "        <AxesSubplot:title={'center':'Manager_Num_Coded'}>,\n",
       "        <AxesSubplot:title={'center':'Manager_Business'}>],\n",
       "       [<AxesSubplot:title={'center':'Manager_Num_Products'}>,\n",
       "        <AxesSubplot:title={'center':'Manager_Business2'}>,\n",
       "        <AxesSubplot:title={'center':'Manager_Num_Products2'}>],\n",
       "       [<AxesSubplot:title={'center':'Business_Sourced'}>,\n",
       "        <AxesSubplot:>, <AxesSubplot:>]], dtype=object)"
      ]
     },
     "metadata": {},
     "execution_count": 13
    },
    {
     "output_type": "display_data",
     "data": {
      "image/png": "[encoded data removed]",
      "text/plain": [
       "<Figure size 720x720 with 12 Axes>"
      ]
     },
     "metadata": {
      "needs_background": "light"
     }
    }
   ],
   "metadata": {}
  },
  {
   "cell_type": "code",
   "execution_count": 14,
   "source": [
    "data.columns"
   ],
   "outputs": [
    {
     "output_type": "execute_result",
     "data": {
      "text/plain": [
       "Index(['ID', 'Office_PIN', 'Application_Receipt_Date', 'Applicant_City_PIN',\n",
       "       'Applicant_Gender', 'Applicant_BirthDate', 'Applicant_Marital_Status',\n",
       "       'Applicant_Occupation', 'Applicant_Qualification', 'Manager_DOJ',\n",
       "       'Manager_Joining_Designation', 'Manager_Current_Designation',\n",
       "       'Manager_Grade', 'Manager_Status', 'Manager_Gender', 'Manager_DoB',\n",
       "       'Manager_Num_Application', 'Manager_Num_Coded', 'Manager_Business',\n",
       "       'Manager_Num_Products', 'Manager_Business2', 'Manager_Num_Products2',\n",
       "       'Business_Sourced'],\n",
       "      dtype='object')"
      ]
     },
     "metadata": {},
     "execution_count": 14
    }
   ],
   "metadata": {}
  },
  {
   "cell_type": "code",
   "execution_count": 276,
   "source": [
    "data_missing = data[data.Manager_DOJ.isna()]"
   ],
   "outputs": [],
   "metadata": {}
  },
  {
   "cell_type": "code",
   "execution_count": 277,
   "source": [
    "data_notmissing = data"
   ],
   "outputs": [],
   "metadata": {}
  },
  {
   "cell_type": "code",
   "execution_count": 278,
   "source": [
    "data_notmissing.drop(data_missing.index, inplace=True)"
   ],
   "outputs": [],
   "metadata": {}
  },
  {
   "cell_type": "code",
   "execution_count": 279,
   "source": [
    "data_missing.shape, data_notmissing.shape, data.shape"
   ],
   "outputs": [
    {
     "output_type": "execute_result",
     "data": {
      "text/plain": [
       "((683, 23), (8844, 23), (8844, 23))"
      ]
     },
     "metadata": {},
     "execution_count": 279
    }
   ],
   "metadata": {}
  },
  {
   "cell_type": "markdown",
   "source": [
    "## Data_NotMissing"
   ],
   "metadata": {}
  },
  {
   "cell_type": "code",
   "execution_count": 280,
   "source": [
    "data_notmissing.isna().sum()"
   ],
   "outputs": [
    {
     "output_type": "execute_result",
     "data": {
      "text/plain": [
       "ID                                0\n",
       "Office_PIN                        0\n",
       "Application_Receipt_Date          0\n",
       "Applicant_City_PIN               80\n",
       "Applicant_Gender                 53\n",
       "Applicant_BirthDate              59\n",
       "Applicant_Marital_Status         59\n",
       "Applicant_Occupation           1090\n",
       "Applicant_Qualification          71\n",
       "Manager_DOJ                       0\n",
       "Manager_Joining_Designation       0\n",
       "Manager_Current_Designation       0\n",
       "Manager_Grade                     0\n",
       "Manager_Status                    0\n",
       "Manager_Gender                    0\n",
       "Manager_DoB                       0\n",
       "Manager_Num_Application           0\n",
       "Manager_Num_Coded                 0\n",
       "Manager_Business                  0\n",
       "Manager_Num_Products              0\n",
       "Manager_Business2                 0\n",
       "Manager_Num_Products2             0\n",
       "Business_Sourced                  0\n",
       "dtype: int64"
      ]
     },
     "metadata": {},
     "execution_count": 280
    }
   ],
   "metadata": {}
  },
  {
   "cell_type": "code",
   "execution_count": 45,
   "source": [
    "data_notmissing.Applicant_Occupation.value_counts()"
   ],
   "outputs": [
    {
     "output_type": "execute_result",
     "data": {
      "text/plain": [
       "Salaried         3546\n",
       "Business         2157\n",
       "Others           1809\n",
       "Self Employed     146\n",
       "Student            96\n",
       "Name: Applicant_Occupation, dtype: int64"
      ]
     },
     "metadata": {},
     "execution_count": 45
    }
   ],
   "metadata": {}
  },
  {
   "cell_type": "markdown",
   "source": [
    "# Reduce Dimensionality of Data"
   ],
   "metadata": {}
  },
  {
   "cell_type": "markdown",
   "source": [
    "## <b>High Correlation Filter</b>"
   ],
   "metadata": {}
  },
  {
   "cell_type": "code",
   "execution_count": 282,
   "source": [
    "corr_matrix = data.corr().abs()\r\n",
    "upper = corr_matrix.where(np.triu(np.ones(corr_matrix.shape), k=1).astype(np.bool))\r\n",
    "upper"
   ],
   "outputs": [
    {
     "output_type": "execute_result",
     "data": {
      "text/html": [
       "<div>\n",
       "<style scoped>\n",
       "    .dataframe tbody tr th:only-of-type {\n",
       "        vertical-align: middle;\n",
       "    }\n",
       "\n",
       "    .dataframe tbody tr th {\n",
       "        vertical-align: top;\n",
       "    }\n",
       "\n",
       "    .dataframe thead th {\n",
       "        text-align: right;\n",
       "    }\n",
       "</style>\n",
       "<table border=\"1\" class=\"dataframe\">\n",
       "  <thead>\n",
       "    <tr style=\"text-align: right;\">\n",
       "      <th></th>\n",
       "      <th>Office_PIN</th>\n",
       "      <th>Applicant_City_PIN</th>\n",
       "      <th>Manager_Grade</th>\n",
       "      <th>Manager_Num_Application</th>\n",
       "      <th>Manager_Num_Coded</th>\n",
       "      <th>Manager_Business</th>\n",
       "      <th>Manager_Num_Products</th>\n",
       "      <th>Manager_Business2</th>\n",
       "      <th>Manager_Num_Products2</th>\n",
       "      <th>Business_Sourced</th>\n",
       "    </tr>\n",
       "  </thead>\n",
       "  <tbody>\n",
       "    <tr>\n",
       "      <th>Office_PIN</th>\n",
       "      <td>NaN</td>\n",
       "      <td>0.976137</td>\n",
       "      <td>0.077063</td>\n",
       "      <td>0.061672</td>\n",
       "      <td>0.066030</td>\n",
       "      <td>0.093603</td>\n",
       "      <td>0.132186</td>\n",
       "      <td>0.093386</td>\n",
       "      <td>0.131747</td>\n",
       "      <td>0.037536</td>\n",
       "    </tr>\n",
       "    <tr>\n",
       "      <th>Applicant_City_PIN</th>\n",
       "      <td>NaN</td>\n",
       "      <td>NaN</td>\n",
       "      <td>0.091697</td>\n",
       "      <td>0.055152</td>\n",
       "      <td>0.060603</td>\n",
       "      <td>0.089794</td>\n",
       "      <td>0.131358</td>\n",
       "      <td>0.089425</td>\n",
       "      <td>0.130928</td>\n",
       "      <td>0.036717</td>\n",
       "    </tr>\n",
       "    <tr>\n",
       "      <th>Manager_Grade</th>\n",
       "      <td>NaN</td>\n",
       "      <td>NaN</td>\n",
       "      <td>NaN</td>\n",
       "      <td>0.022524</td>\n",
       "      <td>0.002833</td>\n",
       "      <td>0.322211</td>\n",
       "      <td>0.210353</td>\n",
       "      <td>0.320644</td>\n",
       "      <td>0.209886</td>\n",
       "      <td>0.059363</td>\n",
       "    </tr>\n",
       "    <tr>\n",
       "      <th>Manager_Num_Application</th>\n",
       "      <td>NaN</td>\n",
       "      <td>NaN</td>\n",
       "      <td>NaN</td>\n",
       "      <td>NaN</td>\n",
       "      <td>0.514299</td>\n",
       "      <td>0.014605</td>\n",
       "      <td>0.030293</td>\n",
       "      <td>0.015871</td>\n",
       "      <td>0.029977</td>\n",
       "      <td>0.037593</td>\n",
       "    </tr>\n",
       "    <tr>\n",
       "      <th>Manager_Num_Coded</th>\n",
       "      <td>NaN</td>\n",
       "      <td>NaN</td>\n",
       "      <td>NaN</td>\n",
       "      <td>NaN</td>\n",
       "      <td>NaN</td>\n",
       "      <td>0.152858</td>\n",
       "      <td>0.129490</td>\n",
       "      <td>0.155289</td>\n",
       "      <td>0.130039</td>\n",
       "      <td>0.013565</td>\n",
       "    </tr>\n",
       "    <tr>\n",
       "      <th>Manager_Business</th>\n",
       "      <td>NaN</td>\n",
       "      <td>NaN</td>\n",
       "      <td>NaN</td>\n",
       "      <td>NaN</td>\n",
       "      <td>NaN</td>\n",
       "      <td>NaN</td>\n",
       "      <td>0.733880</td>\n",
       "      <td>0.994422</td>\n",
       "      <td>0.729147</td>\n",
       "      <td>0.031578</td>\n",
       "    </tr>\n",
       "    <tr>\n",
       "      <th>Manager_Num_Products</th>\n",
       "      <td>NaN</td>\n",
       "      <td>NaN</td>\n",
       "      <td>NaN</td>\n",
       "      <td>NaN</td>\n",
       "      <td>NaN</td>\n",
       "      <td>NaN</td>\n",
       "      <td>NaN</td>\n",
       "      <td>0.736272</td>\n",
       "      <td>0.998893</td>\n",
       "      <td>0.011000</td>\n",
       "    </tr>\n",
       "    <tr>\n",
       "      <th>Manager_Business2</th>\n",
       "      <td>NaN</td>\n",
       "      <td>NaN</td>\n",
       "      <td>NaN</td>\n",
       "      <td>NaN</td>\n",
       "      <td>NaN</td>\n",
       "      <td>NaN</td>\n",
       "      <td>NaN</td>\n",
       "      <td>NaN</td>\n",
       "      <td>0.735594</td>\n",
       "      <td>0.031093</td>\n",
       "    </tr>\n",
       "    <tr>\n",
       "      <th>Manager_Num_Products2</th>\n",
       "      <td>NaN</td>\n",
       "      <td>NaN</td>\n",
       "      <td>NaN</td>\n",
       "      <td>NaN</td>\n",
       "      <td>NaN</td>\n",
       "      <td>NaN</td>\n",
       "      <td>NaN</td>\n",
       "      <td>NaN</td>\n",
       "      <td>NaN</td>\n",
       "      <td>0.011706</td>\n",
       "    </tr>\n",
       "    <tr>\n",
       "      <th>Business_Sourced</th>\n",
       "      <td>NaN</td>\n",
       "      <td>NaN</td>\n",
       "      <td>NaN</td>\n",
       "      <td>NaN</td>\n",
       "      <td>NaN</td>\n",
       "      <td>NaN</td>\n",
       "      <td>NaN</td>\n",
       "      <td>NaN</td>\n",
       "      <td>NaN</td>\n",
       "      <td>NaN</td>\n",
       "    </tr>\n",
       "  </tbody>\n",
       "</table>\n",
       "</div>"
      ],
      "text/plain": [
       "                         Office_PIN  Applicant_City_PIN  Manager_Grade  \\\n",
       "Office_PIN                      NaN            0.976137       0.077063   \n",
       "Applicant_City_PIN              NaN                 NaN       0.091697   \n",
       "Manager_Grade                   NaN                 NaN            NaN   \n",
       "Manager_Num_Application         NaN                 NaN            NaN   \n",
       "Manager_Num_Coded               NaN                 NaN            NaN   \n",
       "Manager_Business                NaN                 NaN            NaN   \n",
       "Manager_Num_Products            NaN                 NaN            NaN   \n",
       "Manager_Business2               NaN                 NaN            NaN   \n",
       "Manager_Num_Products2           NaN                 NaN            NaN   \n",
       "Business_Sourced                NaN                 NaN            NaN   \n",
       "\n",
       "                         Manager_Num_Application  Manager_Num_Coded  \\\n",
       "Office_PIN                              0.061672           0.066030   \n",
       "Applicant_City_PIN                      0.055152           0.060603   \n",
       "Manager_Grade                           0.022524           0.002833   \n",
       "Manager_Num_Application                      NaN           0.514299   \n",
       "Manager_Num_Coded                            NaN                NaN   \n",
       "Manager_Business                             NaN                NaN   \n",
       "Manager_Num_Products                         NaN                NaN   \n",
       "Manager_Business2                            NaN                NaN   \n",
       "Manager_Num_Products2                        NaN                NaN   \n",
       "Business_Sourced                             NaN                NaN   \n",
       "\n",
       "                         Manager_Business  Manager_Num_Products  \\\n",
       "Office_PIN                       0.093603              0.132186   \n",
       "Applicant_City_PIN               0.089794              0.131358   \n",
       "Manager_Grade                    0.322211              0.210353   \n",
       "Manager_Num_Application          0.014605              0.030293   \n",
       "Manager_Num_Coded                0.152858              0.129490   \n",
       "Manager_Business                      NaN              0.733880   \n",
       "Manager_Num_Products                  NaN                   NaN   \n",
       "Manager_Business2                     NaN                   NaN   \n",
       "Manager_Num_Products2                 NaN                   NaN   \n",
       "Business_Sourced                      NaN                   NaN   \n",
       "\n",
       "                         Manager_Business2  Manager_Num_Products2  \\\n",
       "Office_PIN                        0.093386               0.131747   \n",
       "Applicant_City_PIN                0.089425               0.130928   \n",
       "Manager_Grade                     0.320644               0.209886   \n",
       "Manager_Num_Application           0.015871               0.029977   \n",
       "Manager_Num_Coded                 0.155289               0.130039   \n",
       "Manager_Business                  0.994422               0.729147   \n",
       "Manager_Num_Products              0.736272               0.998893   \n",
       "Manager_Business2                      NaN               0.735594   \n",
       "Manager_Num_Products2                  NaN                    NaN   \n",
       "Business_Sourced                       NaN                    NaN   \n",
       "\n",
       "                         Business_Sourced  \n",
       "Office_PIN                       0.037536  \n",
       "Applicant_City_PIN               0.036717  \n",
       "Manager_Grade                    0.059363  \n",
       "Manager_Num_Application          0.037593  \n",
       "Manager_Num_Coded                0.013565  \n",
       "Manager_Business                 0.031578  \n",
       "Manager_Num_Products             0.011000  \n",
       "Manager_Business2                0.031093  \n",
       "Manager_Num_Products2            0.011706  \n",
       "Business_Sourced                      NaN  "
      ]
     },
     "metadata": {},
     "execution_count": 282
    }
   ],
   "metadata": {}
  },
  {
   "cell_type": "code",
   "execution_count": 283,
   "source": [
    "to_drop = [columns for columns in upper.columns if any(upper[columns] > 0.9)]\r\n",
    "to_drop"
   ],
   "outputs": [
    {
     "output_type": "execute_result",
     "data": {
      "text/plain": [
       "['Applicant_City_PIN', 'Manager_Business2', 'Manager_Num_Products2']"
      ]
     },
     "metadata": {},
     "execution_count": 283
    }
   ],
   "metadata": {}
  },
  {
   "cell_type": "code",
   "execution_count": 284,
   "source": [
    "# Lets drop these columns as they are highly coorelated.\r\n",
    "updated_data = data.drop(data[to_drop], axis=1)\r\n",
    "updated_data_test = data_test.drop(data_test[to_drop], axis=1)\r\n"
   ],
   "outputs": [],
   "metadata": {}
  },
  {
   "cell_type": "code",
   "execution_count": 285,
   "source": [
    "updated_data.shape, data.shape, updated_data_test.shape, data_test.shape"
   ],
   "outputs": [
    {
     "output_type": "execute_result",
     "data": {
      "text/plain": [
       "((8844, 20), (8844, 23), (5045, 19), (5045, 22))"
      ]
     },
     "metadata": {},
     "execution_count": 285
    }
   ],
   "metadata": {}
  },
  {
   "cell_type": "code",
   "execution_count": 286,
   "source": [
    "nullvals = pd.DataFrame(\r\n",
    "    {\r\n",
    "        \"Train_data\": updated_data.isna().sum(),\r\n",
    "        \"Test_data\": updated_data_test.isna().sum()\r\n",
    "    }\r\n",
    ")\r\n",
    "\r\n",
    "nullvals\r\n"
   ],
   "outputs": [
    {
     "output_type": "execute_result",
     "data": {
      "text/html": [
       "<div>\n",
       "<style scoped>\n",
       "    .dataframe tbody tr th:only-of-type {\n",
       "        vertical-align: middle;\n",
       "    }\n",
       "\n",
       "    .dataframe tbody tr th {\n",
       "        vertical-align: top;\n",
       "    }\n",
       "\n",
       "    .dataframe thead th {\n",
       "        text-align: right;\n",
       "    }\n",
       "</style>\n",
       "<table border=\"1\" class=\"dataframe\">\n",
       "  <thead>\n",
       "    <tr style=\"text-align: right;\">\n",
       "      <th></th>\n",
       "      <th>Train_data</th>\n",
       "      <th>Test_data</th>\n",
       "    </tr>\n",
       "  </thead>\n",
       "  <tbody>\n",
       "    <tr>\n",
       "      <th>Applicant_BirthDate</th>\n",
       "      <td>59</td>\n",
       "      <td>23.0</td>\n",
       "    </tr>\n",
       "    <tr>\n",
       "      <th>Applicant_Gender</th>\n",
       "      <td>53</td>\n",
       "      <td>22.0</td>\n",
       "    </tr>\n",
       "    <tr>\n",
       "      <th>Applicant_Marital_Status</th>\n",
       "      <td>59</td>\n",
       "      <td>30.0</td>\n",
       "    </tr>\n",
       "    <tr>\n",
       "      <th>Applicant_Occupation</th>\n",
       "      <td>1090</td>\n",
       "      <td>1004.0</td>\n",
       "    </tr>\n",
       "    <tr>\n",
       "      <th>Applicant_Qualification</th>\n",
       "      <td>71</td>\n",
       "      <td>44.0</td>\n",
       "    </tr>\n",
       "    <tr>\n",
       "      <th>Application_Receipt_Date</th>\n",
       "      <td>0</td>\n",
       "      <td>0.0</td>\n",
       "    </tr>\n",
       "    <tr>\n",
       "      <th>Business_Sourced</th>\n",
       "      <td>0</td>\n",
       "      <td>NaN</td>\n",
       "    </tr>\n",
       "    <tr>\n",
       "      <th>ID</th>\n",
       "      <td>0</td>\n",
       "      <td>0.0</td>\n",
       "    </tr>\n",
       "    <tr>\n",
       "      <th>Manager_Business</th>\n",
       "      <td>0</td>\n",
       "      <td>824.0</td>\n",
       "    </tr>\n",
       "    <tr>\n",
       "      <th>Manager_Current_Designation</th>\n",
       "      <td>0</td>\n",
       "      <td>824.0</td>\n",
       "    </tr>\n",
       "    <tr>\n",
       "      <th>Manager_DOJ</th>\n",
       "      <td>0</td>\n",
       "      <td>824.0</td>\n",
       "    </tr>\n",
       "    <tr>\n",
       "      <th>Manager_DoB</th>\n",
       "      <td>0</td>\n",
       "      <td>824.0</td>\n",
       "    </tr>\n",
       "    <tr>\n",
       "      <th>Manager_Gender</th>\n",
       "      <td>0</td>\n",
       "      <td>824.0</td>\n",
       "    </tr>\n",
       "    <tr>\n",
       "      <th>Manager_Grade</th>\n",
       "      <td>0</td>\n",
       "      <td>824.0</td>\n",
       "    </tr>\n",
       "    <tr>\n",
       "      <th>Manager_Joining_Designation</th>\n",
       "      <td>0</td>\n",
       "      <td>824.0</td>\n",
       "    </tr>\n",
       "    <tr>\n",
       "      <th>Manager_Num_Application</th>\n",
       "      <td>0</td>\n",
       "      <td>824.0</td>\n",
       "    </tr>\n",
       "    <tr>\n",
       "      <th>Manager_Num_Coded</th>\n",
       "      <td>0</td>\n",
       "      <td>824.0</td>\n",
       "    </tr>\n",
       "    <tr>\n",
       "      <th>Manager_Num_Products</th>\n",
       "      <td>0</td>\n",
       "      <td>824.0</td>\n",
       "    </tr>\n",
       "    <tr>\n",
       "      <th>Manager_Status</th>\n",
       "      <td>0</td>\n",
       "      <td>824.0</td>\n",
       "    </tr>\n",
       "    <tr>\n",
       "      <th>Office_PIN</th>\n",
       "      <td>0</td>\n",
       "      <td>0.0</td>\n",
       "    </tr>\n",
       "  </tbody>\n",
       "</table>\n",
       "</div>"
      ],
      "text/plain": [
       "                             Train_data  Test_data\n",
       "Applicant_BirthDate                  59       23.0\n",
       "Applicant_Gender                     53       22.0\n",
       "Applicant_Marital_Status             59       30.0\n",
       "Applicant_Occupation               1090     1004.0\n",
       "Applicant_Qualification              71       44.0\n",
       "Application_Receipt_Date              0        0.0\n",
       "Business_Sourced                      0        NaN\n",
       "ID                                    0        0.0\n",
       "Manager_Business                      0      824.0\n",
       "Manager_Current_Designation           0      824.0\n",
       "Manager_DOJ                           0      824.0\n",
       "Manager_DoB                           0      824.0\n",
       "Manager_Gender                        0      824.0\n",
       "Manager_Grade                         0      824.0\n",
       "Manager_Joining_Designation           0      824.0\n",
       "Manager_Num_Application               0      824.0\n",
       "Manager_Num_Coded                     0      824.0\n",
       "Manager_Num_Products                  0      824.0\n",
       "Manager_Status                        0      824.0\n",
       "Office_PIN                            0        0.0"
      ]
     },
     "metadata": {},
     "execution_count": 286
    }
   ],
   "metadata": {}
  },
  {
   "cell_type": "markdown",
   "source": [
    "## Steps:\r\n",
    "- Analyze the not missing data first\r\n",
    "- extract age of agents\r\n",
    "- where occupation is null, set as \"not employeed\"\r\n",
    "- apply a random forest and see if city pin is relevant. Mabe drop it. impute using mode\r\n",
    "- Impute gender using mode\r\n",
    "- extract age from birthdate and drop the column\r\n",
    "- impute Marital status with mode\r\n",
    "- Application qualification, impute with mode. Set values of MBA and above as Post Graduate"
   ],
   "metadata": {}
  },
  {
   "cell_type": "code",
   "execution_count": 287,
   "source": [
    "updated_data.Applicant_Gender.value_counts()"
   ],
   "outputs": [
    {
     "output_type": "execute_result",
     "data": {
      "text/plain": [
       "M    6656\n",
       "F    2135\n",
       "Name: Applicant_Gender, dtype: int64"
      ]
     },
     "metadata": {},
     "execution_count": 287
    }
   ],
   "metadata": {}
  },
  {
   "cell_type": "code",
   "execution_count": 288,
   "source": [
    "# Fill missing gender value with Mode\r\n",
    "updated_data.Applicant_Gender.fillna(updated_data.Applicant_Gender.mode()[0], inplace=True)"
   ],
   "outputs": [],
   "metadata": {}
  },
  {
   "cell_type": "code",
   "execution_count": 289,
   "source": [
    "updated_data_test.Applicant_Gender.fillna(updated_data_test.Applicant_Gender.mode()[0], inplace=True)"
   ],
   "outputs": [],
   "metadata": {}
  },
  {
   "cell_type": "code",
   "execution_count": 290,
   "source": [
    "updated_data.Applicant_Marital_Status.value_counts()"
   ],
   "outputs": [
    {
     "output_type": "execute_result",
     "data": {
      "text/plain": [
       "M    5733\n",
       "S    3042\n",
       "W       6\n",
       "D       4\n",
       "Name: Applicant_Marital_Status, dtype: int64"
      ]
     },
     "metadata": {},
     "execution_count": 290
    }
   ],
   "metadata": {}
  },
  {
   "cell_type": "code",
   "execution_count": 291,
   "source": [
    "updated_data.Applicant_Marital_Status.fillna(updated_data.Applicant_Marital_Status.mode()[0], inplace=True)\r\n",
    "updated_data_test.Applicant_Marital_Status.fillna(updated_data_test.Applicant_Marital_Status.mode()[0], inplace=True)\r\n"
   ],
   "outputs": [],
   "metadata": {}
  },
  {
   "cell_type": "code",
   "execution_count": 292,
   "source": [
    "updated_data.Applicant_Marital_Status.isna().sum()"
   ],
   "outputs": [
    {
     "output_type": "execute_result",
     "data": {
      "text/plain": [
       "0"
      ]
     },
     "metadata": {},
     "execution_count": 292
    }
   ],
   "metadata": {}
  },
  {
   "cell_type": "code",
   "execution_count": 293,
   "source": [
    "# Map W and D to other as there are very less instances\r\n",
    "other_cat = {\"W\": \"O\", \"D\": \"O\", \"M\":\"M\", \"S\":\"S\"}"
   ],
   "outputs": [],
   "metadata": {}
  },
  {
   "cell_type": "code",
   "execution_count": 294,
   "source": [
    "updated_data.Applicant_Marital_Status.value_counts()"
   ],
   "outputs": [
    {
     "output_type": "execute_result",
     "data": {
      "text/plain": [
       "M    5792\n",
       "S    3042\n",
       "W       6\n",
       "D       4\n",
       "Name: Applicant_Marital_Status, dtype: int64"
      ]
     },
     "metadata": {},
     "execution_count": 294
    }
   ],
   "metadata": {}
  },
  {
   "cell_type": "code",
   "execution_count": 295,
   "source": [
    "updated_data.Applicant_Marital_Status = updated_data.Applicant_Marital_Status.map(other_cat)\r\n",
    "updated_data_test.Applicant_Marital_Status = updated_data_test.Applicant_Marital_Status.map(other_cat)\r\n"
   ],
   "outputs": [],
   "metadata": {}
  },
  {
   "cell_type": "code",
   "execution_count": 296,
   "source": [
    "nullvals = pd.DataFrame(\r\n",
    "    {\r\n",
    "        \"Train_data\": updated_data.isna().sum(),\r\n",
    "        \"Test_data\": updated_data_test.isna().sum()\r\n",
    "    }\r\n",
    ")\r\n",
    "\r\n",
    "nullvals\r\n"
   ],
   "outputs": [
    {
     "output_type": "execute_result",
     "data": {
      "text/html": [
       "<div>\n",
       "<style scoped>\n",
       "    .dataframe tbody tr th:only-of-type {\n",
       "        vertical-align: middle;\n",
       "    }\n",
       "\n",
       "    .dataframe tbody tr th {\n",
       "        vertical-align: top;\n",
       "    }\n",
       "\n",
       "    .dataframe thead th {\n",
       "        text-align: right;\n",
       "    }\n",
       "</style>\n",
       "<table border=\"1\" class=\"dataframe\">\n",
       "  <thead>\n",
       "    <tr style=\"text-align: right;\">\n",
       "      <th></th>\n",
       "      <th>Train_data</th>\n",
       "      <th>Test_data</th>\n",
       "    </tr>\n",
       "  </thead>\n",
       "  <tbody>\n",
       "    <tr>\n",
       "      <th>Applicant_BirthDate</th>\n",
       "      <td>59</td>\n",
       "      <td>23.0</td>\n",
       "    </tr>\n",
       "    <tr>\n",
       "      <th>Applicant_Gender</th>\n",
       "      <td>0</td>\n",
       "      <td>0.0</td>\n",
       "    </tr>\n",
       "    <tr>\n",
       "      <th>Applicant_Marital_Status</th>\n",
       "      <td>0</td>\n",
       "      <td>0.0</td>\n",
       "    </tr>\n",
       "    <tr>\n",
       "      <th>Applicant_Occupation</th>\n",
       "      <td>1090</td>\n",
       "      <td>1004.0</td>\n",
       "    </tr>\n",
       "    <tr>\n",
       "      <th>Applicant_Qualification</th>\n",
       "      <td>71</td>\n",
       "      <td>44.0</td>\n",
       "    </tr>\n",
       "    <tr>\n",
       "      <th>Application_Receipt_Date</th>\n",
       "      <td>0</td>\n",
       "      <td>0.0</td>\n",
       "    </tr>\n",
       "    <tr>\n",
       "      <th>Business_Sourced</th>\n",
       "      <td>0</td>\n",
       "      <td>NaN</td>\n",
       "    </tr>\n",
       "    <tr>\n",
       "      <th>ID</th>\n",
       "      <td>0</td>\n",
       "      <td>0.0</td>\n",
       "    </tr>\n",
       "    <tr>\n",
       "      <th>Manager_Business</th>\n",
       "      <td>0</td>\n",
       "      <td>824.0</td>\n",
       "    </tr>\n",
       "    <tr>\n",
       "      <th>Manager_Current_Designation</th>\n",
       "      <td>0</td>\n",
       "      <td>824.0</td>\n",
       "    </tr>\n",
       "    <tr>\n",
       "      <th>Manager_DOJ</th>\n",
       "      <td>0</td>\n",
       "      <td>824.0</td>\n",
       "    </tr>\n",
       "    <tr>\n",
       "      <th>Manager_DoB</th>\n",
       "      <td>0</td>\n",
       "      <td>824.0</td>\n",
       "    </tr>\n",
       "    <tr>\n",
       "      <th>Manager_Gender</th>\n",
       "      <td>0</td>\n",
       "      <td>824.0</td>\n",
       "    </tr>\n",
       "    <tr>\n",
       "      <th>Manager_Grade</th>\n",
       "      <td>0</td>\n",
       "      <td>824.0</td>\n",
       "    </tr>\n",
       "    <tr>\n",
       "      <th>Manager_Joining_Designation</th>\n",
       "      <td>0</td>\n",
       "      <td>824.0</td>\n",
       "    </tr>\n",
       "    <tr>\n",
       "      <th>Manager_Num_Application</th>\n",
       "      <td>0</td>\n",
       "      <td>824.0</td>\n",
       "    </tr>\n",
       "    <tr>\n",
       "      <th>Manager_Num_Coded</th>\n",
       "      <td>0</td>\n",
       "      <td>824.0</td>\n",
       "    </tr>\n",
       "    <tr>\n",
       "      <th>Manager_Num_Products</th>\n",
       "      <td>0</td>\n",
       "      <td>824.0</td>\n",
       "    </tr>\n",
       "    <tr>\n",
       "      <th>Manager_Status</th>\n",
       "      <td>0</td>\n",
       "      <td>824.0</td>\n",
       "    </tr>\n",
       "    <tr>\n",
       "      <th>Office_PIN</th>\n",
       "      <td>0</td>\n",
       "      <td>0.0</td>\n",
       "    </tr>\n",
       "  </tbody>\n",
       "</table>\n",
       "</div>"
      ],
      "text/plain": [
       "                             Train_data  Test_data\n",
       "Applicant_BirthDate                  59       23.0\n",
       "Applicant_Gender                      0        0.0\n",
       "Applicant_Marital_Status              0        0.0\n",
       "Applicant_Occupation               1090     1004.0\n",
       "Applicant_Qualification              71       44.0\n",
       "Application_Receipt_Date              0        0.0\n",
       "Business_Sourced                      0        NaN\n",
       "ID                                    0        0.0\n",
       "Manager_Business                      0      824.0\n",
       "Manager_Current_Designation           0      824.0\n",
       "Manager_DOJ                           0      824.0\n",
       "Manager_DoB                           0      824.0\n",
       "Manager_Gender                        0      824.0\n",
       "Manager_Grade                         0      824.0\n",
       "Manager_Joining_Designation           0      824.0\n",
       "Manager_Num_Application               0      824.0\n",
       "Manager_Num_Coded                     0      824.0\n",
       "Manager_Num_Products                  0      824.0\n",
       "Manager_Status                        0      824.0\n",
       "Office_PIN                            0        0.0"
      ]
     },
     "metadata": {},
     "execution_count": 296
    }
   ],
   "metadata": {}
  },
  {
   "cell_type": "code",
   "execution_count": 297,
   "source": [
    "# Replace by mode\r\n",
    "updated_data.Applicant_Qualification.value_counts()"
   ],
   "outputs": [
    {
     "output_type": "execute_result",
     "data": {
      "text/plain": [
       "Class XII                                                           5426\n",
       "Graduate                                                            2958\n",
       "Class X                                                              195\n",
       "Others                                                               116\n",
       "Masters of Business Administration                                    71\n",
       "Associate / Fellow of Institute of Chartered Accountans of India       3\n",
       "Associate/Fellow of Institute of Company Secretories of India          1\n",
       "Professional Qualification in Marketing                                1\n",
       "Associate/Fellow of Insurance Institute of India                       1\n",
       "Associate/Fellow of Acturial Society of India                          1\n",
       "Name: Applicant_Qualification, dtype: int64"
      ]
     },
     "metadata": {},
     "execution_count": 297
    }
   ],
   "metadata": {}
  },
  {
   "cell_type": "code",
   "execution_count": 298,
   "source": [
    "updated_data.Applicant_Qualification.fillna(updated_data.Applicant_Qualification.mode()[0], inplace=True) \r\n",
    "updated_data_test.Applicant_Qualification.fillna(updated_data_test.Applicant_Qualification.mode()[0], inplace=True) \r\n"
   ],
   "outputs": [],
   "metadata": {}
  },
  {
   "cell_type": "code",
   "execution_count": 299,
   "source": [
    "updated_data_test.Applicant_Qualification.value_counts()"
   ],
   "outputs": [
    {
     "output_type": "execute_result",
     "data": {
      "text/plain": [
       "Graduate                                                                              3419\n",
       "Class XII                                                                             1357\n",
       "Others                                                                                 171\n",
       "Masters of Business Administration                                                      71\n",
       "Class X                                                                                 19\n",
       "Professional Qualification in Marketing                                                  5\n",
       "Associate / Fellow of Institute of Chartered Accountans of India                         2\n",
       "Associate/Fellow of Institute of Institute of Costs and Works Accountants of India       1\n",
       "Name: Applicant_Qualification, dtype: int64"
      ]
     },
     "metadata": {},
     "execution_count": 299
    }
   ],
   "metadata": {}
  },
  {
   "cell_type": "code",
   "execution_count": 300,
   "source": [
    "#decreasing the number of categories\r\n",
    "graduate_mapping = {\"Class XII\": \"Class XII\", \"Graduate\": \"Graduate\", \"Class X\":\"Class X\", \"Others\": \"Others\", \"Masters of Business Administration\":\"PostGrad\", \"Associate / Fellow of Institute of Chartered Accountans of India\":\"PostGrad\", \"Associate/Fellow of Institute of Company Secretories of India\":\"PostGrad\", \"Certified Associateship of Indian Institute of Bankers\": \"PostGrad\", \"Associate/Fellow of Insurance Institute of India\": \"PostGrad\", \"Associate/Fellow of Acturial Society of India\":\"PostGrad\", \"Professional Qualification in Marketing\": \"PostGrad\"}"
   ],
   "outputs": [],
   "metadata": {}
  },
  {
   "cell_type": "code",
   "execution_count": 301,
   "source": [
    "updated_data.Applicant_Qualification = updated_data.Applicant_Qualification.map(graduate_mapping)\r\n",
    "updated_data_test.Applicant_Qualification = updated_data_test.Applicant_Qualification.map(graduate_mapping)\r\n"
   ],
   "outputs": [],
   "metadata": {}
  },
  {
   "cell_type": "code",
   "execution_count": 302,
   "source": [
    "updated_data.Applicant_Qualification.value_counts()"
   ],
   "outputs": [
    {
     "output_type": "execute_result",
     "data": {
      "text/plain": [
       "Class XII    5497\n",
       "Graduate     2958\n",
       "Class X       195\n",
       "Others        116\n",
       "PostGrad       78\n",
       "Name: Applicant_Qualification, dtype: int64"
      ]
     },
     "metadata": {},
     "execution_count": 302
    }
   ],
   "metadata": {}
  },
  {
   "cell_type": "code",
   "execution_count": 303,
   "source": [
    "# Applicant Occupation\r\n",
    "\r\n",
    "updated_data.Applicant_Occupation.value_counts()"
   ],
   "outputs": [
    {
     "output_type": "execute_result",
     "data": {
      "text/plain": [
       "Salaried         3546\n",
       "Business         2157\n",
       "Others           1809\n",
       "Self Employed     146\n",
       "Student            96\n",
       "Name: Applicant_Occupation, dtype: int64"
      ]
     },
     "metadata": {},
     "execution_count": 303
    }
   ],
   "metadata": {}
  },
  {
   "cell_type": "code",
   "execution_count": 304,
   "source": [
    "# Applicant Occupation\r\n",
    "\r\n",
    "updated_data_test.Applicant_Occupation.value_counts()"
   ],
   "outputs": [
    {
     "output_type": "execute_result",
     "data": {
      "text/plain": [
       "Salaried         2560\n",
       "Business          646\n",
       "Others            506\n",
       "Self Employed     310\n",
       "Student            19\n",
       "Name: Applicant_Occupation, dtype: int64"
      ]
     },
     "metadata": {},
     "execution_count": 304
    }
   ],
   "metadata": {}
  },
  {
   "cell_type": "code",
   "execution_count": 305,
   "source": [
    "updated_data.Applicant_Occupation.fillna(\"Unknown\", inplace=True)\r\n",
    "updated_data_test.Applicant_Occupation.fillna(\"Unknown\", inplace=True)\r\n"
   ],
   "outputs": [],
   "metadata": {}
  },
  {
   "cell_type": "code",
   "execution_count": 306,
   "source": [
    "updated_data_test.Applicant_Occupation.isna().sum()"
   ],
   "outputs": [
    {
     "output_type": "execute_result",
     "data": {
      "text/plain": [
       "0"
      ]
     },
     "metadata": {},
     "execution_count": 306
    }
   ],
   "metadata": {}
  },
  {
   "cell_type": "code",
   "execution_count": 307,
   "source": [
    "# Find the age of applicant and managers.\r\n",
    "updated_data.Applicant_BirthDate = pd.to_datetime(updated_data.Applicant_BirthDate)\r\n",
    "updated_data_test.Applicant_BirthDate = pd.to_datetime(updated_data_test.Applicant_BirthDate)\r\n",
    "\r\n",
    "updated_data.Manager_DoB = pd.to_datetime(updated_data.Manager_DoB)\r\n",
    "updated_data_test.Manager_DoB = pd.to_datetime(updated_data_test.Manager_DoB)\r\n",
    "\r\n",
    "updated_data.Manager_DOJ = pd.to_datetime(updated_data.Manager_DOJ)\r\n",
    "updated_data_test.Manager_DOJ = pd.to_datetime(updated_data_test.Manager_DOJ)\r\n",
    "\r\n",
    "updated_data.Application_Receipt_Date = pd.to_datetime(updated_data.Application_Receipt_Date)\r\n",
    "updated_data_test.Application_Receipt_Date = pd.to_datetime(updated_data_test.Application_Receipt_Date)\r\n"
   ],
   "outputs": [],
   "metadata": {}
  },
  {
   "cell_type": "code",
   "execution_count": 308,
   "source": [
    "#Update Data\r\n",
    "\r\n",
    "def timestamp_functions(df):\r\n",
    "    df[\"Applicant_Age\"] = (df.Application_Receipt_Date.dt.year - df.Applicant_BirthDate.dt.year) - ((df.Application_Receipt_Date.dt.month - df.Applicant_BirthDate.dt.month) < 0)\r\n",
    "    df[\"Manager_Age\"] = (df.Application_Receipt_Date.dt.year - df.Manager_DoB.dt.year) - ((df.Application_Receipt_Date.dt.month - df.Manager_DoB.dt.month) < 0)\r\n",
    "    df[\"Manager_Tenure\"] = (df.Application_Receipt_Date.dt.year - df.Manager_DOJ.dt.year) * 12 + ((df.Application_Receipt_Date.dt.month - df.Manager_DOJ.dt.month))\r\n",
    "    df[\"Application_Receipt_Month\"] = df.Application_Receipt_Date.dt.month\r\n",
    "    df[\"Application_Receipt_Year\"] = df.Application_Receipt_Date.dt.year"
   ],
   "outputs": [],
   "metadata": {}
  },
  {
   "cell_type": "code",
   "execution_count": 309,
   "source": [
    "timestamp_functions(updated_data_test)\r\n",
    "timestamp_functions(updated_data)"
   ],
   "outputs": [],
   "metadata": {}
  },
  {
   "cell_type": "markdown",
   "source": [
    " We can now drop Applicant_birthDate, Manager_DOJ, Manager_DoB, Application_Receipt_Date"
   ],
   "metadata": {}
  },
  {
   "cell_type": "code",
   "execution_count": 310,
   "source": [
    "updated_data_test.drop(['Application_Receipt_Date','Applicant_BirthDate', 'Manager_DOJ', 'Manager_DoB'], axis=1, inplace=True)\r\n",
    "updated_data.drop(['Application_Receipt_Date','Applicant_BirthDate', 'Manager_DOJ', 'Manager_DoB'], axis=1, inplace=True)\r\n",
    "#'Application_Receipt_Date','Applicant_BirthDate', 'Manager_DOJ', 'Manager_DoB'"
   ],
   "outputs": [],
   "metadata": {}
  },
  {
   "cell_type": "code",
   "execution_count": 311,
   "source": [
    "nullvals = pd.DataFrame(\r\n",
    "    {\r\n",
    "        \"Train_data\": updated_data.isna().sum(),\r\n",
    "        \"Test_data\": updated_data_test.isna().sum()\r\n",
    "    }\r\n",
    ")\r\n",
    "\r\n",
    "nullvals\r\n"
   ],
   "outputs": [
    {
     "output_type": "execute_result",
     "data": {
      "text/html": [
       "<div>\n",
       "<style scoped>\n",
       "    .dataframe tbody tr th:only-of-type {\n",
       "        vertical-align: middle;\n",
       "    }\n",
       "\n",
       "    .dataframe tbody tr th {\n",
       "        vertical-align: top;\n",
       "    }\n",
       "\n",
       "    .dataframe thead th {\n",
       "        text-align: right;\n",
       "    }\n",
       "</style>\n",
       "<table border=\"1\" class=\"dataframe\">\n",
       "  <thead>\n",
       "    <tr style=\"text-align: right;\">\n",
       "      <th></th>\n",
       "      <th>Train_data</th>\n",
       "      <th>Test_data</th>\n",
       "    </tr>\n",
       "  </thead>\n",
       "  <tbody>\n",
       "    <tr>\n",
       "      <th>Applicant_Age</th>\n",
       "      <td>59</td>\n",
       "      <td>23.0</td>\n",
       "    </tr>\n",
       "    <tr>\n",
       "      <th>Applicant_Gender</th>\n",
       "      <td>0</td>\n",
       "      <td>0.0</td>\n",
       "    </tr>\n",
       "    <tr>\n",
       "      <th>Applicant_Marital_Status</th>\n",
       "      <td>0</td>\n",
       "      <td>0.0</td>\n",
       "    </tr>\n",
       "    <tr>\n",
       "      <th>Applicant_Occupation</th>\n",
       "      <td>0</td>\n",
       "      <td>0.0</td>\n",
       "    </tr>\n",
       "    <tr>\n",
       "      <th>Applicant_Qualification</th>\n",
       "      <td>0</td>\n",
       "      <td>1.0</td>\n",
       "    </tr>\n",
       "    <tr>\n",
       "      <th>Application_Receipt_Month</th>\n",
       "      <td>0</td>\n",
       "      <td>0.0</td>\n",
       "    </tr>\n",
       "    <tr>\n",
       "      <th>Application_Receipt_Year</th>\n",
       "      <td>0</td>\n",
       "      <td>0.0</td>\n",
       "    </tr>\n",
       "    <tr>\n",
       "      <th>Business_Sourced</th>\n",
       "      <td>0</td>\n",
       "      <td>NaN</td>\n",
       "    </tr>\n",
       "    <tr>\n",
       "      <th>ID</th>\n",
       "      <td>0</td>\n",
       "      <td>0.0</td>\n",
       "    </tr>\n",
       "    <tr>\n",
       "      <th>Manager_Age</th>\n",
       "      <td>0</td>\n",
       "      <td>824.0</td>\n",
       "    </tr>\n",
       "    <tr>\n",
       "      <th>Manager_Business</th>\n",
       "      <td>0</td>\n",
       "      <td>824.0</td>\n",
       "    </tr>\n",
       "    <tr>\n",
       "      <th>Manager_Current_Designation</th>\n",
       "      <td>0</td>\n",
       "      <td>824.0</td>\n",
       "    </tr>\n",
       "    <tr>\n",
       "      <th>Manager_Gender</th>\n",
       "      <td>0</td>\n",
       "      <td>824.0</td>\n",
       "    </tr>\n",
       "    <tr>\n",
       "      <th>Manager_Grade</th>\n",
       "      <td>0</td>\n",
       "      <td>824.0</td>\n",
       "    </tr>\n",
       "    <tr>\n",
       "      <th>Manager_Joining_Designation</th>\n",
       "      <td>0</td>\n",
       "      <td>824.0</td>\n",
       "    </tr>\n",
       "    <tr>\n",
       "      <th>Manager_Num_Application</th>\n",
       "      <td>0</td>\n",
       "      <td>824.0</td>\n",
       "    </tr>\n",
       "    <tr>\n",
       "      <th>Manager_Num_Coded</th>\n",
       "      <td>0</td>\n",
       "      <td>824.0</td>\n",
       "    </tr>\n",
       "    <tr>\n",
       "      <th>Manager_Num_Products</th>\n",
       "      <td>0</td>\n",
       "      <td>824.0</td>\n",
       "    </tr>\n",
       "    <tr>\n",
       "      <th>Manager_Status</th>\n",
       "      <td>0</td>\n",
       "      <td>824.0</td>\n",
       "    </tr>\n",
       "    <tr>\n",
       "      <th>Manager_Tenure</th>\n",
       "      <td>0</td>\n",
       "      <td>824.0</td>\n",
       "    </tr>\n",
       "    <tr>\n",
       "      <th>Office_PIN</th>\n",
       "      <td>0</td>\n",
       "      <td>0.0</td>\n",
       "    </tr>\n",
       "  </tbody>\n",
       "</table>\n",
       "</div>"
      ],
      "text/plain": [
       "                             Train_data  Test_data\n",
       "Applicant_Age                        59       23.0\n",
       "Applicant_Gender                      0        0.0\n",
       "Applicant_Marital_Status              0        0.0\n",
       "Applicant_Occupation                  0        0.0\n",
       "Applicant_Qualification               0        1.0\n",
       "Application_Receipt_Month             0        0.0\n",
       "Application_Receipt_Year              0        0.0\n",
       "Business_Sourced                      0        NaN\n",
       "ID                                    0        0.0\n",
       "Manager_Age                           0      824.0\n",
       "Manager_Business                      0      824.0\n",
       "Manager_Current_Designation           0      824.0\n",
       "Manager_Gender                        0      824.0\n",
       "Manager_Grade                         0      824.0\n",
       "Manager_Joining_Designation           0      824.0\n",
       "Manager_Num_Application               0      824.0\n",
       "Manager_Num_Coded                     0      824.0\n",
       "Manager_Num_Products                  0      824.0\n",
       "Manager_Status                        0      824.0\n",
       "Manager_Tenure                        0      824.0\n",
       "Office_PIN                            0        0.0"
      ]
     },
     "metadata": {},
     "execution_count": 311
    }
   ],
   "metadata": {}
  },
  {
   "cell_type": "code",
   "execution_count": 312,
   "source": [
    "updated_data.Applicant_Age.fillna(updated_data.Applicant_Age.mean(), inplace=True) \r\n",
    "updated_data_test.Applicant_Age.fillna(updated_data_test.Applicant_Age.mean(), inplace=True) \r\n"
   ],
   "outputs": [],
   "metadata": {}
  },
  {
   "cell_type": "code",
   "execution_count": 313,
   "source": [
    "updated_data.to_csv(\"updated_data.csv\", index=False)\r\n",
    "updated_data_test.to_csv(\"updated_data_test.csv\", index=False)"
   ],
   "outputs": [],
   "metadata": {}
  },
  {
   "cell_type": "code",
   "execution_count": 314,
   "source": [
    "data_encoded_clean = pd.read_csv(\"updated_data.csv\")\r\n",
    "data_encoded_clean_test = pd.read_csv(\"updated_data_test.csv\")\r\n"
   ],
   "outputs": [],
   "metadata": {}
  },
  {
   "cell_type": "code",
   "execution_count": 315,
   "source": [
    "data_encoded_clean.head()"
   ],
   "outputs": [
    {
     "output_type": "execute_result",
     "data": {
      "text/html": [
       "<div>\n",
       "<style scoped>\n",
       "    .dataframe tbody tr th:only-of-type {\n",
       "        vertical-align: middle;\n",
       "    }\n",
       "\n",
       "    .dataframe tbody tr th {\n",
       "        vertical-align: top;\n",
       "    }\n",
       "\n",
       "    .dataframe thead th {\n",
       "        text-align: right;\n",
       "    }\n",
       "</style>\n",
       "<table border=\"1\" class=\"dataframe\">\n",
       "  <thead>\n",
       "    <tr style=\"text-align: right;\">\n",
       "      <th></th>\n",
       "      <th>ID</th>\n",
       "      <th>Office_PIN</th>\n",
       "      <th>Applicant_Gender</th>\n",
       "      <th>Applicant_Marital_Status</th>\n",
       "      <th>Applicant_Occupation</th>\n",
       "      <th>Applicant_Qualification</th>\n",
       "      <th>Manager_Joining_Designation</th>\n",
       "      <th>Manager_Current_Designation</th>\n",
       "      <th>Manager_Grade</th>\n",
       "      <th>Manager_Status</th>\n",
       "      <th>Manager_Gender</th>\n",
       "      <th>Manager_Num_Application</th>\n",
       "      <th>Manager_Num_Coded</th>\n",
       "      <th>Manager_Business</th>\n",
       "      <th>Manager_Num_Products</th>\n",
       "      <th>Business_Sourced</th>\n",
       "      <th>Applicant_Age</th>\n",
       "      <th>Manager_Age</th>\n",
       "      <th>Manager_Tenure</th>\n",
       "      <th>Application_Receipt_Month</th>\n",
       "      <th>Application_Receipt_Year</th>\n",
       "    </tr>\n",
       "  </thead>\n",
       "  <tbody>\n",
       "    <tr>\n",
       "      <th>0</th>\n",
       "      <td>FIN1000001</td>\n",
       "      <td>842001</td>\n",
       "      <td>M</td>\n",
       "      <td>M</td>\n",
       "      <td>Others</td>\n",
       "      <td>Graduate</td>\n",
       "      <td>Level 1</td>\n",
       "      <td>Level 2</td>\n",
       "      <td>3.0</td>\n",
       "      <td>Confirmation</td>\n",
       "      <td>M</td>\n",
       "      <td>2.0</td>\n",
       "      <td>1.0</td>\n",
       "      <td>335249.0</td>\n",
       "      <td>28.0</td>\n",
       "      <td>0</td>\n",
       "      <td>35.0</td>\n",
       "      <td>29</td>\n",
       "      <td>17</td>\n",
       "      <td>4</td>\n",
       "      <td>2007</td>\n",
       "    </tr>\n",
       "    <tr>\n",
       "      <th>1</th>\n",
       "      <td>FIN1000002</td>\n",
       "      <td>842001</td>\n",
       "      <td>M</td>\n",
       "      <td>S</td>\n",
       "      <td>Others</td>\n",
       "      <td>Class XII</td>\n",
       "      <td>Level 1</td>\n",
       "      <td>Level 2</td>\n",
       "      <td>3.0</td>\n",
       "      <td>Confirmation</td>\n",
       "      <td>M</td>\n",
       "      <td>2.0</td>\n",
       "      <td>1.0</td>\n",
       "      <td>335249.0</td>\n",
       "      <td>28.0</td>\n",
       "      <td>1</td>\n",
       "      <td>24.0</td>\n",
       "      <td>29</td>\n",
       "      <td>17</td>\n",
       "      <td>4</td>\n",
       "      <td>2007</td>\n",
       "    </tr>\n",
       "    <tr>\n",
       "      <th>2</th>\n",
       "      <td>FIN1000003</td>\n",
       "      <td>800001</td>\n",
       "      <td>M</td>\n",
       "      <td>M</td>\n",
       "      <td>Business</td>\n",
       "      <td>Class XII</td>\n",
       "      <td>Level 1</td>\n",
       "      <td>Level 1</td>\n",
       "      <td>2.0</td>\n",
       "      <td>Confirmation</td>\n",
       "      <td>M</td>\n",
       "      <td>0.0</td>\n",
       "      <td>0.0</td>\n",
       "      <td>357184.0</td>\n",
       "      <td>24.0</td>\n",
       "      <td>0</td>\n",
       "      <td>41.0</td>\n",
       "      <td>38</td>\n",
       "      <td>11</td>\n",
       "      <td>4</td>\n",
       "      <td>2007</td>\n",
       "    </tr>\n",
       "    <tr>\n",
       "      <th>3</th>\n",
       "      <td>FIN1000004</td>\n",
       "      <td>814112</td>\n",
       "      <td>M</td>\n",
       "      <td>S</td>\n",
       "      <td>Salaried</td>\n",
       "      <td>Class XII</td>\n",
       "      <td>Level 1</td>\n",
       "      <td>Level 3</td>\n",
       "      <td>4.0</td>\n",
       "      <td>Confirmation</td>\n",
       "      <td>F</td>\n",
       "      <td>0.0</td>\n",
       "      <td>0.0</td>\n",
       "      <td>318356.0</td>\n",
       "      <td>22.0</td>\n",
       "      <td>0</td>\n",
       "      <td>19.0</td>\n",
       "      <td>28</td>\n",
       "      <td>44</td>\n",
       "      <td>4</td>\n",
       "      <td>2007</td>\n",
       "    </tr>\n",
       "    <tr>\n",
       "      <th>4</th>\n",
       "      <td>FIN1000005</td>\n",
       "      <td>814112</td>\n",
       "      <td>M</td>\n",
       "      <td>M</td>\n",
       "      <td>Others</td>\n",
       "      <td>Class XII</td>\n",
       "      <td>Level 1</td>\n",
       "      <td>Level 1</td>\n",
       "      <td>2.0</td>\n",
       "      <td>Confirmation</td>\n",
       "      <td>M</td>\n",
       "      <td>2.0</td>\n",
       "      <td>1.0</td>\n",
       "      <td>230402.0</td>\n",
       "      <td>17.0</td>\n",
       "      <td>0</td>\n",
       "      <td>21.0</td>\n",
       "      <td>36</td>\n",
       "      <td>11</td>\n",
       "      <td>4</td>\n",
       "      <td>2007</td>\n",
       "    </tr>\n",
       "  </tbody>\n",
       "</table>\n",
       "</div>"
      ],
      "text/plain": [
       "           ID  Office_PIN Applicant_Gender Applicant_Marital_Status  \\\n",
       "0  FIN1000001      842001                M                        M   \n",
       "1  FIN1000002      842001                M                        S   \n",
       "2  FIN1000003      800001                M                        M   \n",
       "3  FIN1000004      814112                M                        S   \n",
       "4  FIN1000005      814112                M                        M   \n",
       "\n",
       "  Applicant_Occupation Applicant_Qualification Manager_Joining_Designation  \\\n",
       "0               Others                Graduate                     Level 1   \n",
       "1               Others               Class XII                     Level 1   \n",
       "2             Business               Class XII                     Level 1   \n",
       "3             Salaried               Class XII                     Level 1   \n",
       "4               Others               Class XII                     Level 1   \n",
       "\n",
       "  Manager_Current_Designation  Manager_Grade Manager_Status Manager_Gender  \\\n",
       "0                     Level 2            3.0   Confirmation              M   \n",
       "1                     Level 2            3.0   Confirmation              M   \n",
       "2                     Level 1            2.0   Confirmation              M   \n",
       "3                     Level 3            4.0   Confirmation              F   \n",
       "4                     Level 1            2.0   Confirmation              M   \n",
       "\n",
       "   Manager_Num_Application  Manager_Num_Coded  Manager_Business  \\\n",
       "0                      2.0                1.0          335249.0   \n",
       "1                      2.0                1.0          335249.0   \n",
       "2                      0.0                0.0          357184.0   \n",
       "3                      0.0                0.0          318356.0   \n",
       "4                      2.0                1.0          230402.0   \n",
       "\n",
       "   Manager_Num_Products  Business_Sourced  Applicant_Age  Manager_Age  \\\n",
       "0                  28.0                 0           35.0           29   \n",
       "1                  28.0                 1           24.0           29   \n",
       "2                  24.0                 0           41.0           38   \n",
       "3                  22.0                 0           19.0           28   \n",
       "4                  17.0                 0           21.0           36   \n",
       "\n",
       "   Manager_Tenure  Application_Receipt_Month  Application_Receipt_Year  \n",
       "0              17                          4                      2007  \n",
       "1              17                          4                      2007  \n",
       "2              11                          4                      2007  \n",
       "3              44                          4                      2007  \n",
       "4              11                          4                      2007  "
      ]
     },
     "metadata": {},
     "execution_count": 315
    }
   ],
   "metadata": {}
  },
  {
   "cell_type": "code",
   "execution_count": 316,
   "source": [
    "designation_map = {\r\n",
    "    \"Level 1\": 1,\r\n",
    "    \"Level 2\": 2,\r\n",
    "    \"Level 3\": 3,\r\n",
    "    \"Level 4\": 4,\r\n",
    "    \"Level 5\": 5,\r\n",
    "    \"Level 6\": 6,\r\n",
    "    \"Level 7\": 7,\r\n",
    "    \"Other\" : 0\r\n",
    "\r\n",
    "\r\n",
    "}"
   ],
   "outputs": [],
   "metadata": {}
  },
  {
   "cell_type": "code",
   "execution_count": 317,
   "source": [
    "data_encoded_clean.Manager_Joining_Designation = data_encoded_clean.Manager_Joining_Designation.map(designation_map)\r\n",
    "data_encoded_clean_test.Manager_Joining_Designation = data_encoded_clean_test.Manager_Joining_Designation.map(designation_map)"
   ],
   "outputs": [],
   "metadata": {}
  },
  {
   "cell_type": "code",
   "execution_count": 318,
   "source": [
    "data_encoded_clean.Manager_Current_Designation = data_encoded_clean.Manager_Current_Designation.map(designation_map)\r\n",
    "data_encoded_clean_test.Manager_Current_Designation = data_encoded_clean_test.Manager_Current_Designation.map(designation_map)"
   ],
   "outputs": [],
   "metadata": {}
  },
  {
   "cell_type": "code",
   "execution_count": 319,
   "source": [
    "data_encoded_clean.to_csv(\"updated_data.csv\", index=False)\r\n",
    "data_encoded_clean_test.to_csv(\"updated_data_test.csv\", index=False)"
   ],
   "outputs": [],
   "metadata": {}
  },
  {
   "cell_type": "code",
   "execution_count": 16,
   "source": [
    "cor = data_cleaned.corr().abs()\r\n",
    "cor\r\n",
    "\r\n",
    "s = cor.unstack()\r\n",
    "so = s.sort_values(ascending=False)\r\n",
    "\r\n",
    "cor[[\"Manager_Grade\", \"Business_Sourced\"]]"
   ],
   "outputs": [
    {
     "output_type": "execute_result",
     "data": {
      "text/html": [
       "<div>\n",
       "<style scoped>\n",
       "    .dataframe tbody tr th:only-of-type {\n",
       "        vertical-align: middle;\n",
       "    }\n",
       "\n",
       "    .dataframe tbody tr th {\n",
       "        vertical-align: top;\n",
       "    }\n",
       "\n",
       "    .dataframe thead th {\n",
       "        text-align: right;\n",
       "    }\n",
       "</style>\n",
       "<table border=\"1\" class=\"dataframe\">\n",
       "  <thead>\n",
       "    <tr style=\"text-align: right;\">\n",
       "      <th></th>\n",
       "      <th>Manager_Grade</th>\n",
       "      <th>Business_Sourced</th>\n",
       "    </tr>\n",
       "  </thead>\n",
       "  <tbody>\n",
       "    <tr>\n",
       "      <th>Office_PIN</th>\n",
       "      <td>0.077063</td>\n",
       "      <td>0.027682</td>\n",
       "    </tr>\n",
       "    <tr>\n",
       "      <th>Manager_Joining_Designation</th>\n",
       "      <td>0.511115</td>\n",
       "      <td>0.051308</td>\n",
       "    </tr>\n",
       "    <tr>\n",
       "      <th>Manager_Current_Designation</th>\n",
       "      <td>0.972355</td>\n",
       "      <td>0.054245</td>\n",
       "    </tr>\n",
       "    <tr>\n",
       "      <th>Manager_Grade</th>\n",
       "      <td>1.000000</td>\n",
       "      <td>0.059363</td>\n",
       "    </tr>\n",
       "    <tr>\n",
       "      <th>Manager_Num_Application</th>\n",
       "      <td>0.022524</td>\n",
       "      <td>0.037593</td>\n",
       "    </tr>\n",
       "    <tr>\n",
       "      <th>Manager_Num_Coded</th>\n",
       "      <td>0.002833</td>\n",
       "      <td>0.013565</td>\n",
       "    </tr>\n",
       "    <tr>\n",
       "      <th>Manager_Business</th>\n",
       "      <td>0.322211</td>\n",
       "      <td>0.031578</td>\n",
       "    </tr>\n",
       "    <tr>\n",
       "      <th>Manager_Num_Products</th>\n",
       "      <td>0.210353</td>\n",
       "      <td>0.011000</td>\n",
       "    </tr>\n",
       "    <tr>\n",
       "      <th>Business_Sourced</th>\n",
       "      <td>0.059363</td>\n",
       "      <td>1.000000</td>\n",
       "    </tr>\n",
       "    <tr>\n",
       "      <th>Applicant_Age</th>\n",
       "      <td>0.077743</td>\n",
       "      <td>0.066705</td>\n",
       "    </tr>\n",
       "    <tr>\n",
       "      <th>Manager_Age</th>\n",
       "      <td>0.217981</td>\n",
       "      <td>0.025506</td>\n",
       "    </tr>\n",
       "    <tr>\n",
       "      <th>Manager_Tenure</th>\n",
       "      <td>0.453864</td>\n",
       "      <td>0.001467</td>\n",
       "    </tr>\n",
       "    <tr>\n",
       "      <th>Application_Receipt_Month</th>\n",
       "      <td>0.028386</td>\n",
       "      <td>0.034366</td>\n",
       "    </tr>\n",
       "    <tr>\n",
       "      <th>Application_Receipt_Year</th>\n",
       "      <td>0.019462</td>\n",
       "      <td>0.040776</td>\n",
       "    </tr>\n",
       "  </tbody>\n",
       "</table>\n",
       "</div>"
      ],
      "text/plain": [
       "                             Manager_Grade  Business_Sourced\n",
       "Office_PIN                        0.077063          0.027682\n",
       "Manager_Joining_Designation       0.511115          0.051308\n",
       "Manager_Current_Designation       0.972355          0.054245\n",
       "Manager_Grade                     1.000000          0.059363\n",
       "Manager_Num_Application           0.022524          0.037593\n",
       "Manager_Num_Coded                 0.002833          0.013565\n",
       "Manager_Business                  0.322211          0.031578\n",
       "Manager_Num_Products              0.210353          0.011000\n",
       "Business_Sourced                  0.059363          1.000000\n",
       "Applicant_Age                     0.077743          0.066705\n",
       "Manager_Age                       0.217981          0.025506\n",
       "Manager_Tenure                    0.453864          0.001467\n",
       "Application_Receipt_Month         0.028386          0.034366\n",
       "Application_Receipt_Year          0.019462          0.040776"
      ]
     },
     "metadata": {},
     "execution_count": 16
    }
   ],
   "metadata": {}
  },
  {
   "cell_type": "code",
   "execution_count": 5,
   "source": [
    "data_cleaned.head()"
   ],
   "outputs": [
    {
     "output_type": "execute_result",
     "data": {
      "text/html": [
       "<div>\n",
       "<style scoped>\n",
       "    .dataframe tbody tr th:only-of-type {\n",
       "        vertical-align: middle;\n",
       "    }\n",
       "\n",
       "    .dataframe tbody tr th {\n",
       "        vertical-align: top;\n",
       "    }\n",
       "\n",
       "    .dataframe thead th {\n",
       "        text-align: right;\n",
       "    }\n",
       "</style>\n",
       "<table border=\"1\" class=\"dataframe\">\n",
       "  <thead>\n",
       "    <tr style=\"text-align: right;\">\n",
       "      <th></th>\n",
       "      <th>ID</th>\n",
       "      <th>Office_PIN</th>\n",
       "      <th>Applicant_Gender</th>\n",
       "      <th>Applicant_Marital_Status</th>\n",
       "      <th>Applicant_Occupation</th>\n",
       "      <th>Applicant_Qualification</th>\n",
       "      <th>Manager_Joining_Designation</th>\n",
       "      <th>Manager_Current_Designation</th>\n",
       "      <th>Manager_Grade</th>\n",
       "      <th>Manager_Status</th>\n",
       "      <th>Manager_Gender</th>\n",
       "      <th>Manager_Num_Application</th>\n",
       "      <th>Manager_Num_Coded</th>\n",
       "      <th>Manager_Business</th>\n",
       "      <th>Manager_Num_Products</th>\n",
       "      <th>Business_Sourced</th>\n",
       "      <th>Applicant_Age</th>\n",
       "      <th>Manager_Age</th>\n",
       "      <th>Manager_Tenure</th>\n",
       "      <th>Application_Receipt_Month</th>\n",
       "      <th>Application_Receipt_Year</th>\n",
       "    </tr>\n",
       "  </thead>\n",
       "  <tbody>\n",
       "    <tr>\n",
       "      <th>0</th>\n",
       "      <td>FIN1000001</td>\n",
       "      <td>842001</td>\n",
       "      <td>M</td>\n",
       "      <td>M</td>\n",
       "      <td>Others</td>\n",
       "      <td>Graduate</td>\n",
       "      <td>1.0</td>\n",
       "      <td>2.0</td>\n",
       "      <td>3.0</td>\n",
       "      <td>Confirmation</td>\n",
       "      <td>M</td>\n",
       "      <td>2.0</td>\n",
       "      <td>1.0</td>\n",
       "      <td>335249.0</td>\n",
       "      <td>28.0</td>\n",
       "      <td>0</td>\n",
       "      <td>35.0</td>\n",
       "      <td>29.0</td>\n",
       "      <td>17.0</td>\n",
       "      <td>4</td>\n",
       "      <td>2007</td>\n",
       "    </tr>\n",
       "    <tr>\n",
       "      <th>1</th>\n",
       "      <td>FIN1000002</td>\n",
       "      <td>842001</td>\n",
       "      <td>M</td>\n",
       "      <td>S</td>\n",
       "      <td>Others</td>\n",
       "      <td>Class XII</td>\n",
       "      <td>1.0</td>\n",
       "      <td>2.0</td>\n",
       "      <td>3.0</td>\n",
       "      <td>Confirmation</td>\n",
       "      <td>M</td>\n",
       "      <td>2.0</td>\n",
       "      <td>1.0</td>\n",
       "      <td>335249.0</td>\n",
       "      <td>28.0</td>\n",
       "      <td>1</td>\n",
       "      <td>24.0</td>\n",
       "      <td>29.0</td>\n",
       "      <td>17.0</td>\n",
       "      <td>4</td>\n",
       "      <td>2007</td>\n",
       "    </tr>\n",
       "    <tr>\n",
       "      <th>2</th>\n",
       "      <td>FIN1000003</td>\n",
       "      <td>800001</td>\n",
       "      <td>M</td>\n",
       "      <td>M</td>\n",
       "      <td>Business</td>\n",
       "      <td>Class XII</td>\n",
       "      <td>1.0</td>\n",
       "      <td>1.0</td>\n",
       "      <td>2.0</td>\n",
       "      <td>Confirmation</td>\n",
       "      <td>M</td>\n",
       "      <td>0.0</td>\n",
       "      <td>0.0</td>\n",
       "      <td>357184.0</td>\n",
       "      <td>24.0</td>\n",
       "      <td>0</td>\n",
       "      <td>41.0</td>\n",
       "      <td>38.0</td>\n",
       "      <td>11.0</td>\n",
       "      <td>4</td>\n",
       "      <td>2007</td>\n",
       "    </tr>\n",
       "    <tr>\n",
       "      <th>3</th>\n",
       "      <td>FIN1000004</td>\n",
       "      <td>814112</td>\n",
       "      <td>M</td>\n",
       "      <td>S</td>\n",
       "      <td>Salaried</td>\n",
       "      <td>Class XII</td>\n",
       "      <td>1.0</td>\n",
       "      <td>3.0</td>\n",
       "      <td>4.0</td>\n",
       "      <td>Confirmation</td>\n",
       "      <td>F</td>\n",
       "      <td>0.0</td>\n",
       "      <td>0.0</td>\n",
       "      <td>318356.0</td>\n",
       "      <td>22.0</td>\n",
       "      <td>0</td>\n",
       "      <td>19.0</td>\n",
       "      <td>28.0</td>\n",
       "      <td>44.0</td>\n",
       "      <td>4</td>\n",
       "      <td>2007</td>\n",
       "    </tr>\n",
       "    <tr>\n",
       "      <th>4</th>\n",
       "      <td>FIN1000005</td>\n",
       "      <td>814112</td>\n",
       "      <td>M</td>\n",
       "      <td>M</td>\n",
       "      <td>Others</td>\n",
       "      <td>Class XII</td>\n",
       "      <td>1.0</td>\n",
       "      <td>1.0</td>\n",
       "      <td>2.0</td>\n",
       "      <td>Confirmation</td>\n",
       "      <td>M</td>\n",
       "      <td>2.0</td>\n",
       "      <td>1.0</td>\n",
       "      <td>230402.0</td>\n",
       "      <td>17.0</td>\n",
       "      <td>0</td>\n",
       "      <td>21.0</td>\n",
       "      <td>36.0</td>\n",
       "      <td>11.0</td>\n",
       "      <td>4</td>\n",
       "      <td>2007</td>\n",
       "    </tr>\n",
       "  </tbody>\n",
       "</table>\n",
       "</div>"
      ],
      "text/plain": [
       "           ID  Office_PIN Applicant_Gender Applicant_Marital_Status  \\\n",
       "0  FIN1000001      842001                M                        M   \n",
       "1  FIN1000002      842001                M                        S   \n",
       "2  FIN1000003      800001                M                        M   \n",
       "3  FIN1000004      814112                M                        S   \n",
       "4  FIN1000005      814112                M                        M   \n",
       "\n",
       "  Applicant_Occupation Applicant_Qualification  Manager_Joining_Designation  \\\n",
       "0               Others                Graduate                          1.0   \n",
       "1               Others               Class XII                          1.0   \n",
       "2             Business               Class XII                          1.0   \n",
       "3             Salaried               Class XII                          1.0   \n",
       "4               Others               Class XII                          1.0   \n",
       "\n",
       "   Manager_Current_Designation  Manager_Grade Manager_Status Manager_Gender  \\\n",
       "0                          2.0            3.0   Confirmation              M   \n",
       "1                          2.0            3.0   Confirmation              M   \n",
       "2                          1.0            2.0   Confirmation              M   \n",
       "3                          3.0            4.0   Confirmation              F   \n",
       "4                          1.0            2.0   Confirmation              M   \n",
       "\n",
       "   Manager_Num_Application  Manager_Num_Coded  Manager_Business  \\\n",
       "0                      2.0                1.0          335249.0   \n",
       "1                      2.0                1.0          335249.0   \n",
       "2                      0.0                0.0          357184.0   \n",
       "3                      0.0                0.0          318356.0   \n",
       "4                      2.0                1.0          230402.0   \n",
       "\n",
       "   Manager_Num_Products  Business_Sourced  Applicant_Age  Manager_Age  \\\n",
       "0                  28.0                 0           35.0         29.0   \n",
       "1                  28.0                 1           24.0         29.0   \n",
       "2                  24.0                 0           41.0         38.0   \n",
       "3                  22.0                 0           19.0         28.0   \n",
       "4                  17.0                 0           21.0         36.0   \n",
       "\n",
       "   Manager_Tenure  Application_Receipt_Month  Application_Receipt_Year  \n",
       "0            17.0                          4                      2007  \n",
       "1            17.0                          4                      2007  \n",
       "2            11.0                          4                      2007  \n",
       "3            44.0                          4                      2007  \n",
       "4            11.0                          4                      2007  "
      ]
     },
     "metadata": {},
     "execution_count": 5
    }
   ],
   "metadata": {}
  },
  {
   "cell_type": "code",
   "execution_count": 35,
   "source": [
    "data_cleaned.Manager_Tenure.median(), data_cleaned.Manager_Tenure.mean(), data_cleaned.Manager_Tenure.mode()[0] "
   ],
   "outputs": [
    {
     "output_type": "execute_result",
     "data": {
      "text/plain": [
       "(9.0, 17.735413839891454, 1.0)"
      ]
     },
     "metadata": {},
     "execution_count": 35
    }
   ],
   "metadata": {}
  },
  {
   "cell_type": "code",
   "execution_count": 25,
   "source": [
    "def manager_data(df):\r\n",
    "    df.Manager_Age.fillna(df.Manager_Age.median(), inplace=True)\r\n",
    "    df.Manager_Num_Application.fillna(df.Manager_Num_Application.mode()[0], inplace=True)    \r\n",
    "    df.Manager_Business.fillna(df.Manager_Business.mean(), inplace=True)   \r\n",
    "    df.Manager_Current_Designation.fillna(df.Manager_Current_Designation.mode()[0], inplace=True)  \r\n",
    "    df.Manager_Gender.fillna(df.Manager_Gender.mode()[0], inplace=True)  \r\n",
    "    df.Manager_Joining_Designation.fillna(df.Manager_Joining_Designation.mode()[0], inplace=True)  \r\n",
    "    df.Manager_Num_Coded.fillna(df.Manager_Num_Coded.mode()[0], inplace=True)     \r\n",
    "    df.Manager_Num_Products.fillna(df.Manager_Num_Products.median(), inplace=True)  \r\n",
    "    df.Manager_Status.fillna(df.Manager_Status.mode()[0], inplace=True)     \r\n",
    "    df.Manager_Tenure.fillna(df.Manager_Tenure.median(), inplace=True)       "
   ],
   "outputs": [],
   "metadata": {}
  },
  {
   "cell_type": "code",
   "execution_count": 37,
   "source": [
    "# data_cleaned.Manager_Age.fillna(data_cleaned.Manager_Age.median(), inplace=True)\r\n",
    "# data_cleaned.Manager_Num_Application.fillna(data_cleaned.Manager_Num_Application.mode()[0], inplace=True)    \r\n",
    "# data_cleaned.Manager_Business.fillna(data_cleaned.Manager_Business.mean(), inplace=True)   \r\n",
    "# df.Manager_Current_Designation.fillna(df.Manager_Current_Designation.mode()[0], inplace=True)  \r\n",
    "# df.Manager_Gender.fillna(df.Manager_Gender.mode()[0], inplace=True)  \r\n",
    "# df.Manager_Joining_Designation.fillna(df.Manager_Joining_Designation.mode()[0], inplace=True)  \r\n",
    "# df.Manager_Num_Coded.fillna(df.Manager_Num_Coded.mode()[0], inplace=True)     \r\n",
    "# df.Manager_Num_Products.fillna(df.Manager_Num_Products.median(), inplace=True)  \r\n",
    "# df.Manager_Status.fillna(df.Manager_Status.mode()[0], inplace=True)     \r\n",
    "# df.Manager_Tenure.fillna(df.Manager_Tenure.median(), inplace=True)       "
   ],
   "outputs": [],
   "metadata": {}
  },
  {
   "cell_type": "code",
   "execution_count": 131,
   "source": [
    "data_cleaned.drop(\"Manager_Grade\", inplace=True, axis=1)\r\n",
    "data_test_cleaned.drop(\"Manager_Grade\", inplace=True, axis=1)"
   ],
   "outputs": [],
   "metadata": {}
  },
  {
   "cell_type": "code",
   "execution_count": 82,
   "source": [
    "from geopy.geocoders import Nominatim\r\n",
    "geolocator = Nominatim(user_agent=\"geoapiExercises\")\r\n",
    "zipcode = data_cleaned.Office_PIN[3839]\r\n",
    "\r\n",
    "location = geolocator.geocode(zipcode)\r\n",
    "  \r\n",
    "# Displaying address details\r\n",
    "print(\"Zipcode:\",zipcode)\r\n",
    "print(\"Details of the Zipcode:\")\r\n",
    "print(location)"
   ],
   "outputs": [
    {
     "output_type": "stream",
     "name": "stdout",
     "text": [
      "Zipcode: 695014\n",
      "Details of the Zipcode:\n",
      "Thiruvananthapuram, Kerala, 695014, India\n"
     ]
    }
   ],
   "metadata": {}
  },
  {
   "cell_type": "code",
   "execution_count": 171,
   "source": [
    "def pin_loc_city(df):\r\n",
    "    for i in range(len(df)):\r\n",
    "        zipcode = df.Office_PIN[i]\r\n",
    "        location = geolocator.geocode(zipcode)\r\n",
    "        if (location):\r\n",
    "            loc = location.raw\r\n",
    "            df[\"City_Name\"][i] = loc['display_name'].split(',')[-3].strip()\r\n",
    "            df[\"Country_Name\"][i] = loc['display_name'].split(',')[-1].strip()        \r\n",
    "        else:\r\n",
    "            df[\"City_Name\"][i] = \"Unknown\"\r\n",
    "            df[\"Country_Name\"][i] = \"Unknown\"      \r\n",
    "\r\n",
    "    "
   ],
   "outputs": [],
   "metadata": {}
  },
  {
   "cell_type": "code",
   "execution_count": null,
   "source": [
    "((geolocator.geocode(data_cleaned.Office_PIN)).raw).split(',')[-3].strip()"
   ],
   "outputs": [],
   "metadata": {}
  },
  {
   "cell_type": "code",
   "execution_count": 147,
   "source": [
    "data_test_cleaned[\"City_Name\"] = \"Unknown\"\r\n",
    "data_test_cleaned[\"Country_Name\"] = \"Unknown\"\r\n",
    "\r\n",
    "data_cleaned[\"City_Name\"] = \"Unknown\"\r\n",
    "data_cleaned[\"Country_Name\"] = \"Unknown\""
   ],
   "outputs": [],
   "metadata": {}
  },
  {
   "cell_type": "code",
   "execution_count": 173,
   "source": [
    "data_cleaned.head()"
   ],
   "outputs": [
    {
     "output_type": "execute_result",
     "data": {
      "text/html": [
       "<div>\n",
       "<style scoped>\n",
       "    .dataframe tbody tr th:only-of-type {\n",
       "        vertical-align: middle;\n",
       "    }\n",
       "\n",
       "    .dataframe tbody tr th {\n",
       "        vertical-align: top;\n",
       "    }\n",
       "\n",
       "    .dataframe thead th {\n",
       "        text-align: right;\n",
       "    }\n",
       "</style>\n",
       "<table border=\"1\" class=\"dataframe\">\n",
       "  <thead>\n",
       "    <tr style=\"text-align: right;\">\n",
       "      <th></th>\n",
       "      <th>ID</th>\n",
       "      <th>Office_PIN</th>\n",
       "      <th>Applicant_Gender</th>\n",
       "      <th>Applicant_Marital_Status</th>\n",
       "      <th>Applicant_Occupation</th>\n",
       "      <th>Applicant_Qualification</th>\n",
       "      <th>Manager_Joining_Designation</th>\n",
       "      <th>Manager_Current_Designation</th>\n",
       "      <th>Manager_Status</th>\n",
       "      <th>Manager_Gender</th>\n",
       "      <th>Manager_Num_Application</th>\n",
       "      <th>Manager_Num_Coded</th>\n",
       "      <th>Manager_Business</th>\n",
       "      <th>Manager_Num_Products</th>\n",
       "      <th>Business_Sourced</th>\n",
       "      <th>Applicant_Age</th>\n",
       "      <th>Manager_Age</th>\n",
       "      <th>Manager_Tenure</th>\n",
       "      <th>Application_Receipt_Month</th>\n",
       "      <th>Application_Receipt_Year</th>\n",
       "      <th>City_Name</th>\n",
       "      <th>Country_Name</th>\n",
       "    </tr>\n",
       "  </thead>\n",
       "  <tbody>\n",
       "    <tr>\n",
       "      <th>0</th>\n",
       "      <td>FIN1000001</td>\n",
       "      <td>842001</td>\n",
       "      <td>M</td>\n",
       "      <td>M</td>\n",
       "      <td>Others</td>\n",
       "      <td>Graduate</td>\n",
       "      <td>1.0</td>\n",
       "      <td>2.0</td>\n",
       "      <td>Confirmation</td>\n",
       "      <td>M</td>\n",
       "      <td>2.0</td>\n",
       "      <td>1.0</td>\n",
       "      <td>335249.0</td>\n",
       "      <td>28.0</td>\n",
       "      <td>0</td>\n",
       "      <td>35.0</td>\n",
       "      <td>29.0</td>\n",
       "      <td>17.0</td>\n",
       "      <td>4</td>\n",
       "      <td>2007</td>\n",
       "      <td>Bihar</td>\n",
       "      <td>India</td>\n",
       "    </tr>\n",
       "    <tr>\n",
       "      <th>1</th>\n",
       "      <td>FIN1000002</td>\n",
       "      <td>842001</td>\n",
       "      <td>M</td>\n",
       "      <td>S</td>\n",
       "      <td>Others</td>\n",
       "      <td>Class XII</td>\n",
       "      <td>1.0</td>\n",
       "      <td>2.0</td>\n",
       "      <td>Confirmation</td>\n",
       "      <td>M</td>\n",
       "      <td>2.0</td>\n",
       "      <td>1.0</td>\n",
       "      <td>335249.0</td>\n",
       "      <td>28.0</td>\n",
       "      <td>1</td>\n",
       "      <td>24.0</td>\n",
       "      <td>29.0</td>\n",
       "      <td>17.0</td>\n",
       "      <td>4</td>\n",
       "      <td>2007</td>\n",
       "      <td>Bihar</td>\n",
       "      <td>India</td>\n",
       "    </tr>\n",
       "    <tr>\n",
       "      <th>2</th>\n",
       "      <td>FIN1000003</td>\n",
       "      <td>800001</td>\n",
       "      <td>M</td>\n",
       "      <td>M</td>\n",
       "      <td>Business</td>\n",
       "      <td>Class XII</td>\n",
       "      <td>1.0</td>\n",
       "      <td>1.0</td>\n",
       "      <td>Confirmation</td>\n",
       "      <td>M</td>\n",
       "      <td>0.0</td>\n",
       "      <td>0.0</td>\n",
       "      <td>357184.0</td>\n",
       "      <td>24.0</td>\n",
       "      <td>0</td>\n",
       "      <td>41.0</td>\n",
       "      <td>38.0</td>\n",
       "      <td>11.0</td>\n",
       "      <td>4</td>\n",
       "      <td>2007</td>\n",
       "      <td>Galați</td>\n",
       "      <td>România</td>\n",
       "    </tr>\n",
       "    <tr>\n",
       "      <th>3</th>\n",
       "      <td>FIN1000004</td>\n",
       "      <td>814112</td>\n",
       "      <td>M</td>\n",
       "      <td>S</td>\n",
       "      <td>Salaried</td>\n",
       "      <td>Class XII</td>\n",
       "      <td>1.0</td>\n",
       "      <td>3.0</td>\n",
       "      <td>Confirmation</td>\n",
       "      <td>F</td>\n",
       "      <td>0.0</td>\n",
       "      <td>0.0</td>\n",
       "      <td>318356.0</td>\n",
       "      <td>22.0</td>\n",
       "      <td>0</td>\n",
       "      <td>19.0</td>\n",
       "      <td>28.0</td>\n",
       "      <td>44.0</td>\n",
       "      <td>4</td>\n",
       "      <td>2007</td>\n",
       "      <td>Jharkhand</td>\n",
       "      <td>India</td>\n",
       "    </tr>\n",
       "    <tr>\n",
       "      <th>4</th>\n",
       "      <td>FIN1000005</td>\n",
       "      <td>814112</td>\n",
       "      <td>M</td>\n",
       "      <td>M</td>\n",
       "      <td>Others</td>\n",
       "      <td>Class XII</td>\n",
       "      <td>1.0</td>\n",
       "      <td>1.0</td>\n",
       "      <td>Confirmation</td>\n",
       "      <td>M</td>\n",
       "      <td>2.0</td>\n",
       "      <td>1.0</td>\n",
       "      <td>230402.0</td>\n",
       "      <td>17.0</td>\n",
       "      <td>0</td>\n",
       "      <td>21.0</td>\n",
       "      <td>36.0</td>\n",
       "      <td>11.0</td>\n",
       "      <td>4</td>\n",
       "      <td>2007</td>\n",
       "      <td>Jharkhand</td>\n",
       "      <td>India</td>\n",
       "    </tr>\n",
       "  </tbody>\n",
       "</table>\n",
       "</div>"
      ],
      "text/plain": [
       "           ID  Office_PIN Applicant_Gender Applicant_Marital_Status  \\\n",
       "0  FIN1000001      842001                M                        M   \n",
       "1  FIN1000002      842001                M                        S   \n",
       "2  FIN1000003      800001                M                        M   \n",
       "3  FIN1000004      814112                M                        S   \n",
       "4  FIN1000005      814112                M                        M   \n",
       "\n",
       "  Applicant_Occupation Applicant_Qualification  Manager_Joining_Designation  \\\n",
       "0               Others                Graduate                          1.0   \n",
       "1               Others               Class XII                          1.0   \n",
       "2             Business               Class XII                          1.0   \n",
       "3             Salaried               Class XII                          1.0   \n",
       "4               Others               Class XII                          1.0   \n",
       "\n",
       "   Manager_Current_Designation Manager_Status Manager_Gender  \\\n",
       "0                          2.0   Confirmation              M   \n",
       "1                          2.0   Confirmation              M   \n",
       "2                          1.0   Confirmation              M   \n",
       "3                          3.0   Confirmation              F   \n",
       "4                          1.0   Confirmation              M   \n",
       "\n",
       "   Manager_Num_Application  Manager_Num_Coded  Manager_Business  \\\n",
       "0                      2.0                1.0          335249.0   \n",
       "1                      2.0                1.0          335249.0   \n",
       "2                      0.0                0.0          357184.0   \n",
       "3                      0.0                0.0          318356.0   \n",
       "4                      2.0                1.0          230402.0   \n",
       "\n",
       "   Manager_Num_Products  Business_Sourced  Applicant_Age  Manager_Age  \\\n",
       "0                  28.0                 0           35.0         29.0   \n",
       "1                  28.0                 1           24.0         29.0   \n",
       "2                  24.0                 0           41.0         38.0   \n",
       "3                  22.0                 0           19.0         28.0   \n",
       "4                  17.0                 0           21.0         36.0   \n",
       "\n",
       "   Manager_Tenure  Application_Receipt_Month  Application_Receipt_Year  \\\n",
       "0            17.0                          4                      2007   \n",
       "1            17.0                          4                      2007   \n",
       "2            11.0                          4                      2007   \n",
       "3            44.0                          4                      2007   \n",
       "4            11.0                          4                      2007   \n",
       "\n",
       "   City_Name Country_Name  \n",
       "0      Bihar        India  \n",
       "1      Bihar        India  \n",
       "2     Galați      România  \n",
       "3  Jharkhand        India  \n",
       "4  Jharkhand        India  "
      ]
     },
     "metadata": {},
     "execution_count": 173
    }
   ],
   "metadata": {}
  },
  {
   "cell_type": "code",
   "execution_count": 172,
   "source": [
    "#pin_loc_city(data_cleaned)\r\n",
    "pin_loc_city(data_test_cleaned)\r\n",
    "pin_loc_city(data_cleaned)"
   ],
   "outputs": [],
   "metadata": {}
  },
  {
   "cell_type": "code",
   "execution_count": 175,
   "source": [
    "data_cleaned.to_csv(\"updated_data_city.csv\", index=False)\r\n",
    "data_test_cleaned.to_csv(\"updated_data_test_city.csv\", index=False)"
   ],
   "outputs": [],
   "metadata": {}
  },
  {
   "cell_type": "code",
   "execution_count": 327,
   "source": [
    "data_cleaned = pd.read_csv(\"updated_data_city.csv\")\r\n",
    "data_test_cleaned = pd.read_csv(\"updated_data_test_city.csv\")"
   ],
   "outputs": [],
   "metadata": {}
  },
  {
   "cell_type": "code",
   "execution_count": 328,
   "source": [
    "data_cleaned[data_cleaned.Country_Name != \"India\"].City_Name.value_counts()"
   ],
   "outputs": [
    {
     "output_type": "execute_result",
     "data": {
      "text/plain": [
       "Центральный федеральный округ        237\n",
       "Galați                               139\n",
       "山东省                                  128\n",
       "基隆市                                  123\n",
       "Harghita                             120\n",
       "Гродненская область                  103\n",
       "Unknown                              103\n",
       "Брестская область                     95\n",
       "Satu Mare                             76\n",
       "高雄市                                   68\n",
       "Северо-Западный федеральный округ     66\n",
       "Cluj                                  44\n",
       "Vrancea                               15\n",
       "辽宁省                                    3\n",
       "Name: City_Name, dtype: int64"
      ]
     },
     "metadata": {},
     "execution_count": 328
    }
   ],
   "metadata": {}
  },
  {
   "cell_type": "code",
   "execution_count": 329,
   "source": [
    "data_cleaned.Country_Name.value_counts()"
   ],
   "outputs": [
    {
     "output_type": "execute_result",
     "data": {
      "text/plain": [
       "India       8207\n",
       "România      394\n",
       "Россия       303\n",
       "Беларусь     198\n",
       "臺灣           191\n",
       "中国           131\n",
       "Unknown      103\n",
       "Name: Country_Name, dtype: int64"
      ]
     },
     "metadata": {},
     "execution_count": 329
    }
   ],
   "metadata": {}
  },
  {
   "cell_type": "code",
   "execution_count": 330,
   "source": [
    "map_country = {\r\n",
    "    \"India\":\"India\",\r\n",
    "    \"România\":\"România\",\r\n",
    "    \"Россия\":\"Others\",\r\n",
    "    \"Беларусь\":\"Others\",\r\n",
    "    \"臺灣\":\"Others\",\r\n",
    "    \"中国\":\"Others\",\r\n",
    "    \"Unknown\":\"Others\"\r\n",
    "\r\n",
    "}"
   ],
   "outputs": [],
   "metadata": {}
  },
  {
   "cell_type": "code",
   "execution_count": 331,
   "source": [
    "data_cleaned.Country_Name = data_cleaned.Country_Name.map(map_country)\r\n",
    "data_test_cleaned.Country_Name = data_test_cleaned.Country_Name.map(map_country)"
   ],
   "outputs": [],
   "metadata": {}
  },
  {
   "cell_type": "code",
   "execution_count": 332,
   "source": [
    "data_cleaned.City_Name = data_cleaned.City_Name.replace([\"Центральный федеральный округ\", \"Galați\", \"山东省\", \"基隆市\", \"Harghita\", \"Гродненская область\", \"Unknown\", \"Брестская область\", \"Satu Mare\", \"高雄市\", \"Северо-Западный федеральный округ\", \"Cluj\", \"Vrancea\", \"辽宁省\"], \"Outside_India\")\r\n",
    "data_test_cleaned.City_Name = data_test_cleaned.City_Name.replace([\"Центральный федеральный округ\", \"Galați\", \"山东省\", \"基隆市\", \"Harghita\", \"Гродненская область\", \"Unknown\", \"Брестская область\", \"Satu Mare\", \"高雄市\", \"Северо-Западный федеральный округ\", \"Cluj\", \"Vrancea\", \"辽宁省\"], \"Outside_India\")"
   ],
   "outputs": [],
   "metadata": {}
  },
  {
   "cell_type": "code",
   "execution_count": 333,
   "source": [
    "len(data_test_cleaned.City_Name.value_counts()), len(data_cleaned.City_Name.value_counts()), len(data_test_cleaned.Country_Name.value_counts()), len(data_cleaned.Country_Name.value_counts())"
   ],
   "outputs": [
    {
     "output_type": "execute_result",
     "data": {
      "text/plain": [
       "(21, 21, 3, 3)"
      ]
     },
     "metadata": {},
     "execution_count": 333
    }
   ],
   "metadata": {}
  },
  {
   "cell_type": "code",
   "execution_count": 334,
   "source": [
    "data_test_cleaned.Country_Name.value_counts()"
   ],
   "outputs": [
    {
     "output_type": "execute_result",
     "data": {
      "text/plain": [
       "India      4276\n",
       "Others      495\n",
       "România     274\n",
       "Name: Country_Name, dtype: int64"
      ]
     },
     "metadata": {},
     "execution_count": 334
    }
   ],
   "metadata": {}
  },
  {
   "cell_type": "code",
   "execution_count": 335,
   "source": [
    "data_cleaned.Country_Name.value_counts()"
   ],
   "outputs": [
    {
     "output_type": "execute_result",
     "data": {
      "text/plain": [
       "India      8207\n",
       "Others      926\n",
       "România     394\n",
       "Name: Country_Name, dtype: int64"
      ]
     },
     "metadata": {},
     "execution_count": 335
    }
   ],
   "metadata": {}
  },
  {
   "cell_type": "code",
   "execution_count": 336,
   "source": [
    "data_cleaned.to_csv(\"updated_data_2.csv\", index=False)\r\n",
    "data_test_cleaned.to_csv(\"updated_data_test_2.csv\", index=False)"
   ],
   "outputs": [],
   "metadata": {}
  },
  {
   "cell_type": "code",
   "execution_count": null,
   "source": [],
   "outputs": [],
   "metadata": {}
  },
  {
   "cell_type": "code",
   "execution_count": null,
   "source": [],
   "outputs": [],
   "metadata": {}
  },
  {
   "cell_type": "code",
   "execution_count": null,
   "source": [
    "# Drop manager grade"
   ],
   "outputs": [],
   "metadata": {}
  },
  {
   "cell_type": "markdown",
   "source": [
    "## Data Cleaning process is complete. Now, we can build models"
   ],
   "metadata": {}
  },
  {
   "cell_type": "code",
   "execution_count": 400,
   "source": [
    "data_cleaned = pd.read_csv(\"updated_data_2.csv\")\r\n",
    "data_test_cleaned = pd.read_csv(\"updated_data_test_2.csv\")\r\n"
   ],
   "outputs": [],
   "metadata": {}
  },
  {
   "cell_type": "code",
   "execution_count": 401,
   "source": [
    "data_cleaned_temp = pd.read_csv(\"updated_data.csv\")\r\n",
    "data_test_cleaned_temp = pd.read_csv(\"updated_data_test.csv\")\r\n"
   ],
   "outputs": [],
   "metadata": {}
  },
  {
   "cell_type": "code",
   "execution_count": 402,
   "source": [
    "data_cleaned[\"Manager_Grade\"] = data_cleaned_temp.Manager_Grade\r\n",
    "data_test_cleaned[\"Manager_Grade\"] = data_test_cleaned_temp.Manager_Grade"
   ],
   "outputs": [],
   "metadata": {}
  },
  {
   "cell_type": "code",
   "execution_count": 403,
   "source": [
    "#data_cleaned.drop(\"Office_PIN\", inplace=True, axis=1)\r\n",
    "#data_test_cleaned.drop(\"Office_PIN\", inplace=True, axis=1)"
   ],
   "outputs": [],
   "metadata": {}
  },
  {
   "cell_type": "code",
   "execution_count": 404,
   "source": [
    "data_cleaned.Manager_Joining_Designation = np.sqrt(data_cleaned.Manager_Joining_Designation)\r\n",
    "data_cleaned.Manager_Business = np.cbrt(data_cleaned.Manager_Business)\r\n",
    "\r\n",
    "data_cleaned.Manager_Num_Application = np.sqrt(data_cleaned.Manager_Num_Application)\r\n",
    "data_cleaned.Manager_Num_Coded = np.sqrt(data_cleaned.Manager_Num_Coded)\r\n",
    "data_cleaned.Manager_Num_Products = np.cbrt(data_cleaned.Manager_Num_Products)\r\n",
    "data_cleaned.Applicant_Age = np.sqrt(data_cleaned.Applicant_Age)\r\n",
    "data_cleaned.Manager_Tenure = np.sqrt(data_cleaned.Manager_Tenure)"
   ],
   "outputs": [],
   "metadata": {}
  },
  {
   "cell_type": "code",
   "execution_count": 405,
   "source": [
    "data_test_cleaned.Manager_Business = np.cbrt(data_test_cleaned.Manager_Business)\r\n",
    "data_test_cleaned.Application_Receipt_Year = np.cbrt(data_test_cleaned.Application_Receipt_Year)\r\n",
    "\r\n",
    "data_test_cleaned.Manager_Num_Application = np.sqrt(data_test_cleaned.Manager_Num_Application)\r\n",
    "data_test_cleaned.Manager_Num_Coded = np.sqrt(data_test_cleaned.Manager_Num_Coded)\r\n",
    "data_test_cleaned.Manager_Num_Products = np.cbrt(data_test_cleaned.Manager_Num_Products)\r\n",
    "data_test_cleaned.Applicant_Age = np.sqrt(data_test_cleaned.Applicant_Age)\r\n",
    "data_test_cleaned.Manager_Tenure = np.sqrt(data_test_cleaned.Manager_Tenure)\r\n"
   ],
   "outputs": [],
   "metadata": {}
  },
  {
   "cell_type": "code",
   "execution_count": 406,
   "source": [
    "data_missing_manager_test_pred = data_test_cleaned[data_test_cleaned.Manager_Current_Designation.isna()]\r\n",
    "data_all_columns_test_pred = data_test_cleaned[data_test_cleaned.Manager_Current_Designation.notna()]\r\n"
   ],
   "outputs": [],
   "metadata": {}
  },
  {
   "cell_type": "code",
   "execution_count": 407,
   "source": [
    "data_missing_manager = data_cleaned[data_cleaned.Manager_Current_Designation.isna()]\r\n",
    "data_all_columns = data_cleaned[data_cleaned.Manager_Current_Designation.notna()]\r\n",
    "data_missing_manager_test = data_test_cleaned[data_test_cleaned.Manager_Current_Designation.isna()]\r\n",
    "data_all_columns_test = data_test_cleaned[data_test_cleaned.Manager_Current_Designation.notna()]"
   ],
   "outputs": [],
   "metadata": {}
  },
  {
   "cell_type": "code",
   "execution_count": 408,
   "source": [
    "data_all_columns.shape[0] + data_missing_manager.shape[0], data_cleaned.shape"
   ],
   "outputs": [
    {
     "output_type": "execute_result",
     "data": {
      "text/plain": [
       "(9527, (9527, 23))"
      ]
     },
     "metadata": {},
     "execution_count": 408
    }
   ],
   "metadata": {}
  },
  {
   "cell_type": "code",
   "execution_count": 409,
   "source": [
    "from sklearn.preprocessing import StandardScaler\r\n",
    "from sklearn.model_selection import train_test_split\r\n",
    "from sklearn.ensemble import RandomForestClassifier\r\n",
    "from sklearn.metrics import accuracy_score\r\n",
    "from sklearn.decomposition import PCA"
   ],
   "outputs": [],
   "metadata": {}
  },
  {
   "cell_type": "code",
   "execution_count": 410,
   "source": [
    "data_all_columns_test.drop(\"ID\", axis=1, inplace=True)\r\n",
    "data_all_columns.drop(\"ID\", axis=1, inplace=True)"
   ],
   "outputs": [
    {
     "output_type": "stream",
     "name": "stderr",
     "text": [
      "c:\\Users\\Neelam\\Desktop\\Desktop\\Python\\Video\\env\\lib\\site-packages\\pandas\\core\\frame.py:4305: SettingWithCopyWarning: \n",
      "A value is trying to be set on a copy of a slice from a DataFrame\n",
      "\n",
      "See the caveats in the documentation: https://pandas.pydata.org/pandas-docs/stable/user_guide/indexing.html#returning-a-view-versus-a-copy\n",
      "  return super().drop(\n"
     ]
    }
   ],
   "metadata": {}
  },
  {
   "cell_type": "code",
   "execution_count": 411,
   "source": [
    "data_all_columns = pd.get_dummies(data_all_columns)\r\n",
    "data_all_columns_test = pd.get_dummies(data_all_columns_test)"
   ],
   "outputs": [],
   "metadata": {}
  },
  {
   "cell_type": "code",
   "execution_count": 412,
   "source": [
    "data_all_columns.shape, data_all_columns_test.shape"
   ],
   "outputs": [
    {
     "output_type": "execute_result",
     "data": {
      "text/plain": [
       "((8844, 58), (4221, 57))"
      ]
     },
     "metadata": {},
     "execution_count": 412
    }
   ],
   "metadata": {}
  },
  {
   "cell_type": "markdown",
   "source": [
    "## Classification without PCA"
   ],
   "metadata": {}
  },
  {
   "cell_type": "code",
   "execution_count": 413,
   "source": [
    "from sklearn.utils import resample\r\n",
    "\r\n",
    "# separate minority and majority classes\r\n",
    "not_accept = data_all_columns[data_all_columns.Business_Sourced==1]\r\n",
    "accept = data_all_columns[data_all_columns.Business_Sourced==0]\r\n",
    "\r\n",
    "# upsample minority\r\n",
    "not_accept_upsampled = resample(not_accept,\r\n",
    "                          replace=True, # sample with replacement\r\n",
    "                          n_samples=len(accept), # match number in majority class\r\n",
    "                          random_state=27) # reproducible results\r\n",
    "\r\n",
    "# combine majority and upsampled minority\r\n",
    "data_all_columns = pd.concat([not_accept_upsampled, accept])"
   ],
   "outputs": [],
   "metadata": {}
  },
  {
   "cell_type": "code",
   "execution_count": 414,
   "source": [
    "X = data_all_columns.drop('Business_Sourced', axis=1)\r\n",
    "y = data_all_columns['Business_Sourced']"
   ],
   "outputs": [],
   "metadata": {}
  },
  {
   "cell_type": "code",
   "execution_count": 415,
   "source": [
    "# Standardise the data\r\n",
    "#scaler = StandardScaler()\r\n",
    "#X = scaler.fit_transform(X)"
   ],
   "outputs": [],
   "metadata": {}
  },
  {
   "cell_type": "code",
   "execution_count": 416,
   "source": [
    "X_train,X_test, y_train, y_test = train_test_split(X, y, random_state=22, stratify=y)"
   ],
   "outputs": [],
   "metadata": {}
  },
  {
   "cell_type": "markdown",
   "source": [
    "# XGBOOST"
   ],
   "metadata": {}
  },
  {
   "cell_type": "code",
   "execution_count": 417,
   "source": [
    "import xgboost as xgb\r\n",
    "from xgboost.sklearn import XGBClassifier\r\n",
    "from sklearn.metrics import roc_auc_score"
   ],
   "outputs": [],
   "metadata": {}
  },
  {
   "cell_type": "code",
   "execution_count": 418,
   "source": [
    "model = XGBClassifier(random_state=42, n_jobs=-1, n_estimators=20, max_depth=4, min_child_weight=1)"
   ],
   "outputs": [],
   "metadata": {}
  },
  {
   "cell_type": "code",
   "execution_count": 419,
   "source": [
    "model.fit(X_train, y_train)"
   ],
   "outputs": [
    {
     "output_type": "stream",
     "name": "stderr",
     "text": [
      "c:\\Users\\Neelam\\Desktop\\Desktop\\Python\\Video\\env\\lib\\site-packages\\xgboost\\sklearn.py:1146: UserWarning: The use of label encoder in XGBClassifier is deprecated and will be removed in a future release. To remove this warning, do the following: 1) Pass option use_label_encoder=False when constructing XGBClassifier object; and 2) Encode your labels (y) as integers starting with 0, i.e. 0, 1, 2, ..., [num_class - 1].\n",
      "  warnings.warn(label_encoder_deprecation_msg, UserWarning)\n"
     ]
    },
    {
     "output_type": "stream",
     "name": "stdout",
     "text": [
      "[11:18:20] WARNING: C:/Users/Administrator/workspace/xgboost-win64_release_1.4.0/src/learner.cc:1095: Starting in XGBoost 1.3.0, the default evaluation metric used with the objective 'binary:logistic' was changed from 'error' to 'logloss'. Explicitly set eval_metric if you'd like to restore the old behavior.\n"
     ]
    },
    {
     "output_type": "execute_result",
     "data": {
      "text/plain": [
       "XGBClassifier(base_score=0.5, booster='gbtree', colsample_bylevel=1,\n",
       "              colsample_bynode=1, colsample_bytree=1, gamma=0, gpu_id=-1,\n",
       "              importance_type='gain', interaction_constraints='',\n",
       "              learning_rate=0.300000012, max_delta_step=0, max_depth=4,\n",
       "              min_child_weight=1, missing=nan, monotone_constraints='()',\n",
       "              n_estimators=20, n_jobs=-1, num_parallel_tree=1, random_state=42,\n",
       "              reg_alpha=0, reg_lambda=1, scale_pos_weight=1, subsample=1,\n",
       "              tree_method='exact', validate_parameters=1, verbosity=None)"
      ]
     },
     "metadata": {},
     "execution_count": 419
    }
   ],
   "metadata": {}
  },
  {
   "cell_type": "code",
   "execution_count": 420,
   "source": [
    "from sklearn.metrics import accuracy_score"
   ],
   "outputs": [],
   "metadata": {}
  },
  {
   "cell_type": "code",
   "execution_count": null,
   "source": [
    "def modelfit(alg, dtrain, predictors,useTrainCV=True, cv_folds=5, early_stopping_rounds=10):\r\n",
    "    \r\n",
    "    if useTrainCV:\r\n",
    "        xgb_param = alg.get_xgb_params()\r\n",
    "        xgtrain = xgb.DMatrix(dtrain[predictors].values, label=dtrain[target].values)\r\n",
    "        cvresult = xgb.cv(xgb_param, xgtrain, num_boost_round=alg.get_params()['n_estimators'], nfold=cv_folds,\r\n",
    "            metrics='auc', early_stopping_rounds=early_stopping_rounds)\r\n",
    "        alg.set_params(n_estimators=cvresult.shape[0])\r\n",
    "    \r\n",
    "    #Fit the algorithm on the data\r\n",
    "    alg.fit(dtrain[predictors], dtrain['Business_Sourced'],eval_metric='auc')\r\n",
    "        \r\n",
    "    #Predict training set:\r\n",
    "    dtrain_predictions = alg.predict(dtrain[predictors])\r\n",
    "    dtrain_predprob = alg.predict_proba(dtrain[predictors])[:,1]\r\n",
    "        \r\n",
    "    #Print model report:\r\n",
    "    print(\"Model Report\")\r\n",
    "    print(\"Accuracy : %.4g\" % accuracy_score(dtrain['Business_Sourced'].values, dtrain_predictions))\r\n",
    "    print(\"AUC Score (Train): %f\" % roc_auc_score(dtrain['Business_Sourced'], dtrain_predprob))\r\n",
    "                    \r\n",
    "    \r\n",
    "    feat_imp = pd.Series(alg.get_booster().get_fscore()).sort_values(ascending=False)\r\n",
    "    feat_imp.plot(kind='bar', title='Feature Importances')\r\n",
    "    plt.ylabel('Feature Importance Score')"
   ],
   "outputs": [],
   "metadata": {}
  },
  {
   "cell_type": "code",
   "execution_count": null,
   "source": [
    "#train = pd.read_csv('updated_data.csv')\r\n",
    "train = xg_boost_parameter.copy()\r\n",
    "\r\n",
    "target = 'Business_Sourced'\r\n",
    "IDcol = 'ID'"
   ],
   "outputs": [],
   "metadata": {}
  },
  {
   "cell_type": "code",
   "execution_count": null,
   "source": [
    "train.drop(\"ID\", axis=1, inplace=True)\r\n"
   ],
   "outputs": [],
   "metadata": {}
  },
  {
   "cell_type": "code",
   "execution_count": null,
   "source": [
    "train = pd.get_dummies(train)"
   ],
   "outputs": [],
   "metadata": {}
  },
  {
   "cell_type": "code",
   "execution_count": null,
   "source": [
    "predictors = [x for x in train.columns if x not in [target, IDcol]]"
   ],
   "outputs": [],
   "metadata": {}
  },
  {
   "cell_type": "code",
   "execution_count": null,
   "source": [
    "xgb1 = XGBClassifier(\r\n",
    " learning_rate =0.3,\r\n",
    " n_estimators=1000,\r\n",
    " max_depth=5,\r\n",
    " min_child_weight=1,\r\n",
    " gamma=0,\r\n",
    " subsample=0.8,\r\n",
    " colsample_bytree=0.8,\r\n",
    " objective= 'binary:logistic',\r\n",
    " nthread=4,\r\n",
    " scale_pos_weight=1,\r\n",
    " seed=27)\r\n",
    "modelfit(xgb1, data_all_columns, predictors)"
   ],
   "outputs": [
    {
     "output_type": "stream",
     "name": "stderr",
     "text": [
      "c:\\Users\\Neelam\\Desktop\\Desktop\\Python\\Video\\env\\lib\\site-packages\\xgboost\\sklearn.py:1146: UserWarning: The use of label encoder in XGBClassifier is deprecated and will be removed in a future release. To remove this warning, do the following: 1) Pass option use_label_encoder=False when constructing XGBClassifier object; and 2) Encode your labels (y) as integers starting with 0, i.e. 0, 1, 2, ..., [num_class - 1].\n",
      "  warnings.warn(label_encoder_deprecation_msg, UserWarning)\n"
     ]
    },
    {
     "output_type": "stream",
     "name": "stdout",
     "text": [
      "Model Report\n",
      "Accuracy : 0.916\n",
      "AUC Score (Train): 0.974454\n"
     ]
    },
    {
     "output_type": "display_data",
     "data": {
      "image/png": "[encoded data removed]",
      "text/plain": [
       "<Figure size 432x288 with 1 Axes>"
      ]
     },
     "metadata": {
      "needs_background": "light"
     }
    }
   ],
   "metadata": {}
  },
  {
   "cell_type": "code",
   "execution_count": null,
   "source": [
    "from sklearn.model_selection import GridSearchCV"
   ],
   "outputs": [],
   "metadata": {}
  },
  {
   "cell_type": "code",
   "execution_count": null,
   "source": [
    "param_test1 = {\r\n",
    " 'max_depth':range(1,10,2),\r\n",
    " 'min_child_weight':range(1,10,2)\r\n",
    "}\r\n",
    "gsearch1 = GridSearchCV(estimator = XGBClassifier( learning_rate =0.1, n_estimators=200, max_depth=5,\r\n",
    " min_child_weight=1, gamma=0, subsample=0.8, colsample_bytree=0.8,\r\n",
    " objective= 'binary:logistic', nthread=4, scale_pos_weight=1, seed=27), \r\n",
    " param_grid = param_test1, scoring='roc_auc',n_jobs=4,iid=False, cv=5)\r\n",
    "gsearch1.fit(train[predictors],train[target])\r\n",
    "gsearch1.best_params_, gsearch1.best_score_"
   ],
   "outputs": [
    {
     "output_type": "stream",
     "name": "stderr",
     "text": [
      "c:\\Users\\Neelam\\Desktop\\Desktop\\Python\\Video\\env\\lib\\site-packages\\sklearn\\model_selection\\_search.py:847: FutureWarning: The parameter 'iid' is deprecated in 0.22 and will be removed in 0.24.\n",
      "  warnings.warn(\n",
      "c:\\Users\\Neelam\\Desktop\\Desktop\\Python\\Video\\env\\lib\\site-packages\\xgboost\\sklearn.py:1146: UserWarning: The use of label encoder in XGBClassifier is deprecated and will be removed in a future release. To remove this warning, do the following: 1) Pass option use_label_encoder=False when constructing XGBClassifier object; and 2) Encode your labels (y) as integers starting with 0, i.e. 0, 1, 2, ..., [num_class - 1].\n",
      "  warnings.warn(label_encoder_deprecation_msg, UserWarning)\n"
     ]
    },
    {
     "output_type": "stream",
     "name": "stdout",
     "text": [
      "[19:25:41] WARNING: C:/Users/Administrator/workspace/xgboost-win64_release_1.4.0/src/learner.cc:1095: Starting in XGBoost 1.3.0, the default evaluation metric used with the objective 'binary:logistic' was changed from 'error' to 'logloss'. Explicitly set eval_metric if you'd like to restore the old behavior.\n"
     ]
    },
    {
     "output_type": "execute_result",
     "data": {
      "text/plain": [
       "({'max_depth': 3, 'min_child_weight': 1}, 0.46148772348530087)"
      ]
     },
     "metadata": {},
     "execution_count": 276
    }
   ],
   "metadata": {}
  },
  {
   "cell_type": "code",
   "execution_count": null,
   "source": [
    "param_test1 = {\r\n",
    " 'max_depth':[2,3,4],\r\n",
    " 'min_child_weight':[1,2,3]\r\n",
    "}\r\n",
    "gsearch1 = GridSearchCV(estimator = XGBClassifier( learning_rate =0.1, n_estimators=200, max_depth=5,\r\n",
    " min_child_weight=1, gamma=0, subsample=0.8, colsample_bytree=0.8,\r\n",
    " objective= 'binary:logistic', nthread=4, scale_pos_weight=1, seed=27), \r\n",
    " param_grid = param_test1, scoring='roc_auc',n_jobs=4,iid=False, cv=5)\r\n",
    "gsearch1.fit(train[predictors],train[target])\r\n",
    "gsearch1.best_params_, gsearch1.best_score_"
   ],
   "outputs": [
    {
     "output_type": "stream",
     "name": "stderr",
     "text": [
      "c:\\Users\\Neelam\\Desktop\\Desktop\\Python\\Video\\env\\lib\\site-packages\\sklearn\\model_selection\\_search.py:847: FutureWarning: The parameter 'iid' is deprecated in 0.22 and will be removed in 0.24.\n",
      "  warnings.warn(\n",
      "c:\\Users\\Neelam\\Desktop\\Desktop\\Python\\Video\\env\\lib\\site-packages\\xgboost\\sklearn.py:1146: UserWarning: The use of label encoder in XGBClassifier is deprecated and will be removed in a future release. To remove this warning, do the following: 1) Pass option use_label_encoder=False when constructing XGBClassifier object; and 2) Encode your labels (y) as integers starting with 0, i.e. 0, 1, 2, ..., [num_class - 1].\n",
      "  warnings.warn(label_encoder_deprecation_msg, UserWarning)\n"
     ]
    },
    {
     "output_type": "stream",
     "name": "stdout",
     "text": [
      "[19:26:34] WARNING: C:/Users/Administrator/workspace/xgboost-win64_release_1.4.0/src/learner.cc:1095: Starting in XGBoost 1.3.0, the default evaluation metric used with the objective 'binary:logistic' was changed from 'error' to 'logloss'. Explicitly set eval_metric if you'd like to restore the old behavior.\n"
     ]
    },
    {
     "output_type": "execute_result",
     "data": {
      "text/plain": [
       "({'max_depth': 2, 'min_child_weight': 2}, 0.46755024803591017)"
      ]
     },
     "metadata": {},
     "execution_count": 277
    }
   ],
   "metadata": {}
  },
  {
   "cell_type": "markdown",
   "source": [
    "## Tune Gama"
   ],
   "metadata": {}
  },
  {
   "cell_type": "code",
   "execution_count": null,
   "source": [
    "param_test3 = {\r\n",
    " 'gamma':[i/10.0 for i in range(1,8)]\r\n",
    "}\r\n",
    "gsearch3 = GridSearchCV(estimator = XGBClassifier( learning_rate =0.3, n_estimators=140, max_depth=3,\r\n",
    " min_child_weight=2, gamma=0, subsample=0.8, colsample_bytree=0.8,\r\n",
    " objective= 'binary:logistic', nthread=4, scale_pos_weight=1,seed=27), \r\n",
    " param_grid = param_test3, scoring='roc_auc',n_jobs=4,iid=False, cv=5)\r\n",
    "gsearch3.fit(train[predictors],train[target])\r\n",
    "gsearch3.best_params_, gsearch3.best_score_\r\n"
   ],
   "outputs": [
    {
     "output_type": "stream",
     "name": "stderr",
     "text": [
      "c:\\Users\\Neelam\\Desktop\\Desktop\\Python\\Video\\env\\lib\\site-packages\\sklearn\\model_selection\\_search.py:847: FutureWarning: The parameter 'iid' is deprecated in 0.22 and will be removed in 0.24.\n",
      "  warnings.warn(\n",
      "c:\\Users\\Neelam\\Desktop\\Desktop\\Python\\Video\\env\\lib\\site-packages\\xgboost\\sklearn.py:1146: UserWarning: The use of label encoder in XGBClassifier is deprecated and will be removed in a future release. To remove this warning, do the following: 1) Pass option use_label_encoder=False when constructing XGBClassifier object; and 2) Encode your labels (y) as integers starting with 0, i.e. 0, 1, 2, ..., [num_class - 1].\n",
      "  warnings.warn(label_encoder_deprecation_msg, UserWarning)\n"
     ]
    },
    {
     "output_type": "stream",
     "name": "stdout",
     "text": [
      "[19:27:04] WARNING: C:/Users/Administrator/workspace/xgboost-win64_release_1.4.0/src/learner.cc:1095: Starting in XGBoost 1.3.0, the default evaluation metric used with the objective 'binary:logistic' was changed from 'error' to 'logloss'. Explicitly set eval_metric if you'd like to restore the old behavior.\n"
     ]
    },
    {
     "output_type": "execute_result",
     "data": {
      "text/plain": [
       "({'gamma': 0.4}, 0.4558134309221142)"
      ]
     },
     "metadata": {},
     "execution_count": 278
    }
   ],
   "metadata": {}
  },
  {
   "cell_type": "markdown",
   "source": [
    "## Subsample and cosample"
   ],
   "metadata": {}
  },
  {
   "cell_type": "code",
   "execution_count": null,
   "source": [
    "param_test4 = {\r\n",
    " 'subsample':[i/10.0 for i in range(6,10)],\r\n",
    " 'colsample_bytree':[i/10.0 for i in range(6,10)]\r\n",
    "}\r\n",
    "gsearch4 = GridSearchCV(estimator = XGBClassifier( learning_rate =0.3, n_estimators=200, max_depth=2,\r\n",
    " min_child_weight=2, gamma=0.4, subsample=0.8, colsample_bytree=0.8,\r\n",
    " objective= 'binary:logistic', nthread=4, scale_pos_weight=1,seed=27), \r\n",
    " param_grid = param_test4, scoring='roc_auc',n_jobs=4,iid=False, cv=5)\r\n",
    "gsearch4.fit(train[predictors],train[target])\r\n",
    "gsearch4.best_params_, gsearch4.best_score_"
   ],
   "outputs": [
    {
     "output_type": "stream",
     "name": "stderr",
     "text": [
      "c:\\Users\\Neelam\\Desktop\\Desktop\\Python\\Video\\env\\lib\\site-packages\\sklearn\\model_selection\\_search.py:847: FutureWarning: The parameter 'iid' is deprecated in 0.22 and will be removed in 0.24.\n",
      "  warnings.warn(\n",
      "c:\\Users\\Neelam\\Desktop\\Desktop\\Python\\Video\\env\\lib\\site-packages\\xgboost\\sklearn.py:1146: UserWarning: The use of label encoder in XGBClassifier is deprecated and will be removed in a future release. To remove this warning, do the following: 1) Pass option use_label_encoder=False when constructing XGBClassifier object; and 2) Encode your labels (y) as integers starting with 0, i.e. 0, 1, 2, ..., [num_class - 1].\n",
      "  warnings.warn(label_encoder_deprecation_msg, UserWarning)\n"
     ]
    },
    {
     "output_type": "stream",
     "name": "stdout",
     "text": [
      "[19:28:25] WARNING: C:/Users/Administrator/workspace/xgboost-win64_release_1.4.0/src/learner.cc:1095: Starting in XGBoost 1.3.0, the default evaluation metric used with the objective 'binary:logistic' was changed from 'error' to 'logloss'. Explicitly set eval_metric if you'd like to restore the old behavior.\n"
     ]
    },
    {
     "output_type": "execute_result",
     "data": {
      "text/plain": [
       "({'colsample_bytree': 0.8, 'subsample': 0.7}, 0.4688741192491387)"
      ]
     },
     "metadata": {},
     "execution_count": 279
    }
   ],
   "metadata": {}
  },
  {
   "cell_type": "code",
   "execution_count": null,
   "source": [
    "param_test4 = {\r\n",
    " 'subsample':[i/100.0 for i in range(75,90, 5)],\r\n",
    " 'colsample_bytree':[i/100.0 for i in range(65,80, 5)]\r\n",
    "}\r\n",
    "gsearch4 = GridSearchCV(estimator = XGBClassifier( learning_rate =0.3, n_estimators=200, max_depth=2,\r\n",
    " min_child_weight=2, gamma=0.4, subsample=0.8, colsample_bytree=0.8,\r\n",
    " objective= 'binary:logistic', nthread=4, scale_pos_weight=1,seed=27), \r\n",
    " param_grid = param_test4, scoring='roc_auc',n_jobs=4,iid=False, cv=5)\r\n",
    "gsearch4.fit(train[predictors],train[target])\r\n",
    "gsearch4.best_params_, gsearch4.best_score_"
   ],
   "outputs": [
    {
     "output_type": "stream",
     "name": "stderr",
     "text": [
      "c:\\Users\\Neelam\\Desktop\\Desktop\\Python\\Video\\env\\lib\\site-packages\\sklearn\\model_selection\\_search.py:847: FutureWarning: The parameter 'iid' is deprecated in 0.22 and will be removed in 0.24.\n",
      "  warnings.warn(\n",
      "c:\\Users\\Neelam\\Desktop\\Desktop\\Python\\Video\\env\\lib\\site-packages\\xgboost\\sklearn.py:1146: UserWarning: The use of label encoder in XGBClassifier is deprecated and will be removed in a future release. To remove this warning, do the following: 1) Pass option use_label_encoder=False when constructing XGBClassifier object; and 2) Encode your labels (y) as integers starting with 0, i.e. 0, 1, 2, ..., [num_class - 1].\n",
      "  warnings.warn(label_encoder_deprecation_msg, UserWarning)\n"
     ]
    },
    {
     "output_type": "stream",
     "name": "stdout",
     "text": [
      "[19:29:57] WARNING: C:/Users/Administrator/workspace/xgboost-win64_release_1.4.0/src/learner.cc:1095: Starting in XGBoost 1.3.0, the default evaluation metric used with the objective 'binary:logistic' was changed from 'error' to 'logloss'. Explicitly set eval_metric if you'd like to restore the old behavior.\n"
     ]
    },
    {
     "output_type": "execute_result",
     "data": {
      "text/plain": [
       "({'colsample_bytree': 0.7, 'subsample': 0.85}, 0.46870485486432256)"
      ]
     },
     "metadata": {},
     "execution_count": 281
    }
   ],
   "metadata": {}
  },
  {
   "cell_type": "markdown",
   "source": [
    "## Tuning Regularization Parameters"
   ],
   "metadata": {}
  },
  {
   "cell_type": "code",
   "execution_count": null,
   "source": [
    "param_test6 = {\r\n",
    " 'reg_alpha':[1e-5, 1e-2, 0.1, 1, 100]\r\n",
    "}\r\n",
    "gsearch6 = GridSearchCV(estimator = XGBClassifier( learning_rate =0.3, n_estimators=200, max_depth=2,\r\n",
    " min_child_weight=2, gamma=0.4, subsample=0.85, colsample_bytree=0.7,\r\n",
    " objective= 'binary:logistic', nthread=4, scale_pos_weight=1,seed=27), \r\n",
    " param_grid = param_test6, scoring='roc_auc',n_jobs=4,iid=False, cv=5)\r\n",
    "gsearch6.fit(train[predictors],train[target])\r\n",
    "gsearch6.best_params_, gsearch6.best_score_"
   ],
   "outputs": [
    {
     "output_type": "stream",
     "name": "stderr",
     "text": [
      "c:\\Users\\Neelam\\Desktop\\Desktop\\Python\\Video\\env\\lib\\site-packages\\sklearn\\model_selection\\_search.py:847: FutureWarning: The parameter 'iid' is deprecated in 0.22 and will be removed in 0.24.\n",
      "  warnings.warn(\n",
      "c:\\Users\\Neelam\\Desktop\\Desktop\\Python\\Video\\env\\lib\\site-packages\\xgboost\\sklearn.py:1146: UserWarning: The use of label encoder in XGBClassifier is deprecated and will be removed in a future release. To remove this warning, do the following: 1) Pass option use_label_encoder=False when constructing XGBClassifier object; and 2) Encode your labels (y) as integers starting with 0, i.e. 0, 1, 2, ..., [num_class - 1].\n",
      "  warnings.warn(label_encoder_deprecation_msg, UserWarning)\n"
     ]
    },
    {
     "output_type": "stream",
     "name": "stdout",
     "text": [
      "[19:30:51] WARNING: C:/Users/Administrator/workspace/xgboost-win64_release_1.4.0/src/learner.cc:1095: Starting in XGBoost 1.3.0, the default evaluation metric used with the objective 'binary:logistic' was changed from 'error' to 'logloss'. Explicitly set eval_metric if you'd like to restore the old behavior.\n"
     ]
    },
    {
     "output_type": "execute_result",
     "data": {
      "text/plain": [
       "({'reg_alpha': 0.01}, 0.4693139967531832)"
      ]
     },
     "metadata": {},
     "execution_count": 282
    }
   ],
   "metadata": {}
  },
  {
   "cell_type": "code",
   "execution_count": null,
   "source": [
    "param_test6 = {\r\n",
    " 'reg_alpha':[0.001, 0.005, 0.01, 0.05]\r\n",
    "}\r\n",
    "gsearch6 = GridSearchCV(estimator = XGBClassifier( learning_rate =0.3, n_estimators=200, max_depth=2,\r\n",
    " min_child_weight=2, gamma=0.4, subsample=0.85, colsample_bytree=0.7,\r\n",
    " objective= 'binary:logistic', nthread=4, scale_pos_weight=1,seed=27, reg_alpha=0.01), \r\n",
    " param_grid = param_test6, scoring='roc_auc',n_jobs=4,iid=False, cv=5)\r\n",
    "gsearch6.fit(train[predictors],train[target])\r\n",
    "gsearch6.best_params_, gsearch6.best_score_"
   ],
   "outputs": [
    {
     "output_type": "stream",
     "name": "stderr",
     "text": [
      "c:\\Users\\Neelam\\Desktop\\Desktop\\Python\\Video\\env\\lib\\site-packages\\sklearn\\model_selection\\_search.py:847: FutureWarning: The parameter 'iid' is deprecated in 0.22 and will be removed in 0.24.\n",
      "  warnings.warn(\n",
      "c:\\Users\\Neelam\\Desktop\\Desktop\\Python\\Video\\env\\lib\\site-packages\\xgboost\\sklearn.py:1146: UserWarning: The use of label encoder in XGBClassifier is deprecated and will be removed in a future release. To remove this warning, do the following: 1) Pass option use_label_encoder=False when constructing XGBClassifier object; and 2) Encode your labels (y) as integers starting with 0, i.e. 0, 1, 2, ..., [num_class - 1].\n",
      "  warnings.warn(label_encoder_deprecation_msg, UserWarning)\n"
     ]
    },
    {
     "output_type": "stream",
     "name": "stdout",
     "text": [
      "[19:31:30] WARNING: C:/Users/Administrator/workspace/xgboost-win64_release_1.4.0/src/learner.cc:1095: Starting in XGBoost 1.3.0, the default evaluation metric used with the objective 'binary:logistic' was changed from 'error' to 'logloss'. Explicitly set eval_metric if you'd like to restore the old behavior.\n"
     ]
    },
    {
     "output_type": "execute_result",
     "data": {
      "text/plain": [
       "({'reg_alpha': 0.01}, 0.4693139967531832)"
      ]
     },
     "metadata": {},
     "execution_count": 283
    }
   ],
   "metadata": {}
  },
  {
   "cell_type": "code",
   "execution_count": 421,
   "source": [
    "#model = XGBClassifier(random_state=42, n_jobs=-1, n_estimators=20, max_depth=4, min_child_weight=1)\r\n",
    "model = XGBClassifier(learning_rate =0.1, n_estimators=300, max_depth=4,\r\n",
    " min_child_weight=4, gamma=0.3, subsample=0.85, colsample_bytree=0.95,\r\n",
    " objective= 'binary:logistic', nthread=4, scale_pos_weight=1,seed=27, reg_alpha=0.01)"
   ],
   "outputs": [],
   "metadata": {}
  },
  {
   "cell_type": "code",
   "execution_count": 422,
   "source": [
    "model.fit(X, y)"
   ],
   "outputs": [
    {
     "output_type": "stream",
     "name": "stdout",
     "text": [
      "[11:18:36] WARNING: C:/Users/Administrator/workspace/xgboost-win64_release_1.4.0/src/learner.cc:1095: Starting in XGBoost 1.3.0, the default evaluation metric used with the objective 'binary:logistic' was changed from 'error' to 'logloss'. Explicitly set eval_metric if you'd like to restore the old behavior.\n"
     ]
    },
    {
     "output_type": "execute_result",
     "data": {
      "text/plain": [
       "XGBClassifier(base_score=0.5, booster='gbtree', colsample_bylevel=1,\n",
       "              colsample_bynode=1, colsample_bytree=0.95, gamma=0.3, gpu_id=-1,\n",
       "              importance_type='gain', interaction_constraints='',\n",
       "              learning_rate=0.1, max_delta_step=0, max_depth=4,\n",
       "              min_child_weight=4, missing=nan, monotone_constraints='()',\n",
       "              n_estimators=300, n_jobs=4, nthread=4, num_parallel_tree=1,\n",
       "              random_state=27, reg_alpha=0.01, reg_lambda=1, scale_pos_weight=1,\n",
       "              seed=27, subsample=0.85, tree_method='exact',\n",
       "              validate_parameters=1, verbosity=None)"
      ]
     },
     "metadata": {},
     "execution_count": 422
    }
   ],
   "metadata": {}
  },
  {
   "cell_type": "code",
   "execution_count": 423,
   "source": [
    "pred1 = model.predict(X_train)\r\n",
    "pred2 = model.predict(X_test)"
   ],
   "outputs": [],
   "metadata": {}
  },
  {
   "cell_type": "code",
   "execution_count": 424,
   "source": [
    "roc_auc_score(pred1, y_train), roc_auc_score(pred2, y_test)"
   ],
   "outputs": [
    {
     "output_type": "execute_result",
     "data": {
      "text/plain": [
       "(0.7874349027205202, 0.7953281626757254)"
      ]
     },
     "metadata": {},
     "execution_count": 424
    }
   ],
   "metadata": {}
  },
  {
   "cell_type": "code",
   "execution_count": 425,
   "source": [
    "data_all_columns_test.shape"
   ],
   "outputs": [
    {
     "output_type": "execute_result",
     "data": {
      "text/plain": [
       "(4221, 57)"
      ]
     },
     "metadata": {},
     "execution_count": 425
    }
   ],
   "metadata": {}
  },
  {
   "cell_type": "code",
   "execution_count": 426,
   "source": [
    "pred_xg_allcols = model.predict(data_all_columns_test)"
   ],
   "outputs": [],
   "metadata": {}
  },
  {
   "cell_type": "code",
   "execution_count": 427,
   "source": [
    "importance_df = pd.DataFrame({\r\n",
    "    \"Features\": X_xg.columns,\r\n",
    "    \"Importance\": model_xg.feature_importances_\r\n",
    "    #\"Importance_miss\": model_xg.feature_importances_\r\n",
    "}).sort_values(\"Importance\", ascending=False)\r\n",
    "\r\n",
    "importance_df"
   ],
   "outputs": [
    {
     "output_type": "execute_result",
     "data": {
      "text/html": [
       "<div>\n",
       "<style scoped>\n",
       "    .dataframe tbody tr th:only-of-type {\n",
       "        vertical-align: middle;\n",
       "    }\n",
       "\n",
       "    .dataframe tbody tr th {\n",
       "        vertical-align: top;\n",
       "    }\n",
       "\n",
       "    .dataframe thead th {\n",
       "        text-align: right;\n",
       "    }\n",
       "</style>\n",
       "<table border=\"1\" class=\"dataframe\">\n",
       "  <thead>\n",
       "    <tr style=\"text-align: right;\">\n",
       "      <th></th>\n",
       "      <th>Features</th>\n",
       "      <th>Importance</th>\n",
       "    </tr>\n",
       "  </thead>\n",
       "  <tbody>\n",
       "    <tr>\n",
       "      <th>11</th>\n",
       "      <td>Applicant_Occupation_Self Employed</td>\n",
       "      <td>0.201982</td>\n",
       "    </tr>\n",
       "    <tr>\n",
       "      <th>23</th>\n",
       "      <td>City_Name_Haryana</td>\n",
       "      <td>0.032641</td>\n",
       "    </tr>\n",
       "    <tr>\n",
       "      <th>18</th>\n",
       "      <td>City_Name_Andhra Pradesh</td>\n",
       "      <td>0.029785</td>\n",
       "    </tr>\n",
       "    <tr>\n",
       "      <th>37</th>\n",
       "      <td>Country_Name_India</td>\n",
       "      <td>0.029155</td>\n",
       "    </tr>\n",
       "    <tr>\n",
       "      <th>2</th>\n",
       "      <td>Application_Receipt_Year</td>\n",
       "      <td>0.028450</td>\n",
       "    </tr>\n",
       "    <tr>\n",
       "      <th>12</th>\n",
       "      <td>Applicant_Occupation_Unknown</td>\n",
       "      <td>0.027169</td>\n",
       "    </tr>\n",
       "    <tr>\n",
       "      <th>32</th>\n",
       "      <td>City_Name_Outside_India</td>\n",
       "      <td>0.026974</td>\n",
       "    </tr>\n",
       "    <tr>\n",
       "      <th>26</th>\n",
       "      <td>City_Name_Jharkhand</td>\n",
       "      <td>0.024692</td>\n",
       "    </tr>\n",
       "    <tr>\n",
       "      <th>3</th>\n",
       "      <td>Applicant_Gender_F</td>\n",
       "      <td>0.024003</td>\n",
       "    </tr>\n",
       "    <tr>\n",
       "      <th>35</th>\n",
       "      <td>City_Name_Uttar Pradesh</td>\n",
       "      <td>0.023776</td>\n",
       "    </tr>\n",
       "    <tr>\n",
       "      <th>1</th>\n",
       "      <td>Application_Receipt_Month</td>\n",
       "      <td>0.023564</td>\n",
       "    </tr>\n",
       "    <tr>\n",
       "      <th>19</th>\n",
       "      <td>City_Name_Bihar</td>\n",
       "      <td>0.023021</td>\n",
       "    </tr>\n",
       "    <tr>\n",
       "      <th>14</th>\n",
       "      <td>Applicant_Qualification_Class XII</td>\n",
       "      <td>0.022079</td>\n",
       "    </tr>\n",
       "    <tr>\n",
       "      <th>39</th>\n",
       "      <td>Country_Name_România</td>\n",
       "      <td>0.022056</td>\n",
       "    </tr>\n",
       "    <tr>\n",
       "      <th>29</th>\n",
       "      <td>City_Name_Madhya Pradesh</td>\n",
       "      <td>0.021917</td>\n",
       "    </tr>\n",
       "    <tr>\n",
       "      <th>15</th>\n",
       "      <td>Applicant_Qualification_Graduate</td>\n",
       "      <td>0.021682</td>\n",
       "    </tr>\n",
       "    <tr>\n",
       "      <th>0</th>\n",
       "      <td>Applicant_Age</td>\n",
       "      <td>0.021536</td>\n",
       "    </tr>\n",
       "    <tr>\n",
       "      <th>24</th>\n",
       "      <td>City_Name_Himachal Pradesh</td>\n",
       "      <td>0.021290</td>\n",
       "    </tr>\n",
       "    <tr>\n",
       "      <th>9</th>\n",
       "      <td>Applicant_Occupation_Others</td>\n",
       "      <td>0.021198</td>\n",
       "    </tr>\n",
       "    <tr>\n",
       "      <th>38</th>\n",
       "      <td>Country_Name_Others</td>\n",
       "      <td>0.020954</td>\n",
       "    </tr>\n",
       "    <tr>\n",
       "      <th>22</th>\n",
       "      <td>City_Name_Gujarat</td>\n",
       "      <td>0.020700</td>\n",
       "    </tr>\n",
       "    <tr>\n",
       "      <th>27</th>\n",
       "      <td>City_Name_Karnataka</td>\n",
       "      <td>0.020393</td>\n",
       "    </tr>\n",
       "    <tr>\n",
       "      <th>30</th>\n",
       "      <td>City_Name_Maharashtra</td>\n",
       "      <td>0.020389</td>\n",
       "    </tr>\n",
       "    <tr>\n",
       "      <th>21</th>\n",
       "      <td>City_Name_Delhi</td>\n",
       "      <td>0.020211</td>\n",
       "    </tr>\n",
       "    <tr>\n",
       "      <th>4</th>\n",
       "      <td>Applicant_Gender_M</td>\n",
       "      <td>0.018902</td>\n",
       "    </tr>\n",
       "    <tr>\n",
       "      <th>8</th>\n",
       "      <td>Applicant_Occupation_Business</td>\n",
       "      <td>0.018758</td>\n",
       "    </tr>\n",
       "    <tr>\n",
       "      <th>28</th>\n",
       "      <td>City_Name_Kerala</td>\n",
       "      <td>0.018411</td>\n",
       "    </tr>\n",
       "    <tr>\n",
       "      <th>7</th>\n",
       "      <td>Applicant_Marital_Status_S</td>\n",
       "      <td>0.018333</td>\n",
       "    </tr>\n",
       "    <tr>\n",
       "      <th>10</th>\n",
       "      <td>Applicant_Occupation_Salaried</td>\n",
       "      <td>0.018157</td>\n",
       "    </tr>\n",
       "    <tr>\n",
       "      <th>5</th>\n",
       "      <td>Applicant_Marital_Status_M</td>\n",
       "      <td>0.018113</td>\n",
       "    </tr>\n",
       "    <tr>\n",
       "      <th>25</th>\n",
       "      <td>City_Name_Jammu and Kashmir</td>\n",
       "      <td>0.018053</td>\n",
       "    </tr>\n",
       "    <tr>\n",
       "      <th>31</th>\n",
       "      <td>City_Name_Odisha</td>\n",
       "      <td>0.017577</td>\n",
       "    </tr>\n",
       "    <tr>\n",
       "      <th>36</th>\n",
       "      <td>City_Name_West Bengal</td>\n",
       "      <td>0.017391</td>\n",
       "    </tr>\n",
       "    <tr>\n",
       "      <th>13</th>\n",
       "      <td>Applicant_Qualification_Class X</td>\n",
       "      <td>0.016684</td>\n",
       "    </tr>\n",
       "    <tr>\n",
       "      <th>33</th>\n",
       "      <td>City_Name_Rajasthan</td>\n",
       "      <td>0.016578</td>\n",
       "    </tr>\n",
       "    <tr>\n",
       "      <th>20</th>\n",
       "      <td>City_Name_Chhattisgarh</td>\n",
       "      <td>0.015990</td>\n",
       "    </tr>\n",
       "    <tr>\n",
       "      <th>16</th>\n",
       "      <td>Applicant_Qualification_Others</td>\n",
       "      <td>0.014144</td>\n",
       "    </tr>\n",
       "    <tr>\n",
       "      <th>34</th>\n",
       "      <td>City_Name_Telangana</td>\n",
       "      <td>0.013083</td>\n",
       "    </tr>\n",
       "    <tr>\n",
       "      <th>17</th>\n",
       "      <td>Applicant_Qualification_PostGrad</td>\n",
       "      <td>0.010209</td>\n",
       "    </tr>\n",
       "    <tr>\n",
       "      <th>6</th>\n",
       "      <td>Applicant_Marital_Status_O</td>\n",
       "      <td>0.000000</td>\n",
       "    </tr>\n",
       "  </tbody>\n",
       "</table>\n",
       "</div>"
      ],
      "text/plain": [
       "                              Features  Importance\n",
       "11  Applicant_Occupation_Self Employed    0.201982\n",
       "23                   City_Name_Haryana    0.032641\n",
       "18            City_Name_Andhra Pradesh    0.029785\n",
       "37                  Country_Name_India    0.029155\n",
       "2             Application_Receipt_Year    0.028450\n",
       "12        Applicant_Occupation_Unknown    0.027169\n",
       "32             City_Name_Outside_India    0.026974\n",
       "26                 City_Name_Jharkhand    0.024692\n",
       "3                   Applicant_Gender_F    0.024003\n",
       "35             City_Name_Uttar Pradesh    0.023776\n",
       "1            Application_Receipt_Month    0.023564\n",
       "19                     City_Name_Bihar    0.023021\n",
       "14   Applicant_Qualification_Class XII    0.022079\n",
       "39                Country_Name_România    0.022056\n",
       "29            City_Name_Madhya Pradesh    0.021917\n",
       "15    Applicant_Qualification_Graduate    0.021682\n",
       "0                        Applicant_Age    0.021536\n",
       "24          City_Name_Himachal Pradesh    0.021290\n",
       "9          Applicant_Occupation_Others    0.021198\n",
       "38                 Country_Name_Others    0.020954\n",
       "22                   City_Name_Gujarat    0.020700\n",
       "27                 City_Name_Karnataka    0.020393\n",
       "30               City_Name_Maharashtra    0.020389\n",
       "21                     City_Name_Delhi    0.020211\n",
       "4                   Applicant_Gender_M    0.018902\n",
       "8        Applicant_Occupation_Business    0.018758\n",
       "28                    City_Name_Kerala    0.018411\n",
       "7           Applicant_Marital_Status_S    0.018333\n",
       "10       Applicant_Occupation_Salaried    0.018157\n",
       "5           Applicant_Marital_Status_M    0.018113\n",
       "25         City_Name_Jammu and Kashmir    0.018053\n",
       "31                    City_Name_Odisha    0.017577\n",
       "36               City_Name_West Bengal    0.017391\n",
       "13     Applicant_Qualification_Class X    0.016684\n",
       "33                 City_Name_Rajasthan    0.016578\n",
       "20              City_Name_Chhattisgarh    0.015990\n",
       "16      Applicant_Qualification_Others    0.014144\n",
       "34                 City_Name_Telangana    0.013083\n",
       "17    Applicant_Qualification_PostGrad    0.010209\n",
       "6           Applicant_Marital_Status_O    0.000000"
      ]
     },
     "metadata": {},
     "execution_count": 427
    }
   ],
   "metadata": {}
  },
  {
   "cell_type": "code",
   "execution_count": 428,
   "source": [
    "importance_df = pd.DataFrame({\r\n",
    "    \"Features\": X.columns,\r\n",
    "    \"Importance\": model.feature_importances_\r\n",
    "    #\"Importance_miss\": model_xg.feature_importances_\r\n",
    "}).sort_values(\"Importance\", ascending=False)\r\n",
    "\r\n",
    "importance_df"
   ],
   "outputs": [
    {
     "output_type": "execute_result",
     "data": {
      "text/html": [
       "<div>\n",
       "<style scoped>\n",
       "    .dataframe tbody tr th:only-of-type {\n",
       "        vertical-align: middle;\n",
       "    }\n",
       "\n",
       "    .dataframe tbody tr th {\n",
       "        vertical-align: top;\n",
       "    }\n",
       "\n",
       "    .dataframe thead th {\n",
       "        text-align: right;\n",
       "    }\n",
       "</style>\n",
       "<table border=\"1\" class=\"dataframe\">\n",
       "  <thead>\n",
       "    <tr style=\"text-align: right;\">\n",
       "      <th></th>\n",
       "      <th>Features</th>\n",
       "      <th>Importance</th>\n",
       "    </tr>\n",
       "  </thead>\n",
       "  <tbody>\n",
       "    <tr>\n",
       "      <th>21</th>\n",
       "      <td>Applicant_Occupation_Self Employed</td>\n",
       "      <td>0.085344</td>\n",
       "    </tr>\n",
       "    <tr>\n",
       "      <th>50</th>\n",
       "      <td>City_Name_Tamil Nadu</td>\n",
       "      <td>0.026464</td>\n",
       "    </tr>\n",
       "    <tr>\n",
       "      <th>11</th>\n",
       "      <td>Application_Receipt_Year</td>\n",
       "      <td>0.024843</td>\n",
       "    </tr>\n",
       "    <tr>\n",
       "      <th>22</th>\n",
       "      <td>Applicant_Occupation_Student</td>\n",
       "      <td>0.023132</td>\n",
       "    </tr>\n",
       "    <tr>\n",
       "      <th>53</th>\n",
       "      <td>City_Name_West Bengal</td>\n",
       "      <td>0.022354</td>\n",
       "    </tr>\n",
       "    <tr>\n",
       "      <th>9</th>\n",
       "      <td>Manager_Tenure</td>\n",
       "      <td>0.021916</td>\n",
       "    </tr>\n",
       "    <tr>\n",
       "      <th>25</th>\n",
       "      <td>Applicant_Qualification_Class XII</td>\n",
       "      <td>0.021887</td>\n",
       "    </tr>\n",
       "    <tr>\n",
       "      <th>26</th>\n",
       "      <td>Applicant_Qualification_Graduate</td>\n",
       "      <td>0.021724</td>\n",
       "    </tr>\n",
       "    <tr>\n",
       "      <th>29</th>\n",
       "      <td>Manager_Status_Confirmation</td>\n",
       "      <td>0.021616</td>\n",
       "    </tr>\n",
       "    <tr>\n",
       "      <th>10</th>\n",
       "      <td>Application_Receipt_Month</td>\n",
       "      <td>0.021295</td>\n",
       "    </tr>\n",
       "    <tr>\n",
       "      <th>47</th>\n",
       "      <td>City_Name_Odisha</td>\n",
       "      <td>0.020892</td>\n",
       "    </tr>\n",
       "    <tr>\n",
       "      <th>52</th>\n",
       "      <td>City_Name_Uttar Pradesh</td>\n",
       "      <td>0.020868</td>\n",
       "    </tr>\n",
       "    <tr>\n",
       "      <th>48</th>\n",
       "      <td>City_Name_Outside_India</td>\n",
       "      <td>0.020845</td>\n",
       "    </tr>\n",
       "    <tr>\n",
       "      <th>5</th>\n",
       "      <td>Manager_Business</td>\n",
       "      <td>0.020809</td>\n",
       "    </tr>\n",
       "    <tr>\n",
       "      <th>0</th>\n",
       "      <td>Office_PIN</td>\n",
       "      <td>0.020806</td>\n",
       "    </tr>\n",
       "    <tr>\n",
       "      <th>56</th>\n",
       "      <td>Country_Name_România</td>\n",
       "      <td>0.019579</td>\n",
       "    </tr>\n",
       "    <tr>\n",
       "      <th>13</th>\n",
       "      <td>Applicant_Gender_F</td>\n",
       "      <td>0.019455</td>\n",
       "    </tr>\n",
       "    <tr>\n",
       "      <th>46</th>\n",
       "      <td>City_Name_Maharashtra</td>\n",
       "      <td>0.019351</td>\n",
       "    </tr>\n",
       "    <tr>\n",
       "      <th>18</th>\n",
       "      <td>Applicant_Occupation_Business</td>\n",
       "      <td>0.019341</td>\n",
       "    </tr>\n",
       "    <tr>\n",
       "      <th>1</th>\n",
       "      <td>Manager_Joining_Designation</td>\n",
       "      <td>0.019141</td>\n",
       "    </tr>\n",
       "    <tr>\n",
       "      <th>17</th>\n",
       "      <td>Applicant_Marital_Status_S</td>\n",
       "      <td>0.019121</td>\n",
       "    </tr>\n",
       "    <tr>\n",
       "      <th>2</th>\n",
       "      <td>Manager_Current_Designation</td>\n",
       "      <td>0.019063</td>\n",
       "    </tr>\n",
       "    <tr>\n",
       "      <th>4</th>\n",
       "      <td>Manager_Num_Coded</td>\n",
       "      <td>0.018970</td>\n",
       "    </tr>\n",
       "    <tr>\n",
       "      <th>23</th>\n",
       "      <td>Applicant_Occupation_Unknown</td>\n",
       "      <td>0.018866</td>\n",
       "    </tr>\n",
       "    <tr>\n",
       "      <th>38</th>\n",
       "      <td>City_Name_Gujarat</td>\n",
       "      <td>0.018764</td>\n",
       "    </tr>\n",
       "    <tr>\n",
       "      <th>31</th>\n",
       "      <td>Manager_Gender_F</td>\n",
       "      <td>0.018501</td>\n",
       "    </tr>\n",
       "    <tr>\n",
       "      <th>36</th>\n",
       "      <td>City_Name_Chhattisgarh</td>\n",
       "      <td>0.018278</td>\n",
       "    </tr>\n",
       "    <tr>\n",
       "      <th>6</th>\n",
       "      <td>Manager_Num_Products</td>\n",
       "      <td>0.017892</td>\n",
       "    </tr>\n",
       "    <tr>\n",
       "      <th>7</th>\n",
       "      <td>Applicant_Age</td>\n",
       "      <td>0.017480</td>\n",
       "    </tr>\n",
       "    <tr>\n",
       "      <th>19</th>\n",
       "      <td>Applicant_Occupation_Others</td>\n",
       "      <td>0.017271</td>\n",
       "    </tr>\n",
       "    <tr>\n",
       "      <th>40</th>\n",
       "      <td>City_Name_Himachal Pradesh</td>\n",
       "      <td>0.017097</td>\n",
       "    </tr>\n",
       "    <tr>\n",
       "      <th>24</th>\n",
       "      <td>Applicant_Qualification_Class X</td>\n",
       "      <td>0.016826</td>\n",
       "    </tr>\n",
       "    <tr>\n",
       "      <th>54</th>\n",
       "      <td>Country_Name_India</td>\n",
       "      <td>0.016779</td>\n",
       "    </tr>\n",
       "    <tr>\n",
       "      <th>8</th>\n",
       "      <td>Manager_Age</td>\n",
       "      <td>0.016631</td>\n",
       "    </tr>\n",
       "    <tr>\n",
       "      <th>44</th>\n",
       "      <td>City_Name_Kerala</td>\n",
       "      <td>0.016542</td>\n",
       "    </tr>\n",
       "    <tr>\n",
       "      <th>49</th>\n",
       "      <td>City_Name_Rajasthan</td>\n",
       "      <td>0.016468</td>\n",
       "    </tr>\n",
       "    <tr>\n",
       "      <th>12</th>\n",
       "      <td>Manager_Grade</td>\n",
       "      <td>0.015900</td>\n",
       "    </tr>\n",
       "    <tr>\n",
       "      <th>34</th>\n",
       "      <td>City_Name_Assam</td>\n",
       "      <td>0.015649</td>\n",
       "    </tr>\n",
       "    <tr>\n",
       "      <th>28</th>\n",
       "      <td>Applicant_Qualification_PostGrad</td>\n",
       "      <td>0.015488</td>\n",
       "    </tr>\n",
       "    <tr>\n",
       "      <th>35</th>\n",
       "      <td>City_Name_Bihar</td>\n",
       "      <td>0.015111</td>\n",
       "    </tr>\n",
       "    <tr>\n",
       "      <th>3</th>\n",
       "      <td>Manager_Num_Application</td>\n",
       "      <td>0.015094</td>\n",
       "    </tr>\n",
       "    <tr>\n",
       "      <th>33</th>\n",
       "      <td>City_Name_Andhra Pradesh</td>\n",
       "      <td>0.014925</td>\n",
       "    </tr>\n",
       "    <tr>\n",
       "      <th>42</th>\n",
       "      <td>City_Name_Jharkhand</td>\n",
       "      <td>0.014684</td>\n",
       "    </tr>\n",
       "    <tr>\n",
       "      <th>20</th>\n",
       "      <td>Applicant_Occupation_Salaried</td>\n",
       "      <td>0.014642</td>\n",
       "    </tr>\n",
       "    <tr>\n",
       "      <th>51</th>\n",
       "      <td>City_Name_Telangana</td>\n",
       "      <td>0.014568</td>\n",
       "    </tr>\n",
       "    <tr>\n",
       "      <th>15</th>\n",
       "      <td>Applicant_Marital_Status_M</td>\n",
       "      <td>0.014108</td>\n",
       "    </tr>\n",
       "    <tr>\n",
       "      <th>45</th>\n",
       "      <td>City_Name_Madhya Pradesh</td>\n",
       "      <td>0.014004</td>\n",
       "    </tr>\n",
       "    <tr>\n",
       "      <th>41</th>\n",
       "      <td>City_Name_Jammu and Kashmir</td>\n",
       "      <td>0.013508</td>\n",
       "    </tr>\n",
       "    <tr>\n",
       "      <th>32</th>\n",
       "      <td>Manager_Gender_M</td>\n",
       "      <td>0.012676</td>\n",
       "    </tr>\n",
       "    <tr>\n",
       "      <th>55</th>\n",
       "      <td>Country_Name_Others</td>\n",
       "      <td>0.012395</td>\n",
       "    </tr>\n",
       "    <tr>\n",
       "      <th>27</th>\n",
       "      <td>Applicant_Qualification_Others</td>\n",
       "      <td>0.011436</td>\n",
       "    </tr>\n",
       "    <tr>\n",
       "      <th>43</th>\n",
       "      <td>City_Name_Karnataka</td>\n",
       "      <td>0.009606</td>\n",
       "    </tr>\n",
       "    <tr>\n",
       "      <th>39</th>\n",
       "      <td>City_Name_Haryana</td>\n",
       "      <td>0.000000</td>\n",
       "    </tr>\n",
       "    <tr>\n",
       "      <th>30</th>\n",
       "      <td>Manager_Status_Probation</td>\n",
       "      <td>0.000000</td>\n",
       "    </tr>\n",
       "    <tr>\n",
       "      <th>14</th>\n",
       "      <td>Applicant_Gender_M</td>\n",
       "      <td>0.000000</td>\n",
       "    </tr>\n",
       "    <tr>\n",
       "      <th>37</th>\n",
       "      <td>City_Name_Delhi</td>\n",
       "      <td>0.000000</td>\n",
       "    </tr>\n",
       "    <tr>\n",
       "      <th>16</th>\n",
       "      <td>Applicant_Marital_Status_O</td>\n",
       "      <td>0.000000</td>\n",
       "    </tr>\n",
       "  </tbody>\n",
       "</table>\n",
       "</div>"
      ],
      "text/plain": [
       "                              Features  Importance\n",
       "21  Applicant_Occupation_Self Employed    0.085344\n",
       "50                City_Name_Tamil Nadu    0.026464\n",
       "11            Application_Receipt_Year    0.024843\n",
       "22        Applicant_Occupation_Student    0.023132\n",
       "53               City_Name_West Bengal    0.022354\n",
       "9                       Manager_Tenure    0.021916\n",
       "25   Applicant_Qualification_Class XII    0.021887\n",
       "26    Applicant_Qualification_Graduate    0.021724\n",
       "29         Manager_Status_Confirmation    0.021616\n",
       "10           Application_Receipt_Month    0.021295\n",
       "47                    City_Name_Odisha    0.020892\n",
       "52             City_Name_Uttar Pradesh    0.020868\n",
       "48             City_Name_Outside_India    0.020845\n",
       "5                     Manager_Business    0.020809\n",
       "0                           Office_PIN    0.020806\n",
       "56                Country_Name_România    0.019579\n",
       "13                  Applicant_Gender_F    0.019455\n",
       "46               City_Name_Maharashtra    0.019351\n",
       "18       Applicant_Occupation_Business    0.019341\n",
       "1          Manager_Joining_Designation    0.019141\n",
       "17          Applicant_Marital_Status_S    0.019121\n",
       "2          Manager_Current_Designation    0.019063\n",
       "4                    Manager_Num_Coded    0.018970\n",
       "23        Applicant_Occupation_Unknown    0.018866\n",
       "38                   City_Name_Gujarat    0.018764\n",
       "31                    Manager_Gender_F    0.018501\n",
       "36              City_Name_Chhattisgarh    0.018278\n",
       "6                 Manager_Num_Products    0.017892\n",
       "7                        Applicant_Age    0.017480\n",
       "19         Applicant_Occupation_Others    0.017271\n",
       "40          City_Name_Himachal Pradesh    0.017097\n",
       "24     Applicant_Qualification_Class X    0.016826\n",
       "54                  Country_Name_India    0.016779\n",
       "8                          Manager_Age    0.016631\n",
       "44                    City_Name_Kerala    0.016542\n",
       "49                 City_Name_Rajasthan    0.016468\n",
       "12                       Manager_Grade    0.015900\n",
       "34                     City_Name_Assam    0.015649\n",
       "28    Applicant_Qualification_PostGrad    0.015488\n",
       "35                     City_Name_Bihar    0.015111\n",
       "3              Manager_Num_Application    0.015094\n",
       "33            City_Name_Andhra Pradesh    0.014925\n",
       "42                 City_Name_Jharkhand    0.014684\n",
       "20       Applicant_Occupation_Salaried    0.014642\n",
       "51                 City_Name_Telangana    0.014568\n",
       "15          Applicant_Marital_Status_M    0.014108\n",
       "45            City_Name_Madhya Pradesh    0.014004\n",
       "41         City_Name_Jammu and Kashmir    0.013508\n",
       "32                    Manager_Gender_M    0.012676\n",
       "55                 Country_Name_Others    0.012395\n",
       "27      Applicant_Qualification_Others    0.011436\n",
       "43                 City_Name_Karnataka    0.009606\n",
       "39                   City_Name_Haryana    0.000000\n",
       "30            Manager_Status_Probation    0.000000\n",
       "14                  Applicant_Gender_M    0.000000\n",
       "37                     City_Name_Delhi    0.000000\n",
       "16          Applicant_Marital_Status_O    0.000000"
      ]
     },
     "metadata": {},
     "execution_count": 428
    }
   ],
   "metadata": {}
  },
  {
   "cell_type": "code",
   "execution_count": null,
   "source": [],
   "outputs": [],
   "metadata": {}
  },
  {
   "cell_type": "markdown",
   "source": [
    "## Missing Managers"
   ],
   "metadata": {}
  },
  {
   "cell_type": "code",
   "execution_count": 445,
   "source": [
    "data_missing_manager_xg = data_cleaned.copy()\r\n",
    "data_missing_manager_test_xg = data_missing_manager_test.copy()"
   ],
   "outputs": [],
   "metadata": {}
  },
  {
   "cell_type": "code",
   "execution_count": 446,
   "source": [
    "data_missing_manager_xg.drop(data_missing_manager_xg[data_missing_manager_xg.Applicant_Occupation == \"Student\"].index, inplace=True)"
   ],
   "outputs": [],
   "metadata": {}
  },
  {
   "cell_type": "code",
   "execution_count": 447,
   "source": [
    "data_missing_manager_xg.drop(['Manager_Joining_Designation', 'Manager_Grade', 'Manager_Current_Designation', 'Manager_Status', 'Manager_Gender', 'Manager_Num_Application', 'Manager_Num_Coded', 'Manager_Business', 'Manager_Num_Products', 'Manager_Age', 'Manager_Tenure'], axis=1, inplace=True)\r\n",
    "data_missing_manager_test_xg.drop(['Manager_Joining_Designation', 'Manager_Grade' , 'Manager_Current_Designation', 'Manager_Status', 'Manager_Gender', 'Manager_Num_Application', 'Manager_Num_Coded', 'Manager_Business', 'Manager_Num_Products', 'Manager_Age', 'Manager_Tenure'], axis=1, inplace=True)"
   ],
   "outputs": [],
   "metadata": {}
  },
  {
   "cell_type": "code",
   "execution_count": 448,
   "source": [
    "xg_boost_parameter = data_missing_manager_xg.copy()"
   ],
   "outputs": [],
   "metadata": {}
  },
  {
   "cell_type": "code",
   "execution_count": 449,
   "source": [
    "xg_boost_parameter.head()"
   ],
   "outputs": [
    {
     "output_type": "execute_result",
     "data": {
      "text/html": [
       "<div>\n",
       "<style scoped>\n",
       "    .dataframe tbody tr th:only-of-type {\n",
       "        vertical-align: middle;\n",
       "    }\n",
       "\n",
       "    .dataframe tbody tr th {\n",
       "        vertical-align: top;\n",
       "    }\n",
       "\n",
       "    .dataframe thead th {\n",
       "        text-align: right;\n",
       "    }\n",
       "</style>\n",
       "<table border=\"1\" class=\"dataframe\">\n",
       "  <thead>\n",
       "    <tr style=\"text-align: right;\">\n",
       "      <th></th>\n",
       "      <th>ID</th>\n",
       "      <th>Office_PIN</th>\n",
       "      <th>Applicant_Gender</th>\n",
       "      <th>Applicant_Marital_Status</th>\n",
       "      <th>Applicant_Occupation</th>\n",
       "      <th>Applicant_Qualification</th>\n",
       "      <th>Business_Sourced</th>\n",
       "      <th>Applicant_Age</th>\n",
       "      <th>Application_Receipt_Month</th>\n",
       "      <th>Application_Receipt_Year</th>\n",
       "      <th>City_Name</th>\n",
       "      <th>Country_Name</th>\n",
       "    </tr>\n",
       "  </thead>\n",
       "  <tbody>\n",
       "    <tr>\n",
       "      <th>0</th>\n",
       "      <td>FIN1000001</td>\n",
       "      <td>842001</td>\n",
       "      <td>M</td>\n",
       "      <td>M</td>\n",
       "      <td>Others</td>\n",
       "      <td>Graduate</td>\n",
       "      <td>0</td>\n",
       "      <td>5.916080</td>\n",
       "      <td>4</td>\n",
       "      <td>2007</td>\n",
       "      <td>Bihar</td>\n",
       "      <td>India</td>\n",
       "    </tr>\n",
       "    <tr>\n",
       "      <th>1</th>\n",
       "      <td>FIN1000002</td>\n",
       "      <td>842001</td>\n",
       "      <td>M</td>\n",
       "      <td>S</td>\n",
       "      <td>Others</td>\n",
       "      <td>Class XII</td>\n",
       "      <td>1</td>\n",
       "      <td>4.898979</td>\n",
       "      <td>4</td>\n",
       "      <td>2007</td>\n",
       "      <td>Bihar</td>\n",
       "      <td>India</td>\n",
       "    </tr>\n",
       "    <tr>\n",
       "      <th>2</th>\n",
       "      <td>FIN1000003</td>\n",
       "      <td>800001</td>\n",
       "      <td>M</td>\n",
       "      <td>M</td>\n",
       "      <td>Business</td>\n",
       "      <td>Class XII</td>\n",
       "      <td>0</td>\n",
       "      <td>6.403124</td>\n",
       "      <td>4</td>\n",
       "      <td>2007</td>\n",
       "      <td>Outside_India</td>\n",
       "      <td>România</td>\n",
       "    </tr>\n",
       "    <tr>\n",
       "      <th>3</th>\n",
       "      <td>FIN1000004</td>\n",
       "      <td>814112</td>\n",
       "      <td>M</td>\n",
       "      <td>S</td>\n",
       "      <td>Salaried</td>\n",
       "      <td>Class XII</td>\n",
       "      <td>0</td>\n",
       "      <td>4.358899</td>\n",
       "      <td>4</td>\n",
       "      <td>2007</td>\n",
       "      <td>Jharkhand</td>\n",
       "      <td>India</td>\n",
       "    </tr>\n",
       "    <tr>\n",
       "      <th>4</th>\n",
       "      <td>FIN1000005</td>\n",
       "      <td>814112</td>\n",
       "      <td>M</td>\n",
       "      <td>M</td>\n",
       "      <td>Others</td>\n",
       "      <td>Class XII</td>\n",
       "      <td>0</td>\n",
       "      <td>4.582576</td>\n",
       "      <td>4</td>\n",
       "      <td>2007</td>\n",
       "      <td>Jharkhand</td>\n",
       "      <td>India</td>\n",
       "    </tr>\n",
       "  </tbody>\n",
       "</table>\n",
       "</div>"
      ],
      "text/plain": [
       "           ID  Office_PIN Applicant_Gender Applicant_Marital_Status  \\\n",
       "0  FIN1000001      842001                M                        M   \n",
       "1  FIN1000002      842001                M                        S   \n",
       "2  FIN1000003      800001                M                        M   \n",
       "3  FIN1000004      814112                M                        S   \n",
       "4  FIN1000005      814112                M                        M   \n",
       "\n",
       "  Applicant_Occupation Applicant_Qualification  Business_Sourced  \\\n",
       "0               Others                Graduate                 0   \n",
       "1               Others               Class XII                 1   \n",
       "2             Business               Class XII                 0   \n",
       "3             Salaried               Class XII                 0   \n",
       "4               Others               Class XII                 0   \n",
       "\n",
       "   Applicant_Age  Application_Receipt_Month  Application_Receipt_Year  \\\n",
       "0       5.916080                          4                      2007   \n",
       "1       4.898979                          4                      2007   \n",
       "2       6.403124                          4                      2007   \n",
       "3       4.358899                          4                      2007   \n",
       "4       4.582576                          4                      2007   \n",
       "\n",
       "       City_Name Country_Name  \n",
       "0          Bihar        India  \n",
       "1          Bihar        India  \n",
       "2  Outside_India      România  \n",
       "3      Jharkhand        India  \n",
       "4      Jharkhand        India  "
      ]
     },
     "metadata": {},
     "execution_count": 449
    }
   ],
   "metadata": {}
  },
  {
   "cell_type": "code",
   "execution_count": 450,
   "source": [
    "data_missing_manager_xg.drop(\"ID\", axis=1, inplace=True)\r\n",
    "data_missing_manager_test_xg.drop(\"ID\", axis=1, inplace=True)"
   ],
   "outputs": [],
   "metadata": {}
  },
  {
   "cell_type": "code",
   "execution_count": 451,
   "source": [
    "data_missing_manager_xg.shape, data_missing_manager_test_xg.shape"
   ],
   "outputs": [
    {
     "output_type": "execute_result",
     "data": {
      "text/plain": [
       "((9426, 11), (824, 10))"
      ]
     },
     "metadata": {},
     "execution_count": 451
    }
   ],
   "metadata": {}
  },
  {
   "cell_type": "code",
   "execution_count": 452,
   "source": [
    "data_missing_manager_xg = pd.get_dummies(data_missing_manager_xg)\r\n",
    "data_missing_manager_test_xg = pd.get_dummies(data_missing_manager_test_xg)"
   ],
   "outputs": [],
   "metadata": {}
  },
  {
   "cell_type": "code",
   "execution_count": 453,
   "source": [
    "\r\n",
    "data_missing_manager_xg.drop(\"City_Name_Tamil Nadu\", axis=1, inplace=True)\r\n",
    "data_missing_manager_xg.drop(\"City_Name_Assam\", axis=1, inplace=True)"
   ],
   "outputs": [],
   "metadata": {}
  },
  {
   "cell_type": "code",
   "execution_count": 454,
   "source": [
    "data_missing_manager_test_xg.columns"
   ],
   "outputs": [
    {
     "output_type": "execute_result",
     "data": {
      "text/plain": [
       "Index(['Office_PIN', 'Applicant_Age', 'Application_Receipt_Month',\n",
       "       'Application_Receipt_Year', 'Applicant_Gender_F', 'Applicant_Gender_M',\n",
       "       'Applicant_Marital_Status_M', 'Applicant_Marital_Status_O',\n",
       "       'Applicant_Marital_Status_S', 'Applicant_Occupation_Business',\n",
       "       'Applicant_Occupation_Others', 'Applicant_Occupation_Salaried',\n",
       "       'Applicant_Occupation_Self Employed', 'Applicant_Occupation_Unknown',\n",
       "       'Applicant_Qualification_Class X', 'Applicant_Qualification_Class XII',\n",
       "       'Applicant_Qualification_Graduate', 'Applicant_Qualification_Others',\n",
       "       'Applicant_Qualification_PostGrad', 'City_Name_Andhra Pradesh',\n",
       "       'City_Name_Bihar', 'City_Name_Chhattisgarh', 'City_Name_Delhi',\n",
       "       'City_Name_Gujarat', 'City_Name_Haryana', 'City_Name_Himachal Pradesh',\n",
       "       'City_Name_Jammu and Kashmir', 'City_Name_Jharkhand',\n",
       "       'City_Name_Karnataka', 'City_Name_Kerala', 'City_Name_Madhya Pradesh',\n",
       "       'City_Name_Maharashtra', 'City_Name_Odisha', 'City_Name_Outside_India',\n",
       "       'City_Name_Rajasthan', 'City_Name_Telangana', 'City_Name_Uttar Pradesh',\n",
       "       'City_Name_West Bengal', 'Country_Name_India', 'Country_Name_Others',\n",
       "       'Country_Name_România'],\n",
       "      dtype='object')"
      ]
     },
     "metadata": {},
     "execution_count": 454
    }
   ],
   "metadata": {}
  },
  {
   "cell_type": "code",
   "execution_count": 455,
   "source": [
    "from sklearn.utils import resample\r\n",
    "\r\n",
    "# separate minority and majority classes\r\n",
    "not_accept = data_missing_manager_xg[data_missing_manager_xg.Business_Sourced==1]\r\n",
    "accept = data_missing_manager_xg[data_missing_manager_xg.Business_Sourced==0]\r\n",
    "\r\n",
    "# upsample minority\r\n",
    "not_accept_upsampled = resample(not_accept,\r\n",
    "                          replace=True, # sample with replacement\r\n",
    "                          n_samples=len(accept), # match number in majority class\r\n",
    "                          random_state=27) # reproducible results\r\n",
    "\r\n",
    "# combine majority and upsampled minority\r\n",
    "data_missing_manager_xg = pd.concat([not_accept_upsampled, accept])"
   ],
   "outputs": [],
   "metadata": {}
  },
  {
   "cell_type": "code",
   "execution_count": 456,
   "source": [
    "X_xg = data_missing_manager_xg.drop('Business_Sourced', axis=1)\r\n",
    "y_xg = data_missing_manager_xg['Business_Sourced']"
   ],
   "outputs": [],
   "metadata": {}
  },
  {
   "cell_type": "code",
   "execution_count": 457,
   "source": [
    "X_train_xg,X_test_xg, y_train_xg, y_test_xg = train_test_split(X_xg, y_xg, random_state=22)"
   ],
   "outputs": [],
   "metadata": {}
  },
  {
   "cell_type": "code",
   "execution_count": 458,
   "source": [
    "#model_xg = XGBClassifier(random_state=42, n_jobs=-1, n_estimators=20, max_depth=4)\r\n",
    "\r\n",
    "model_xg = XGBClassifier(learning_rate =0.1, n_estimators=300, max_depth=4,\r\n",
    " min_child_weight=5, gamma=0.4, subsample=0.85, colsample_bytree=0.7,\r\n",
    " objective= 'binary:logistic', nthread=4, scale_pos_weight=1,seed=27, reg_alpha=0.01)"
   ],
   "outputs": [],
   "metadata": {}
  },
  {
   "cell_type": "code",
   "execution_count": 459,
   "source": [
    "model_xg.fit(X_xg, y_xg)"
   ],
   "outputs": [
    {
     "output_type": "stream",
     "name": "stderr",
     "text": [
      "c:\\Users\\Neelam\\Desktop\\Desktop\\Python\\Video\\env\\lib\\site-packages\\xgboost\\sklearn.py:1146: UserWarning: The use of label encoder in XGBClassifier is deprecated and will be removed in a future release. To remove this warning, do the following: 1) Pass option use_label_encoder=False when constructing XGBClassifier object; and 2) Encode your labels (y) as integers starting with 0, i.e. 0, 1, 2, ..., [num_class - 1].\n",
      "  warnings.warn(label_encoder_deprecation_msg, UserWarning)\n"
     ]
    },
    {
     "output_type": "stream",
     "name": "stdout",
     "text": [
      "[11:19:54] WARNING: C:/Users/Administrator/workspace/xgboost-win64_release_1.4.0/src/learner.cc:1095: Starting in XGBoost 1.3.0, the default evaluation metric used with the objective 'binary:logistic' was changed from 'error' to 'logloss'. Explicitly set eval_metric if you'd like to restore the old behavior.\n"
     ]
    },
    {
     "output_type": "execute_result",
     "data": {
      "text/plain": [
       "XGBClassifier(base_score=0.5, booster='gbtree', colsample_bylevel=1,\n",
       "              colsample_bynode=1, colsample_bytree=0.7, gamma=0.4, gpu_id=-1,\n",
       "              importance_type='gain', interaction_constraints='',\n",
       "              learning_rate=0.1, max_delta_step=0, max_depth=4,\n",
       "              min_child_weight=5, missing=nan, monotone_constraints='()',\n",
       "              n_estimators=300, n_jobs=4, nthread=4, num_parallel_tree=1,\n",
       "              random_state=27, reg_alpha=0.01, reg_lambda=1, scale_pos_weight=1,\n",
       "              seed=27, subsample=0.85, tree_method='exact',\n",
       "              validate_parameters=1, verbosity=None)"
      ]
     },
     "metadata": {},
     "execution_count": 459
    }
   ],
   "metadata": {}
  },
  {
   "cell_type": "code",
   "execution_count": 460,
   "source": [
    "pred1_xg = model_xg.predict(X_train_xg)\r\n",
    "pred2_xg = model_xg.predict(X_test_xg)\r\n",
    "\r\n",
    "\r\n",
    "#"
   ],
   "outputs": [],
   "metadata": {}
  },
  {
   "cell_type": "code",
   "execution_count": 461,
   "source": [
    "roc_auc_score(pred1_xg, y_train_xg), roc_auc_score(pred2_xg, y_test_xg)\r\n"
   ],
   "outputs": [
    {
     "output_type": "execute_result",
     "data": {
      "text/plain": [
       "(0.7145091887046168, 0.7321548161988761)"
      ]
     },
     "metadata": {},
     "execution_count": 461
    }
   ],
   "metadata": {}
  },
  {
   "cell_type": "code",
   "execution_count": 462,
   "source": [
    "pred_xg_misscols = model_xg.predict(data_missing_manager_test_xg)"
   ],
   "outputs": [],
   "metadata": {}
  },
  {
   "cell_type": "markdown",
   "source": [
    "# Combining Values"
   ],
   "metadata": {}
  },
  {
   "cell_type": "code",
   "execution_count": 463,
   "source": [
    "data_missing_manager_test_pred = data_test_cleaned[data_test_cleaned.Manager_Current_Designation.isna()]\r\n",
    "data_all_columns_test_pred = data_test_cleaned[data_test_cleaned.Manager_Current_Designation.notna()]"
   ],
   "outputs": [],
   "metadata": {}
  },
  {
   "cell_type": "code",
   "execution_count": 464,
   "source": [
    "data_all_columns_test_pred[\"Business_Sourced\"] = pred_xg_allcols\r\n",
    "\r\n",
    "#data_all_columns_test_pred[\"Business_Sourced\"] = pca_model\r\n",
    "\r\n",
    "data_missing_manager_test_pred[\"Business_Sourced\"] = pred_xg_misscols"
   ],
   "outputs": [
    {
     "output_type": "stream",
     "name": "stderr",
     "text": [
      "<ipython-input-464-db4a473fa7a2>:1: SettingWithCopyWarning: \n",
      "A value is trying to be set on a copy of a slice from a DataFrame.\n",
      "Try using .loc[row_indexer,col_indexer] = value instead\n",
      "\n",
      "See the caveats in the documentation: https://pandas.pydata.org/pandas-docs/stable/user_guide/indexing.html#returning-a-view-versus-a-copy\n",
      "  data_all_columns_test_pred[\"Business_Sourced\"] = pred_xg_allcols\n",
      "<ipython-input-464-db4a473fa7a2>:5: SettingWithCopyWarning: \n",
      "A value is trying to be set on a copy of a slice from a DataFrame.\n",
      "Try using .loc[row_indexer,col_indexer] = value instead\n",
      "\n",
      "See the caveats in the documentation: https://pandas.pydata.org/pandas-docs/stable/user_guide/indexing.html#returning-a-view-versus-a-copy\n",
      "  data_missing_manager_test_pred[\"Business_Sourced\"] = pred_xg_misscols\n"
     ]
    }
   ],
   "metadata": {}
  },
  {
   "cell_type": "code",
   "execution_count": 465,
   "source": [
    "frame = [data_missing_manager_test_pred, data_all_columns_test_pred]\r\n",
    "data_all_columns_test_pred_final = pd.concat(frame)\r\n",
    "\r\n",
    "data_all_columns_test_pred_final.sort_index(inplace=True)\r\n",
    "\r\n",
    "data_all_columns_test_pred_final[[\"ID\", \"Business_Sourced\"]].to_csv(\"Submitions_2.csv\", index=False)"
   ],
   "outputs": [],
   "metadata": {}
  },
  {
   "cell_type": "code",
   "execution_count": null,
   "source": [],
   "outputs": [],
   "metadata": {}
  },
  {
   "cell_type": "code",
   "execution_count": null,
   "source": [],
   "outputs": [],
   "metadata": {}
  },
  {
   "cell_type": "code",
   "execution_count": null,
   "source": [],
   "outputs": [],
   "metadata": {}
  },
  {
   "cell_type": "code",
   "execution_count": null,
   "source": [],
   "outputs": [],
   "metadata": {}
  },
  {
   "cell_type": "code",
   "execution_count": null,
   "source": [],
   "outputs": [],
   "metadata": {}
  },
  {
   "cell_type": "code",
   "execution_count": null,
   "source": [],
   "outputs": [],
   "metadata": {}
  },
  {
   "cell_type": "code",
   "execution_count": null,
   "source": [],
   "outputs": [],
   "metadata": {}
  },
  {
   "cell_type": "code",
   "execution_count": null,
   "source": [],
   "outputs": [],
   "metadata": {}
  },
  {
   "cell_type": "code",
   "execution_count": null,
   "source": [],
   "outputs": [],
   "metadata": {}
  },
  {
   "cell_type": "code",
   "execution_count": null,
   "source": [],
   "outputs": [],
   "metadata": {}
  },
  {
   "cell_type": "code",
   "execution_count": null,
   "source": [],
   "outputs": [],
   "metadata": {}
  },
  {
   "cell_type": "code",
   "execution_count": null,
   "source": [],
   "outputs": [],
   "metadata": {}
  },
  {
   "cell_type": "code",
   "execution_count": null,
   "source": [],
   "outputs": [],
   "metadata": {}
  },
  {
   "cell_type": "code",
   "execution_count": null,
   "source": [],
   "outputs": [],
   "metadata": {}
  },
  {
   "cell_type": "code",
   "execution_count": null,
   "source": [],
   "outputs": [],
   "metadata": {}
  },
  {
   "cell_type": "code",
   "execution_count": null,
   "source": [],
   "outputs": [],
   "metadata": {}
  },
  {
   "cell_type": "code",
   "execution_count": null,
   "source": [],
   "outputs": [],
   "metadata": {}
  },
  {
   "cell_type": "code",
   "execution_count": null,
   "source": [],
   "outputs": [],
   "metadata": {}
  },
  {
   "cell_type": "code",
   "execution_count": null,
   "source": [],
   "outputs": [],
   "metadata": {}
  },
  {
   "cell_type": "code",
   "execution_count": null,
   "source": [],
   "outputs": [],
   "metadata": {}
  },
  {
   "cell_type": "code",
   "execution_count": null,
   "source": [],
   "outputs": [],
   "metadata": {}
  },
  {
   "cell_type": "code",
   "execution_count": null,
   "source": [],
   "outputs": [],
   "metadata": {}
  },
  {
   "cell_type": "markdown",
   "source": [
    "## After PCA"
   ],
   "metadata": {}
  },
  {
   "cell_type": "code",
   "execution_count": 303,
   "source": [
    "from sklearn.utils import resample\r\n",
    "\r\n",
    "# separate minority and majority classes\r\n",
    "not_accept = data_all_columns[data_all_columns.Business_Sourced==1]\r\n",
    "accept = data_all_columns[data_all_columns.Business_Sourced==0]\r\n",
    "\r\n",
    "# upsample minority\r\n",
    "not_accept_upsampled = resample(not_accept,\r\n",
    "                          replace=True, # sample with replacement\r\n",
    "                          n_samples=len(accept), # match number in majority class\r\n",
    "                          random_state=27) # reproducible results\r\n",
    "\r\n",
    "# combine majority and upsampled minority\r\n",
    "data_all_columns = pd.concat([not_accept_upsampled, accept])"
   ],
   "outputs": [],
   "metadata": {}
  },
  {
   "cell_type": "code",
   "execution_count": 304,
   "source": [
    "X_pca_all = data_all_columns.drop('Business_Sourced', axis=1)\r\n",
    "y_pca_all = data_all_columns['Business_Sourced']"
   ],
   "outputs": [],
   "metadata": {}
  },
  {
   "cell_type": "code",
   "execution_count": 305,
   "source": [
    "# Standardise the data\r\n",
    "scaler = StandardScaler()\r\n",
    "X_pca_all = scaler.fit_transform(X_pca_all)"
   ],
   "outputs": [],
   "metadata": {}
  },
  {
   "cell_type": "code",
   "execution_count": 306,
   "source": [
    "X_train_pca_all,X_test_pca_all, y_train_pca_all, y_test_pca_all = train_test_split(X_pca_all, y_pca_all, random_state=22)"
   ],
   "outputs": [],
   "metadata": {}
  },
  {
   "cell_type": "code",
   "execution_count": 307,
   "source": [
    "#Fitting the PCA algorithm on our data to find the appropriate number of principal components to keep\r\n",
    "pca = PCA().fit(X_train_pca_all) "
   ],
   "outputs": [],
   "metadata": {}
  },
  {
   "cell_type": "code",
   "execution_count": 319,
   "source": [
    "X_train_pca_all.shape"
   ],
   "outputs": [
    {
     "output_type": "execute_result",
     "data": {
      "text/plain": [
       "(8719, 55)"
      ]
     },
     "metadata": {},
     "execution_count": 319
    }
   ],
   "metadata": {}
  },
  {
   "cell_type": "code",
   "execution_count": 309,
   "source": [
    "#Plotting the Cumulative Summation of the Explained Variance\r\n",
    "plt.figure(figsize=(20,5))\r\n",
    "plt.plot(np.cumsum(pca.explained_variance_ratio_) * 100)\r\n",
    "plt.xlabel('Number of Components')\r\n",
    "plt.ylabel('Variance (%)')\r\n",
    "plt.title('Explained Variance')\r\n",
    "plt.xticks(np.arange(0, 60, 2))\r\n",
    "\r\n",
    "# We want to preserve 95% of the variance so plot a horizontal line at 95% variance\r\n",
    "plt.axhline(y=95, color='r', linestyle='--')\r\n",
    "plt.show()"
   ],
   "outputs": [
    {
     "output_type": "display_data",
     "data": {
      "image/png": "[encoded data removed]",
      "text/plain": [
       "<Figure size 1440x360 with 1 Axes>"
      ]
     },
     "metadata": {
      "needs_background": "light"
     }
    }
   ],
   "metadata": {}
  },
  {
   "cell_type": "code",
   "execution_count": 310,
   "source": [
    "# selecting only 350 components\r\n",
    "pca = PCA(37).fit(X_train_pca_all)"
   ],
   "outputs": [],
   "metadata": {}
  },
  {
   "cell_type": "code",
   "execution_count": 311,
   "source": [
    "# transform both training and validation data\r\n",
    "\r\n",
    "pca_training = pca.transform(X_train_pca_all)\r\n",
    "pca_test = pca.transform(X_test_pca_all)\r\n"
   ],
   "outputs": [],
   "metadata": {}
  },
  {
   "cell_type": "code",
   "execution_count": 312,
   "source": [
    "pca_model = pca.transform(data_all_columns_test)"
   ],
   "outputs": [],
   "metadata": {}
  },
  {
   "cell_type": "code",
   "execution_count": 313,
   "source": [
    "import xgboost as xgb\r\n",
    "from xgboost.sklearn import XGBClassifier\r\n",
    "from sklearn.metrics import roc_auc_score"
   ],
   "outputs": [],
   "metadata": {}
  },
  {
   "cell_type": "code",
   "execution_count": 314,
   "source": [
    "#model = XGBClassifier(random_state=42, n_jobs=-1, n_estimators=20, max_depth=4, min_child_weight=1)\r\n",
    "model_pca = XGBClassifier(learning_rate =0.1, n_estimators=300, max_depth=4,\r\n",
    " min_child_weight=4, gamma=0.3, subsample=0.85, colsample_bytree=0.95,\r\n",
    " objective= 'binary:logistic', nthread=4, scale_pos_weight=1,seed=27, reg_alpha=0.01)"
   ],
   "outputs": [],
   "metadata": {}
  },
  {
   "cell_type": "code",
   "execution_count": 315,
   "source": [
    "model_pca.fit(pca_training, y_train_pca_all)"
   ],
   "outputs": [
    {
     "output_type": "stream",
     "name": "stderr",
     "text": [
      "c:\\Users\\Neelam\\Desktop\\Desktop\\Python\\Video\\env\\lib\\site-packages\\xgboost\\sklearn.py:1146: UserWarning: The use of label encoder in XGBClassifier is deprecated and will be removed in a future release. To remove this warning, do the following: 1) Pass option use_label_encoder=False when constructing XGBClassifier object; and 2) Encode your labels (y) as integers starting with 0, i.e. 0, 1, 2, ..., [num_class - 1].\n",
      "  warnings.warn(label_encoder_deprecation_msg, UserWarning)\n"
     ]
    },
    {
     "output_type": "stream",
     "name": "stdout",
     "text": [
      "[11:04:47] WARNING: C:/Users/Administrator/workspace/xgboost-win64_release_1.4.0/src/learner.cc:1095: Starting in XGBoost 1.3.0, the default evaluation metric used with the objective 'binary:logistic' was changed from 'error' to 'logloss'. Explicitly set eval_metric if you'd like to restore the old behavior.\n"
     ]
    },
    {
     "output_type": "execute_result",
     "data": {
      "text/plain": [
       "XGBClassifier(base_score=0.5, booster='gbtree', colsample_bylevel=1,\n",
       "              colsample_bynode=1, colsample_bytree=0.95, gamma=0.3, gpu_id=-1,\n",
       "              importance_type='gain', interaction_constraints='',\n",
       "              learning_rate=0.1, max_delta_step=0, max_depth=4,\n",
       "              min_child_weight=4, missing=nan, monotone_constraints='()',\n",
       "              n_estimators=300, n_jobs=4, nthread=4, num_parallel_tree=1,\n",
       "              random_state=27, reg_alpha=0.01, reg_lambda=1, scale_pos_weight=1,\n",
       "              seed=27, subsample=0.85, tree_method='exact',\n",
       "              validate_parameters=1, verbosity=None)"
      ]
     },
     "metadata": {},
     "execution_count": 315
    }
   ],
   "metadata": {}
  },
  {
   "cell_type": "code",
   "execution_count": 316,
   "source": [
    "pred_train = model_pca.predict(pca_training)\r\n",
    "pred_test = model_pca.predict(pca_test)"
   ],
   "outputs": [],
   "metadata": {}
  },
  {
   "cell_type": "code",
   "execution_count": 317,
   "source": [
    "pred_pca_allcols = model_pca.predict(pca_model)\r\n"
   ],
   "outputs": [],
   "metadata": {}
  },
  {
   "cell_type": "code",
   "execution_count": 318,
   "source": [
    "#roc_auc_score(pred_train, y_train) \r\n",
    "roc_auc_score(pred_test, y_test_pca_all)"
   ],
   "outputs": [
    {
     "output_type": "execute_result",
     "data": {
      "text/plain": [
       "0.7214552456363393"
      ]
     },
     "metadata": {},
     "execution_count": 318
    }
   ],
   "metadata": {}
  },
  {
   "cell_type": "markdown",
   "source": [
    "## PCA for missing manager data"
   ],
   "metadata": {}
  },
  {
   "cell_type": "code",
   "execution_count": 320,
   "source": [
    "data_missing_manager_xg = data_cleaned.copy()\r\n",
    "data_missing_manager_test_xg = data_missing_manager_test.copy()"
   ],
   "outputs": [],
   "metadata": {}
  },
  {
   "cell_type": "code",
   "execution_count": 321,
   "source": [
    "data_missing_manager_xg.drop(data_missing_manager_xg[data_missing_manager_xg.Applicant_Occupation == \"Student\"].index, inplace=True)"
   ],
   "outputs": [],
   "metadata": {}
  },
  {
   "cell_type": "code",
   "execution_count": 322,
   "source": [
    "data_missing_manager_xg.drop(['Manager_Joining_Designation', 'Manager_Current_Designation', 'Manager_Status', 'Manager_Gender', 'Manager_Num_Application', 'Manager_Num_Coded', 'Manager_Business', 'Manager_Num_Products', 'Manager_Age', 'Manager_Tenure'], axis=1, inplace=True)\r\n",
    "data_missing_manager_test_xg.drop(['Manager_Joining_Designation', 'Manager_Current_Designation', 'Manager_Status', 'Manager_Gender', 'Manager_Num_Application', 'Manager_Num_Coded', 'Manager_Business', 'Manager_Num_Products', 'Manager_Age', 'Manager_Tenure'], axis=1, inplace=True)"
   ],
   "outputs": [],
   "metadata": {}
  },
  {
   "cell_type": "code",
   "execution_count": 323,
   "source": [
    "data_missing_manager_xg.drop(\"ID\", axis=1, inplace=True)\r\n",
    "data_missing_manager_test_xg.drop(\"ID\", axis=1, inplace=True)"
   ],
   "outputs": [],
   "metadata": {}
  },
  {
   "cell_type": "code",
   "execution_count": 329,
   "source": [
    "data_missing_manager_xg.shape, data_missing_manager_test_xg.shape"
   ],
   "outputs": [
    {
     "output_type": "execute_result",
     "data": {
      "text/plain": [
       "((9426, 41), (824, 40))"
      ]
     },
     "metadata": {},
     "execution_count": 329
    }
   ],
   "metadata": {}
  },
  {
   "cell_type": "code",
   "execution_count": 325,
   "source": [
    "data_missing_manager_xg.columns"
   ],
   "outputs": [
    {
     "output_type": "execute_result",
     "data": {
      "text/plain": [
       "Index(['Applicant_Gender', 'Applicant_Marital_Status', 'Applicant_Occupation',\n",
       "       'Applicant_Qualification', 'Business_Sourced', 'Applicant_Age',\n",
       "       'Application_Receipt_Month', 'Application_Receipt_Year', 'City_Name',\n",
       "       'Country_Name'],\n",
       "      dtype='object')"
      ]
     },
     "metadata": {},
     "execution_count": 325
    }
   ],
   "metadata": {}
  },
  {
   "cell_type": "code",
   "execution_count": 326,
   "source": [
    "data_missing_manager_test_xg.columns"
   ],
   "outputs": [
    {
     "output_type": "execute_result",
     "data": {
      "text/plain": [
       "Index(['Applicant_Gender', 'Applicant_Marital_Status', 'Applicant_Occupation',\n",
       "       'Applicant_Qualification', 'Applicant_Age', 'Application_Receipt_Month',\n",
       "       'Application_Receipt_Year', 'City_Name', 'Country_Name'],\n",
       "      dtype='object')"
      ]
     },
     "metadata": {},
     "execution_count": 326
    }
   ],
   "metadata": {}
  },
  {
   "cell_type": "code",
   "execution_count": 327,
   "source": [
    "data_missing_manager_xg = pd.get_dummies(data_missing_manager_xg)\r\n",
    "data_missing_manager_test_xg = pd.get_dummies(data_missing_manager_test_xg)"
   ],
   "outputs": [],
   "metadata": {}
  },
  {
   "cell_type": "code",
   "execution_count": 328,
   "source": [
    "data_missing_manager_xg.drop(\"City_Name_Tamil Nadu\", axis=1, inplace=True)\r\n",
    "data_missing_manager_xg.drop(\"City_Name_Assam\", axis=1, inplace=True)\r\n",
    "#data_missing_manager_xg.drop(\"Applicant_Occupation_Student\", axis=1, inplace=True)"
   ],
   "outputs": [],
   "metadata": {}
  },
  {
   "cell_type": "code",
   "execution_count": 330,
   "source": [
    "from sklearn.utils import resample\r\n",
    "\r\n",
    "# separate minority and majority classes\r\n",
    "not_accept = data_missing_manager_xg[data_missing_manager_xg.Business_Sourced==1]\r\n",
    "accept = data_missing_manager_xg[data_missing_manager_xg.Business_Sourced==0]\r\n",
    "\r\n",
    "# upsample minority\r\n",
    "not_accept_upsampled = resample(not_accept,\r\n",
    "                          replace=True, # sample with replacement\r\n",
    "                          n_samples=len(accept), # match number in majority class\r\n",
    "                          random_state=27) # reproducible results\r\n",
    "\r\n",
    "# combine majority and upsampled minority\r\n",
    "data_missing_manager_xg = pd.concat([not_accept_upsampled, accept])"
   ],
   "outputs": [],
   "metadata": {}
  },
  {
   "cell_type": "code",
   "execution_count": 331,
   "source": [
    "X_xg = data_missing_manager_xg.drop('Business_Sourced', axis=1)\r\n",
    "y_xg = data_missing_manager_xg['Business_Sourced']"
   ],
   "outputs": [],
   "metadata": {}
  },
  {
   "cell_type": "code",
   "execution_count": 332,
   "source": [
    "# Standardise the data\r\n",
    "scaler = StandardScaler()\r\n",
    "X_xg = scaler.fit_transform(X_xg)"
   ],
   "outputs": [],
   "metadata": {}
  },
  {
   "cell_type": "code",
   "execution_count": 333,
   "source": [
    "X_train_xg,X_test_xg, y_train_xg, y_test_xg = train_test_split(X_xg, y_xg, random_state=22)"
   ],
   "outputs": [],
   "metadata": {}
  },
  {
   "cell_type": "code",
   "execution_count": 334,
   "source": [
    "#Fitting the PCA algorithm on our data to find the appropriate number of principal components to keep\r\n",
    "pca_miss = PCA().fit(X_train_xg) "
   ],
   "outputs": [],
   "metadata": {}
  },
  {
   "cell_type": "code",
   "execution_count": 335,
   "source": [
    "#Plotting the Cumulative Summation of the Explained Variance\r\n",
    "plt.figure(figsize=(20,5))\r\n",
    "plt.plot(np.cumsum(pca_miss.explained_variance_ratio_) * 100)\r\n",
    "plt.xlabel('Number of Components')\r\n",
    "plt.ylabel('Variance (%)')\r\n",
    "plt.title('Explained Variance')\r\n",
    "plt.xticks(np.arange(0, 60, 2))\r\n",
    "\r\n",
    "# We want to preserve 95% of the variance so plot a horizontal line at 95% variance\r\n",
    "plt.axhline(y=95, color='r', linestyle='--')\r\n",
    "plt.show()"
   ],
   "outputs": [
    {
     "output_type": "display_data",
     "data": {
      "image/png": "[encoded data removed]",
      "text/plain": [
       "<Figure size 1440x360 with 1 Axes>"
      ]
     },
     "metadata": {
      "needs_background": "light"
     }
    }
   ],
   "metadata": {}
  },
  {
   "cell_type": "code",
   "execution_count": 336,
   "source": [
    "# selecting only 350 components\r\n",
    "pca_miss = PCA(31).fit(X_train_xg)"
   ],
   "outputs": [],
   "metadata": {}
  },
  {
   "cell_type": "code",
   "execution_count": 337,
   "source": [
    "# transform both training and validation data\r\n",
    "\r\n",
    "pca_training = pca_miss.transform(X_train_xg)\r\n",
    "pca_test = pca_miss.transform(X_test_xg)\r\n"
   ],
   "outputs": [],
   "metadata": {}
  },
  {
   "cell_type": "code",
   "execution_count": 338,
   "source": [
    "X_train_xg.shape, data_missing_manager_test_xg.shape"
   ],
   "outputs": [
    {
     "output_type": "execute_result",
     "data": {
      "text/plain": [
       "((9312, 40), (824, 40))"
      ]
     },
     "metadata": {},
     "execution_count": 338
    }
   ],
   "metadata": {}
  },
  {
   "cell_type": "code",
   "execution_count": 339,
   "source": [
    "pca_model_miss = pca_miss.transform(data_missing_manager_test_xg)"
   ],
   "outputs": [],
   "metadata": {}
  },
  {
   "cell_type": "code",
   "execution_count": 340,
   "source": [
    "data_missing_manager_test_xg.shape"
   ],
   "outputs": [
    {
     "output_type": "execute_result",
     "data": {
      "text/plain": [
       "(824, 40)"
      ]
     },
     "metadata": {},
     "execution_count": 340
    }
   ],
   "metadata": {}
  },
  {
   "cell_type": "code",
   "execution_count": 341,
   "source": [
    "#model_xg = XGBClassifier(random_state=42, n_jobs=-1, n_estimators=20, max_depth=4)\r\n",
    "\r\n",
    "model_xg = XGBClassifier(learning_rate =0.1, n_estimators=300, max_depth=5,\r\n",
    " min_child_weight=5, gamma=0.4, subsample=0.85, colsample_bytree=0.7,\r\n",
    " objective= 'binary:logistic', nthread=4, scale_pos_weight=1,seed=27, reg_alpha=0.01)"
   ],
   "outputs": [],
   "metadata": {}
  },
  {
   "cell_type": "code",
   "execution_count": 342,
   "source": [
    "model_xg.fit(pca_training, y_train_xg)"
   ],
   "outputs": [
    {
     "output_type": "stream",
     "name": "stderr",
     "text": [
      "c:\\Users\\Neelam\\Desktop\\Desktop\\Python\\Video\\env\\lib\\site-packages\\xgboost\\sklearn.py:1146: UserWarning: The use of label encoder in XGBClassifier is deprecated and will be removed in a future release. To remove this warning, do the following: 1) Pass option use_label_encoder=False when constructing XGBClassifier object; and 2) Encode your labels (y) as integers starting with 0, i.e. 0, 1, 2, ..., [num_class - 1].\n",
      "  warnings.warn(label_encoder_deprecation_msg, UserWarning)\n"
     ]
    },
    {
     "output_type": "stream",
     "name": "stdout",
     "text": [
      "[11:06:38] WARNING: C:/Users/Administrator/workspace/xgboost-win64_release_1.4.0/src/learner.cc:1095: Starting in XGBoost 1.3.0, the default evaluation metric used with the objective 'binary:logistic' was changed from 'error' to 'logloss'. Explicitly set eval_metric if you'd like to restore the old behavior.\n"
     ]
    },
    {
     "output_type": "execute_result",
     "data": {
      "text/plain": [
       "XGBClassifier(base_score=0.5, booster='gbtree', colsample_bylevel=1,\n",
       "              colsample_bynode=1, colsample_bytree=0.7, gamma=0.4, gpu_id=-1,\n",
       "              importance_type='gain', interaction_constraints='',\n",
       "              learning_rate=0.1, max_delta_step=0, max_depth=5,\n",
       "              min_child_weight=5, missing=nan, monotone_constraints='()',\n",
       "              n_estimators=300, n_jobs=4, nthread=4, num_parallel_tree=1,\n",
       "              random_state=27, reg_alpha=0.01, reg_lambda=1, scale_pos_weight=1,\n",
       "              seed=27, subsample=0.85, tree_method='exact',\n",
       "              validate_parameters=1, verbosity=None)"
      ]
     },
     "metadata": {},
     "execution_count": 342
    }
   ],
   "metadata": {}
  },
  {
   "cell_type": "code",
   "execution_count": 343,
   "source": [
    "pred_train = model_xg.predict(pca_training)\r\n",
    "pred_test = model_xg.predict(pca_test)"
   ],
   "outputs": [],
   "metadata": {}
  },
  {
   "cell_type": "code",
   "execution_count": 344,
   "source": [
    "\r\n",
    "#roc_auc_score(pred_train, y_train) \r\n",
    "roc_auc_score(pred_test, y_test_xg)"
   ],
   "outputs": [
    {
     "output_type": "execute_result",
     "data": {
      "text/plain": [
       "0.6930453180453181"
      ]
     },
     "metadata": {},
     "execution_count": 344
    }
   ],
   "metadata": {}
  },
  {
   "cell_type": "code",
   "execution_count": 345,
   "source": [
    "pred_pca_missing = model_xg.predict(pca_model_miss)\r\n"
   ],
   "outputs": [],
   "metadata": {}
  },
  {
   "cell_type": "code",
   "execution_count": null,
   "source": [],
   "outputs": [],
   "metadata": {}
  },
  {
   "cell_type": "code",
   "execution_count": null,
   "source": [],
   "outputs": [],
   "metadata": {}
  },
  {
   "cell_type": "code",
   "execution_count": null,
   "source": [],
   "outputs": [],
   "metadata": {}
  },
  {
   "cell_type": "code",
   "execution_count": null,
   "source": [],
   "outputs": [],
   "metadata": {}
  },
  {
   "cell_type": "code",
   "execution_count": null,
   "source": [],
   "outputs": [],
   "metadata": {}
  },
  {
   "cell_type": "code",
   "execution_count": null,
   "source": [],
   "outputs": [],
   "metadata": {}
  },
  {
   "cell_type": "code",
   "execution_count": null,
   "source": [],
   "outputs": [],
   "metadata": {}
  },
  {
   "cell_type": "code",
   "execution_count": null,
   "source": [],
   "outputs": [],
   "metadata": {}
  },
  {
   "cell_type": "code",
   "execution_count": null,
   "source": [],
   "outputs": [],
   "metadata": {}
  },
  {
   "cell_type": "code",
   "execution_count": null,
   "source": [],
   "outputs": [],
   "metadata": {}
  },
  {
   "cell_type": "code",
   "execution_count": null,
   "source": [],
   "outputs": [],
   "metadata": {}
  },
  {
   "cell_type": "code",
   "execution_count": null,
   "source": [],
   "outputs": [],
   "metadata": {}
  },
  {
   "cell_type": "code",
   "execution_count": null,
   "source": [],
   "outputs": [],
   "metadata": {}
  },
  {
   "cell_type": "code",
   "execution_count": null,
   "source": [],
   "outputs": [],
   "metadata": {}
  },
  {
   "cell_type": "code",
   "execution_count": null,
   "source": [],
   "outputs": [],
   "metadata": {}
  },
  {
   "cell_type": "code",
   "execution_count": null,
   "source": [],
   "outputs": [],
   "metadata": {}
  },
  {
   "cell_type": "code",
   "execution_count": null,
   "source": [],
   "outputs": [],
   "metadata": {}
  },
  {
   "cell_type": "code",
   "execution_count": null,
   "source": [],
   "outputs": [],
   "metadata": {}
  },
  {
   "cell_type": "code",
   "execution_count": null,
   "source": [],
   "outputs": [],
   "metadata": {}
  },
  {
   "cell_type": "code",
   "execution_count": null,
   "source": [],
   "outputs": [],
   "metadata": {}
  },
  {
   "cell_type": "code",
   "execution_count": null,
   "source": [],
   "outputs": [],
   "metadata": {}
  },
  {
   "cell_type": "code",
   "execution_count": null,
   "source": [],
   "outputs": [],
   "metadata": {}
  },
  {
   "cell_type": "code",
   "execution_count": null,
   "source": [],
   "outputs": [],
   "metadata": {}
  },
  {
   "cell_type": "code",
   "execution_count": null,
   "source": [],
   "outputs": [],
   "metadata": {}
  },
  {
   "cell_type": "code",
   "execution_count": null,
   "source": [],
   "outputs": [],
   "metadata": {}
  },
  {
   "cell_type": "markdown",
   "source": [
    "# FA"
   ],
   "metadata": {}
  },
  {
   "cell_type": "code",
   "execution_count": null,
   "source": [
    "# creating the training and validation set\r\n",
    "X_train, X_valid, y_train, y_valid = train_test_split(X, y, random_state = 10, test_size = 0.25)"
   ],
   "outputs": [],
   "metadata": {}
  },
  {
   "cell_type": "code",
   "execution_count": null,
   "source": [
    "cor = X_train.corr().abs()\r\n",
    "cor\r\n",
    "\r\n",
    "s = cor.unstack()\r\n",
    "so = s.sort_values(ascending=False)"
   ],
   "outputs": [],
   "metadata": {}
  },
  {
   "cell_type": "code",
   "execution_count": null,
   "source": [
    "count = 0\r\n",
    "for i in so:\r\n",
    "    if(i < 1 and i >= 0.5):\r\n",
    "        count = count+1\r\n",
    "\r\n",
    "count"
   ],
   "outputs": [
    {
     "output_type": "execute_result",
     "data": {
      "text/plain": [
       "34"
      ]
     },
     "metadata": {},
     "execution_count": 191
    }
   ],
   "metadata": {}
  },
  {
   "cell_type": "code",
   "execution_count": null,
   "source": [
    "# creating the random forest regressor model\r\n",
    "model = RandomForestClassifier(random_state=1, max_depth=10, n_estimators=100, max_features=6)"
   ],
   "outputs": [],
   "metadata": {}
  },
  {
   "cell_type": "code",
   "execution_count": null,
   "source": [
    "from sklearn.decomposition import FactorAnalysis"
   ],
   "outputs": [],
   "metadata": {}
  },
  {
   "cell_type": "code",
   "execution_count": null,
   "source": [
    "fa = FactorAnalysis(n_components=17)"
   ],
   "outputs": [],
   "metadata": {}
  },
  {
   "cell_type": "code",
   "execution_count": null,
   "source": [
    "X_train_transformed = fa.fit_transform(X_train)\r\n",
    "X_valid_transformed = fa.fit_transform(X_valid)"
   ],
   "outputs": [],
   "metadata": {}
  },
  {
   "cell_type": "code",
   "execution_count": null,
   "source": [
    "X_xx_transformed = fa.fit_transform(data_all_columns_test)"
   ],
   "outputs": [],
   "metadata": {}
  },
  {
   "cell_type": "code",
   "execution_count": null,
   "source": [
    "model.fit(X_train_transformed, y_train)"
   ],
   "outputs": [
    {
     "output_type": "execute_result",
     "data": {
      "text/plain": [
       "RandomForestClassifier(max_depth=10, max_features=6, random_state=1)"
      ]
     },
     "metadata": {},
     "execution_count": 233
    }
   ],
   "metadata": {}
  },
  {
   "cell_type": "code",
   "execution_count": null,
   "source": [
    "Pred_FA = model.predict(X_xx_transformed)"
   ],
   "outputs": [],
   "metadata": {}
  },
  {
   "cell_type": "code",
   "execution_count": null,
   "source": [
    "pp = model.predict(X_valid_transformed)"
   ],
   "outputs": [],
   "metadata": {}
  },
  {
   "cell_type": "code",
   "execution_count": null,
   "source": [
    "roc_auc_score(model.predict(X_valid_transformed), y_valid)"
   ],
   "outputs": [
    {
     "output_type": "execute_result",
     "data": {
      "text/plain": [
       "0.572516570826566"
      ]
     },
     "metadata": {},
     "execution_count": 235
    }
   ],
   "metadata": {}
  },
  {
   "cell_type": "code",
   "execution_count": null,
   "source": [],
   "outputs": [],
   "metadata": {}
  },
  {
   "cell_type": "code",
   "execution_count": null,
   "source": [],
   "outputs": [],
   "metadata": {}
  },
  {
   "cell_type": "code",
   "execution_count": null,
   "source": [],
   "outputs": [],
   "metadata": {}
  },
  {
   "cell_type": "code",
   "execution_count": null,
   "source": [],
   "outputs": [],
   "metadata": {}
  },
  {
   "cell_type": "code",
   "execution_count": null,
   "source": [],
   "outputs": [],
   "metadata": {}
  }
 ]
}