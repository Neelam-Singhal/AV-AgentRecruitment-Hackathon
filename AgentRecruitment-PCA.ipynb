{
 "metadata": {
  "language_info": {
   "codemirror_mode": {
    "name": "ipython",
    "version": 3
   },
   "file_extension": ".py",
   "mimetype": "text/x-python",
   "name": "python",
   "nbconvert_exporter": "python",
   "pygments_lexer": "ipython3",
   "version": "3.8.2"
  },
  "orig_nbformat": 2,
  "kernelspec": {
   "name": "python3",
   "display_name": "Python 3.8.2 64-bit ('env': venv)"
  },
  "metadata": {
   "interpreter": {
    "hash": "e905ad718a08ed27c2c36c9ef4f1f873648da9e7705f623e5afe311501acb5e0"
   }
  },
  "interpreter": {
   "hash": "e905ad718a08ed27c2c36c9ef4f1f873648da9e7705f623e5afe311501acb5e0"
  }
 },
 "nbformat": 4,
 "nbformat_minor": 2,
 "cells": [
  {
   "cell_type": "markdown",
   "source": [
    "## Smart Agent Recruitment Challenge\r\n",
    "\r\n",
    "FinMan is a Financial Distribution company. Over the last 10 years, they have created an offline distribution channel across India. They sell Financial products to consumers by hiring agents in their network. These agents are freelancers and get commission when they make a product sale.\r\n",
    "\r\n",
    "\r\n",
    "## Overview of FinMan On-boarding process\r\n",
    "The Managers at FinMan are primarily responsible for recruiting agents. Once a manager has identified a potential applicant, the would explain the business opportunity to the agent. Once the agent provides the consent, an application is made to FinMan to become an agent. This date is known as application_receipt_date.\r\n",
    "\r\n",
    "In the next 3 months, this potential agent has to undergo a 7 day training at the FinMan branch (about Sales processes and various products) and clear a subsequent examination in order to become a FinMan agent.\r\n",
    "\r\n",
    "\r\n",
    "## The problem - Who are the best agents?\r\n",
    " As is obvious in the above process, there is a significant investment which FinMan makes in identifying, training and recruiting these agents. However, there are a set of agents who do not bring in the expected resultant business.\r\n",
    "\r\n",
    " Finman has approached you and asked you to to predict the target variable for each potential agent, which would help them identify the right agents to hire.\r\n",
    "\r\n",
    "## Evaluation\r\n",
    "Your model's performance would be evaluated based on roc_auc score.\r\n",
    "\r\n",
    "\r\n",
    "\r\n",
    "## Public and Private Split\r\n",
    "Test Data is further divided into Public and Private set.\r\n",
    "Public leaderboard is based on First 2 months of the test dataset (02-Jul-2008 and 01-Sep-2008) and rest of test dataset is used for Private leaderboard.\r\n"
   ],
   "metadata": {}
  },
  {
   "cell_type": "markdown",
   "source": [
    "Data Defination\r\n",
    "\r\n",
    "    ID\t-\tUnique Application ID\r\n",
    "    Office_PIN\t-\tPINCODE of Fintro's Offices\r\n",
    "    Application_Receipt_Date\t-\tDate of Application\r\n",
    "    Applicant_City_PIN\t-\tPINCODE of Applicant Address\r\n",
    "    Applicant_Gender\t-\tApplicant's Gender\r\n",
    "    Applicant_BirthDate\t-\tApplicant's Birthdate\r\n",
    "    Applicant_Marital_Status\t-\tApplicant's Marital Status\r\n",
    "    Applicant_Occupation\t-\tApplicant's Occupation\r\n",
    "    Applicant_Qualification\t-\tApplicant's Educational Qualification\r\n",
    "    Manager_DOJ\t-\tManager's Date of Joining\r\n",
    "    Manager_Joining_Designation\t-\tManager's Joining Designation in Fintro\r\n",
    "    Manager_Current_Designation\t-\tManager's Designation at the time of application sourcing\r\n",
    "    Manager_Grade\t-\tManager's Grade in Fintro\r\n",
    "    Manager_Status\t-\tCurrent Employment Status (Probation / Confirmation)\r\n",
    "    Manager_Gender\t-\tManager's Gender\r\n",
    "    Manager_DoB\t-\tManager's Birthdate\r\n",
    "    Manager_Num_Application\t-\tNo. of Applications sourced in last 3 months by the Manager\r\n",
    "    Manager_Num_Coded\t-\tNo. of agents recruited by the manager in last 3 months\r\n",
    "    Manager_Business\t-\tAmount of business sourced by the manager in last 3 months\r\n",
    "    Manager_Num_Products\t-\tNumber of products sold by the manager in last 3 months\r\n",
    "    Manager_Business2\t-\tAmount of business sourced by the manager in last 3 months excluding business from their Category A advisor\r\n",
    "    Manager_Num_Products2\t-\tNumber of products sold by the manager in last 3 months excluding business from their Category A advisor\r\n",
    "    Business_Sourced(Target)\t-\tBusiness sourced by applicant within 3 months [1/0] of recruitment\r\n"
   ],
   "metadata": {}
  },
  {
   "cell_type": "code",
   "execution_count": 1,
   "source": [
    "#importing libraries \r\n",
    "import pandas as pd \r\n",
    "import numpy as np\r\n",
    "import matplotlib.pyplot as plt\r\n",
    "%matplotlib inline\r\n",
    "from sklearn.metrics import mean_squared_error as mse"
   ],
   "outputs": [],
   "metadata": {}
  },
  {
   "cell_type": "code",
   "execution_count": 153,
   "source": [
    "data = pd.read_csv(\"train_r7VTVyN_HtFA0Cn.csv\")\r\n",
    "data_test = pd.read_csv(\"test_ZkjAHF8_g6hTr3z.csv\")"
   ],
   "outputs": [],
   "metadata": {}
  },
  {
   "cell_type": "code",
   "execution_count": 3,
   "source": [
    "data_test.shape"
   ],
   "outputs": [
    {
     "output_type": "execute_result",
     "data": {
      "text/plain": [
       "(5045, 22)"
      ]
     },
     "metadata": {},
     "execution_count": 3
    }
   ],
   "metadata": {}
  },
  {
   "cell_type": "code",
   "execution_count": 72,
   "source": [
    "pd.set_option(\"display.max_columns\", 500)"
   ],
   "outputs": [],
   "metadata": {}
  },
  {
   "cell_type": "code",
   "execution_count": 5,
   "source": [
    "data_test.head()"
   ],
   "outputs": [
    {
     "output_type": "execute_result",
     "data": {
      "text/html": [
       "<div>\n",
       "<style scoped>\n",
       "    .dataframe tbody tr th:only-of-type {\n",
       "        vertical-align: middle;\n",
       "    }\n",
       "\n",
       "    .dataframe tbody tr th {\n",
       "        vertical-align: top;\n",
       "    }\n",
       "\n",
       "    .dataframe thead th {\n",
       "        text-align: right;\n",
       "    }\n",
       "</style>\n",
       "<table border=\"1\" class=\"dataframe\">\n",
       "  <thead>\n",
       "    <tr style=\"text-align: right;\">\n",
       "      <th></th>\n",
       "      <th>ID</th>\n",
       "      <th>Office_PIN</th>\n",
       "      <th>Application_Receipt_Date</th>\n",
       "      <th>Applicant_City_PIN</th>\n",
       "      <th>Applicant_Gender</th>\n",
       "      <th>Applicant_BirthDate</th>\n",
       "      <th>Applicant_Marital_Status</th>\n",
       "      <th>Applicant_Occupation</th>\n",
       "      <th>Applicant_Qualification</th>\n",
       "      <th>Manager_DOJ</th>\n",
       "      <th>Manager_Joining_Designation</th>\n",
       "      <th>Manager_Current_Designation</th>\n",
       "      <th>Manager_Grade</th>\n",
       "      <th>Manager_Status</th>\n",
       "      <th>Manager_Gender</th>\n",
       "      <th>Manager_DoB</th>\n",
       "      <th>Manager_Num_Application</th>\n",
       "      <th>Manager_Num_Coded</th>\n",
       "      <th>Manager_Business</th>\n",
       "      <th>Manager_Num_Products</th>\n",
       "      <th>Manager_Business2</th>\n",
       "      <th>Manager_Num_Products2</th>\n",
       "    </tr>\n",
       "  </thead>\n",
       "  <tbody>\n",
       "    <tr>\n",
       "      <th>0</th>\n",
       "      <td>FIN1009528</td>\n",
       "      <td>284001</td>\n",
       "      <td>7/2/2008</td>\n",
       "      <td>284001.0</td>\n",
       "      <td>M</td>\n",
       "      <td>8/5/1982</td>\n",
       "      <td>S</td>\n",
       "      <td>Salaried</td>\n",
       "      <td>Graduate</td>\n",
       "      <td>5/26/2008</td>\n",
       "      <td>Level 1</td>\n",
       "      <td>Level 1</td>\n",
       "      <td>2.0</td>\n",
       "      <td>Probation</td>\n",
       "      <td>F</td>\n",
       "      <td>10/14/1978</td>\n",
       "      <td>1.0</td>\n",
       "      <td>0.0</td>\n",
       "      <td>0.0</td>\n",
       "      <td>0.0</td>\n",
       "      <td>0.0</td>\n",
       "      <td>0.0</td>\n",
       "    </tr>\n",
       "    <tr>\n",
       "      <th>1</th>\n",
       "      <td>FIN1009529</td>\n",
       "      <td>800001</td>\n",
       "      <td>7/2/2008</td>\n",
       "      <td>800026.0</td>\n",
       "      <td>M</td>\n",
       "      <td>3/11/1968</td>\n",
       "      <td>M</td>\n",
       "      <td>Salaried</td>\n",
       "      <td>Graduate</td>\n",
       "      <td>6/24/2008</td>\n",
       "      <td>Level 1</td>\n",
       "      <td>Level 1</td>\n",
       "      <td>2.0</td>\n",
       "      <td>Probation</td>\n",
       "      <td>M</td>\n",
       "      <td>3/3/1971</td>\n",
       "      <td>2.0</td>\n",
       "      <td>0.0</td>\n",
       "      <td>0.0</td>\n",
       "      <td>0.0</td>\n",
       "      <td>0.0</td>\n",
       "      <td>0.0</td>\n",
       "    </tr>\n",
       "    <tr>\n",
       "      <th>2</th>\n",
       "      <td>FIN1009530</td>\n",
       "      <td>800001</td>\n",
       "      <td>7/2/2008</td>\n",
       "      <td>NaN</td>\n",
       "      <td>M</td>\n",
       "      <td>12/16/1984</td>\n",
       "      <td>S</td>\n",
       "      <td>NaN</td>\n",
       "      <td>Graduate</td>\n",
       "      <td>NaN</td>\n",
       "      <td>NaN</td>\n",
       "      <td>NaN</td>\n",
       "      <td>NaN</td>\n",
       "      <td>NaN</td>\n",
       "      <td>NaN</td>\n",
       "      <td>NaN</td>\n",
       "      <td>NaN</td>\n",
       "      <td>NaN</td>\n",
       "      <td>NaN</td>\n",
       "      <td>NaN</td>\n",
       "      <td>NaN</td>\n",
       "      <td>NaN</td>\n",
       "    </tr>\n",
       "    <tr>\n",
       "      <th>3</th>\n",
       "      <td>FIN1009531</td>\n",
       "      <td>800001</td>\n",
       "      <td>7/2/2008</td>\n",
       "      <td>844112.0</td>\n",
       "      <td>M</td>\n",
       "      <td>6/7/1971</td>\n",
       "      <td>S</td>\n",
       "      <td>Salaried</td>\n",
       "      <td>Graduate</td>\n",
       "      <td>NaN</td>\n",
       "      <td>NaN</td>\n",
       "      <td>NaN</td>\n",
       "      <td>NaN</td>\n",
       "      <td>NaN</td>\n",
       "      <td>NaN</td>\n",
       "      <td>NaN</td>\n",
       "      <td>NaN</td>\n",
       "      <td>NaN</td>\n",
       "      <td>NaN</td>\n",
       "      <td>NaN</td>\n",
       "      <td>NaN</td>\n",
       "      <td>NaN</td>\n",
       "    </tr>\n",
       "    <tr>\n",
       "      <th>4</th>\n",
       "      <td>FIN1009532</td>\n",
       "      <td>533101</td>\n",
       "      <td>7/2/2008</td>\n",
       "      <td>533102.0</td>\n",
       "      <td>M</td>\n",
       "      <td>7/22/1978</td>\n",
       "      <td>S</td>\n",
       "      <td>NaN</td>\n",
       "      <td>Masters of Business Administration</td>\n",
       "      <td>12/4/2007</td>\n",
       "      <td>Level 2</td>\n",
       "      <td>Level 2</td>\n",
       "      <td>3.0</td>\n",
       "      <td>Confirmation</td>\n",
       "      <td>M</td>\n",
       "      <td>6/23/1977</td>\n",
       "      <td>4.0</td>\n",
       "      <td>1.0</td>\n",
       "      <td>97352.0</td>\n",
       "      <td>3.0</td>\n",
       "      <td>97352.0</td>\n",
       "      <td>3.0</td>\n",
       "    </tr>\n",
       "  </tbody>\n",
       "</table>\n",
       "</div>"
      ],
      "text/plain": [
       "           ID  Office_PIN Application_Receipt_Date  Applicant_City_PIN  \\\n",
       "0  FIN1009528      284001                 7/2/2008            284001.0   \n",
       "1  FIN1009529      800001                 7/2/2008            800026.0   \n",
       "2  FIN1009530      800001                 7/2/2008                 NaN   \n",
       "3  FIN1009531      800001                 7/2/2008            844112.0   \n",
       "4  FIN1009532      533101                 7/2/2008            533102.0   \n",
       "\n",
       "  Applicant_Gender Applicant_BirthDate Applicant_Marital_Status  \\\n",
       "0                M            8/5/1982                        S   \n",
       "1                M           3/11/1968                        M   \n",
       "2                M          12/16/1984                        S   \n",
       "3                M            6/7/1971                        S   \n",
       "4                M           7/22/1978                        S   \n",
       "\n",
       "  Applicant_Occupation             Applicant_Qualification Manager_DOJ  \\\n",
       "0             Salaried                            Graduate   5/26/2008   \n",
       "1             Salaried                            Graduate   6/24/2008   \n",
       "2                  NaN                            Graduate         NaN   \n",
       "3             Salaried                            Graduate         NaN   \n",
       "4                  NaN  Masters of Business Administration   12/4/2007   \n",
       "\n",
       "  Manager_Joining_Designation Manager_Current_Designation  Manager_Grade  \\\n",
       "0                     Level 1                     Level 1            2.0   \n",
       "1                     Level 1                     Level 1            2.0   \n",
       "2                         NaN                         NaN            NaN   \n",
       "3                         NaN                         NaN            NaN   \n",
       "4                     Level 2                     Level 2            3.0   \n",
       "\n",
       "  Manager_Status Manager_Gender Manager_DoB  Manager_Num_Application  \\\n",
       "0      Probation              F  10/14/1978                      1.0   \n",
       "1      Probation              M    3/3/1971                      2.0   \n",
       "2            NaN            NaN         NaN                      NaN   \n",
       "3            NaN            NaN         NaN                      NaN   \n",
       "4   Confirmation              M   6/23/1977                      4.0   \n",
       "\n",
       "   Manager_Num_Coded  Manager_Business  Manager_Num_Products  \\\n",
       "0                0.0               0.0                   0.0   \n",
       "1                0.0               0.0                   0.0   \n",
       "2                NaN               NaN                   NaN   \n",
       "3                NaN               NaN                   NaN   \n",
       "4                1.0           97352.0                   3.0   \n",
       "\n",
       "   Manager_Business2  Manager_Num_Products2  \n",
       "0                0.0                    0.0  \n",
       "1                0.0                    0.0  \n",
       "2                NaN                    NaN  \n",
       "3                NaN                    NaN  \n",
       "4            97352.0                    3.0  "
      ]
     },
     "metadata": {},
     "execution_count": 5
    }
   ],
   "metadata": {}
  },
  {
   "cell_type": "code",
   "execution_count": 6,
   "source": [
    "data.head()"
   ],
   "outputs": [
    {
     "output_type": "execute_result",
     "data": {
      "text/html": [
       "<div>\n",
       "<style scoped>\n",
       "    .dataframe tbody tr th:only-of-type {\n",
       "        vertical-align: middle;\n",
       "    }\n",
       "\n",
       "    .dataframe tbody tr th {\n",
       "        vertical-align: top;\n",
       "    }\n",
       "\n",
       "    .dataframe thead th {\n",
       "        text-align: right;\n",
       "    }\n",
       "</style>\n",
       "<table border=\"1\" class=\"dataframe\">\n",
       "  <thead>\n",
       "    <tr style=\"text-align: right;\">\n",
       "      <th></th>\n",
       "      <th>ID</th>\n",
       "      <th>Office_PIN</th>\n",
       "      <th>Application_Receipt_Date</th>\n",
       "      <th>Applicant_City_PIN</th>\n",
       "      <th>Applicant_Gender</th>\n",
       "      <th>Applicant_BirthDate</th>\n",
       "      <th>Applicant_Marital_Status</th>\n",
       "      <th>Applicant_Occupation</th>\n",
       "      <th>Applicant_Qualification</th>\n",
       "      <th>Manager_DOJ</th>\n",
       "      <th>Manager_Joining_Designation</th>\n",
       "      <th>Manager_Current_Designation</th>\n",
       "      <th>Manager_Grade</th>\n",
       "      <th>Manager_Status</th>\n",
       "      <th>Manager_Gender</th>\n",
       "      <th>Manager_DoB</th>\n",
       "      <th>Manager_Num_Application</th>\n",
       "      <th>Manager_Num_Coded</th>\n",
       "      <th>Manager_Business</th>\n",
       "      <th>Manager_Num_Products</th>\n",
       "      <th>Manager_Business2</th>\n",
       "      <th>Manager_Num_Products2</th>\n",
       "      <th>Business_Sourced</th>\n",
       "    </tr>\n",
       "  </thead>\n",
       "  <tbody>\n",
       "    <tr>\n",
       "      <th>0</th>\n",
       "      <td>FIN1000001</td>\n",
       "      <td>842001</td>\n",
       "      <td>4/16/2007</td>\n",
       "      <td>844120.0</td>\n",
       "      <td>M</td>\n",
       "      <td>12/19/1971</td>\n",
       "      <td>M</td>\n",
       "      <td>Others</td>\n",
       "      <td>Graduate</td>\n",
       "      <td>11/10/2005</td>\n",
       "      <td>Level 1</td>\n",
       "      <td>Level 2</td>\n",
       "      <td>3.0</td>\n",
       "      <td>Confirmation</td>\n",
       "      <td>M</td>\n",
       "      <td>2/17/1978</td>\n",
       "      <td>2.0</td>\n",
       "      <td>1.0</td>\n",
       "      <td>335249.0</td>\n",
       "      <td>28.0</td>\n",
       "      <td>335249.0</td>\n",
       "      <td>28.0</td>\n",
       "      <td>0</td>\n",
       "    </tr>\n",
       "    <tr>\n",
       "      <th>1</th>\n",
       "      <td>FIN1000002</td>\n",
       "      <td>842001</td>\n",
       "      <td>4/16/2007</td>\n",
       "      <td>844111.0</td>\n",
       "      <td>M</td>\n",
       "      <td>2/17/1983</td>\n",
       "      <td>S</td>\n",
       "      <td>Others</td>\n",
       "      <td>Class XII</td>\n",
       "      <td>11/10/2005</td>\n",
       "      <td>Level 1</td>\n",
       "      <td>Level 2</td>\n",
       "      <td>3.0</td>\n",
       "      <td>Confirmation</td>\n",
       "      <td>M</td>\n",
       "      <td>2/17/1978</td>\n",
       "      <td>2.0</td>\n",
       "      <td>1.0</td>\n",
       "      <td>335249.0</td>\n",
       "      <td>28.0</td>\n",
       "      <td>335249.0</td>\n",
       "      <td>28.0</td>\n",
       "      <td>1</td>\n",
       "    </tr>\n",
       "    <tr>\n",
       "      <th>2</th>\n",
       "      <td>FIN1000003</td>\n",
       "      <td>800001</td>\n",
       "      <td>4/16/2007</td>\n",
       "      <td>844101.0</td>\n",
       "      <td>M</td>\n",
       "      <td>1/16/1966</td>\n",
       "      <td>M</td>\n",
       "      <td>Business</td>\n",
       "      <td>Class XII</td>\n",
       "      <td>5/27/2006</td>\n",
       "      <td>Level 1</td>\n",
       "      <td>Level 1</td>\n",
       "      <td>2.0</td>\n",
       "      <td>Confirmation</td>\n",
       "      <td>M</td>\n",
       "      <td>3/3/1969</td>\n",
       "      <td>0.0</td>\n",
       "      <td>0.0</td>\n",
       "      <td>357184.0</td>\n",
       "      <td>24.0</td>\n",
       "      <td>357184.0</td>\n",
       "      <td>24.0</td>\n",
       "      <td>0</td>\n",
       "    </tr>\n",
       "    <tr>\n",
       "      <th>3</th>\n",
       "      <td>FIN1000004</td>\n",
       "      <td>814112</td>\n",
       "      <td>4/16/2007</td>\n",
       "      <td>814112.0</td>\n",
       "      <td>M</td>\n",
       "      <td>2/3/1988</td>\n",
       "      <td>S</td>\n",
       "      <td>Salaried</td>\n",
       "      <td>Class XII</td>\n",
       "      <td>8/21/2003</td>\n",
       "      <td>Level 1</td>\n",
       "      <td>Level 3</td>\n",
       "      <td>4.0</td>\n",
       "      <td>Confirmation</td>\n",
       "      <td>F</td>\n",
       "      <td>8/14/1978</td>\n",
       "      <td>0.0</td>\n",
       "      <td>0.0</td>\n",
       "      <td>318356.0</td>\n",
       "      <td>22.0</td>\n",
       "      <td>318356.0</td>\n",
       "      <td>22.0</td>\n",
       "      <td>0</td>\n",
       "    </tr>\n",
       "    <tr>\n",
       "      <th>4</th>\n",
       "      <td>FIN1000005</td>\n",
       "      <td>814112</td>\n",
       "      <td>4/16/2007</td>\n",
       "      <td>815351.0</td>\n",
       "      <td>M</td>\n",
       "      <td>7/4/1985</td>\n",
       "      <td>M</td>\n",
       "      <td>Others</td>\n",
       "      <td>Class XII</td>\n",
       "      <td>5/8/2006</td>\n",
       "      <td>Level 1</td>\n",
       "      <td>Level 1</td>\n",
       "      <td>2.0</td>\n",
       "      <td>Confirmation</td>\n",
       "      <td>M</td>\n",
       "      <td>2/7/1971</td>\n",
       "      <td>2.0</td>\n",
       "      <td>1.0</td>\n",
       "      <td>230402.0</td>\n",
       "      <td>17.0</td>\n",
       "      <td>230402.0</td>\n",
       "      <td>17.0</td>\n",
       "      <td>0</td>\n",
       "    </tr>\n",
       "  </tbody>\n",
       "</table>\n",
       "</div>"
      ],
      "text/plain": [
       "           ID  Office_PIN Application_Receipt_Date  Applicant_City_PIN  \\\n",
       "0  FIN1000001      842001                4/16/2007            844120.0   \n",
       "1  FIN1000002      842001                4/16/2007            844111.0   \n",
       "2  FIN1000003      800001                4/16/2007            844101.0   \n",
       "3  FIN1000004      814112                4/16/2007            814112.0   \n",
       "4  FIN1000005      814112                4/16/2007            815351.0   \n",
       "\n",
       "  Applicant_Gender Applicant_BirthDate Applicant_Marital_Status  \\\n",
       "0                M          12/19/1971                        M   \n",
       "1                M           2/17/1983                        S   \n",
       "2                M           1/16/1966                        M   \n",
       "3                M            2/3/1988                        S   \n",
       "4                M            7/4/1985                        M   \n",
       "\n",
       "  Applicant_Occupation Applicant_Qualification Manager_DOJ  \\\n",
       "0               Others                Graduate  11/10/2005   \n",
       "1               Others               Class XII  11/10/2005   \n",
       "2             Business               Class XII   5/27/2006   \n",
       "3             Salaried               Class XII   8/21/2003   \n",
       "4               Others               Class XII    5/8/2006   \n",
       "\n",
       "  Manager_Joining_Designation Manager_Current_Designation  Manager_Grade  \\\n",
       "0                     Level 1                     Level 2            3.0   \n",
       "1                     Level 1                     Level 2            3.0   \n",
       "2                     Level 1                     Level 1            2.0   \n",
       "3                     Level 1                     Level 3            4.0   \n",
       "4                     Level 1                     Level 1            2.0   \n",
       "\n",
       "  Manager_Status Manager_Gender Manager_DoB  Manager_Num_Application  \\\n",
       "0   Confirmation              M   2/17/1978                      2.0   \n",
       "1   Confirmation              M   2/17/1978                      2.0   \n",
       "2   Confirmation              M    3/3/1969                      0.0   \n",
       "3   Confirmation              F   8/14/1978                      0.0   \n",
       "4   Confirmation              M    2/7/1971                      2.0   \n",
       "\n",
       "   Manager_Num_Coded  Manager_Business  Manager_Num_Products  \\\n",
       "0                1.0          335249.0                  28.0   \n",
       "1                1.0          335249.0                  28.0   \n",
       "2                0.0          357184.0                  24.0   \n",
       "3                0.0          318356.0                  22.0   \n",
       "4                1.0          230402.0                  17.0   \n",
       "\n",
       "   Manager_Business2  Manager_Num_Products2  Business_Sourced  \n",
       "0           335249.0                   28.0                 0  \n",
       "1           335249.0                   28.0                 1  \n",
       "2           357184.0                   24.0                 0  \n",
       "3           318356.0                   22.0                 0  \n",
       "4           230402.0                   17.0                 0  "
      ]
     },
     "metadata": {},
     "execution_count": 6
    }
   ],
   "metadata": {}
  },
  {
   "cell_type": "code",
   "execution_count": 7,
   "source": [
    "data.shape"
   ],
   "outputs": [
    {
     "output_type": "execute_result",
     "data": {
      "text/plain": [
       "(9527, 23)"
      ]
     },
     "metadata": {},
     "execution_count": 7
    }
   ],
   "metadata": {}
  },
  {
   "cell_type": "code",
   "execution_count": 8,
   "source": [
    "data.isna().sum()"
   ],
   "outputs": [
    {
     "output_type": "execute_result",
     "data": {
      "text/plain": [
       "ID                                0\n",
       "Office_PIN                        0\n",
       "Application_Receipt_Date          0\n",
       "Applicant_City_PIN               97\n",
       "Applicant_Gender                 67\n",
       "Applicant_BirthDate              73\n",
       "Applicant_Marital_Status         73\n",
       "Applicant_Occupation           1221\n",
       "Applicant_Qualification          86\n",
       "Manager_DOJ                     683\n",
       "Manager_Joining_Designation     683\n",
       "Manager_Current_Designation     683\n",
       "Manager_Grade                   683\n",
       "Manager_Status                  683\n",
       "Manager_Gender                  683\n",
       "Manager_DoB                     683\n",
       "Manager_Num_Application         683\n",
       "Manager_Num_Coded               683\n",
       "Manager_Business                683\n",
       "Manager_Num_Products            683\n",
       "Manager_Business2               683\n",
       "Manager_Num_Products2           683\n",
       "Business_Sourced                  0\n",
       "dtype: int64"
      ]
     },
     "metadata": {},
     "execution_count": 8
    }
   ],
   "metadata": {}
  },
  {
   "cell_type": "code",
   "execution_count": 9,
   "source": [
    "data_test.shape"
   ],
   "outputs": [
    {
     "output_type": "execute_result",
     "data": {
      "text/plain": [
       "(5045, 22)"
      ]
     },
     "metadata": {},
     "execution_count": 9
    }
   ],
   "metadata": {}
  },
  {
   "cell_type": "code",
   "execution_count": 10,
   "source": [
    "data_test.isna().sum()"
   ],
   "outputs": [
    {
     "output_type": "execute_result",
     "data": {
      "text/plain": [
       "ID                                0\n",
       "Office_PIN                        0\n",
       "Application_Receipt_Date          0\n",
       "Applicant_City_PIN               34\n",
       "Applicant_Gender                 22\n",
       "Applicant_BirthDate              23\n",
       "Applicant_Marital_Status         30\n",
       "Applicant_Occupation           1004\n",
       "Applicant_Qualification          44\n",
       "Manager_DOJ                     824\n",
       "Manager_Joining_Designation     824\n",
       "Manager_Current_Designation     824\n",
       "Manager_Grade                   824\n",
       "Manager_Status                  824\n",
       "Manager_Gender                  824\n",
       "Manager_DoB                     824\n",
       "Manager_Num_Application         824\n",
       "Manager_Num_Coded               824\n",
       "Manager_Business                824\n",
       "Manager_Num_Products            824\n",
       "Manager_Business2               824\n",
       "Manager_Num_Products2           824\n",
       "dtype: int64"
      ]
     },
     "metadata": {},
     "execution_count": 10
    }
   ],
   "metadata": {}
  },
  {
   "cell_type": "code",
   "execution_count": 11,
   "source": [
    "data.dtypes"
   ],
   "outputs": [
    {
     "output_type": "execute_result",
     "data": {
      "text/plain": [
       "ID                              object\n",
       "Office_PIN                       int64\n",
       "Application_Receipt_Date        object\n",
       "Applicant_City_PIN             float64\n",
       "Applicant_Gender                object\n",
       "Applicant_BirthDate             object\n",
       "Applicant_Marital_Status        object\n",
       "Applicant_Occupation            object\n",
       "Applicant_Qualification         object\n",
       "Manager_DOJ                     object\n",
       "Manager_Joining_Designation     object\n",
       "Manager_Current_Designation     object\n",
       "Manager_Grade                  float64\n",
       "Manager_Status                  object\n",
       "Manager_Gender                  object\n",
       "Manager_DoB                     object\n",
       "Manager_Num_Application        float64\n",
       "Manager_Num_Coded              float64\n",
       "Manager_Business               float64\n",
       "Manager_Num_Products           float64\n",
       "Manager_Business2              float64\n",
       "Manager_Num_Products2          float64\n",
       "Business_Sourced                 int64\n",
       "dtype: object"
      ]
     },
     "metadata": {},
     "execution_count": 11
    }
   ],
   "metadata": {}
  },
  {
   "cell_type": "code",
   "execution_count": 12,
   "source": [
    "data.nunique()"
   ],
   "outputs": [
    {
     "output_type": "execute_result",
     "data": {
      "text/plain": [
       "ID                             9527\n",
       "Office_PIN                       98\n",
       "Application_Receipt_Date        357\n",
       "Applicant_City_PIN             2979\n",
       "Applicant_Gender                  2\n",
       "Applicant_BirthDate            5836\n",
       "Applicant_Marital_Status          4\n",
       "Applicant_Occupation              5\n",
       "Applicant_Qualification          11\n",
       "Manager_DOJ                     646\n",
       "Manager_Joining_Designation       8\n",
       "Manager_Current_Designation       5\n",
       "Manager_Grade                    10\n",
       "Manager_Status                    2\n",
       "Manager_Gender                    2\n",
       "Manager_DoB                    1245\n",
       "Manager_Num_Application          17\n",
       "Manager_Num_Coded                10\n",
       "Manager_Business               3747\n",
       "Manager_Num_Products             57\n",
       "Manager_Business2              3743\n",
       "Manager_Num_Products2            57\n",
       "Business_Sourced                  2\n",
       "dtype: int64"
      ]
     },
     "metadata": {},
     "execution_count": 12
    }
   ],
   "metadata": {}
  },
  {
   "cell_type": "code",
   "execution_count": 13,
   "source": [
    "data.hist(figsize=(10,10))\r\n"
   ],
   "outputs": [
    {
     "output_type": "execute_result",
     "data": {
      "text/plain": [
       "array([[<AxesSubplot:title={'center':'Office_PIN'}>,\n",
       "        <AxesSubplot:title={'center':'Applicant_City_PIN'}>,\n",
       "        <AxesSubplot:title={'center':'Manager_Grade'}>],\n",
       "       [<AxesSubplot:title={'center':'Manager_Num_Application'}>,\n",
       "        <AxesSubplot:title={'center':'Manager_Num_Coded'}>,\n",
       "        <AxesSubplot:title={'center':'Manager_Business'}>],\n",
       "       [<AxesSubplot:title={'center':'Manager_Num_Products'}>,\n",
       "        <AxesSubplot:title={'center':'Manager_Business2'}>,\n",
       "        <AxesSubplot:title={'center':'Manager_Num_Products2'}>],\n",
       "       [<AxesSubplot:title={'center':'Business_Sourced'}>,\n",
       "        <AxesSubplot:>, <AxesSubplot:>]], dtype=object)"
      ]
     },
     "metadata": {},
     "execution_count": 13
    },
    {
     "output_type": "display_data",
     "data": {
      "image/png": "[encoded data removed]",
      "text/plain": [
       "<Figure size 720x720 with 12 Axes>"
      ]
     },
     "metadata": {
      "needs_background": "light"
     }
    }
   ],
   "metadata": {}
  },
  {
   "cell_type": "code",
   "execution_count": 14,
   "source": [
    "data.columns"
   ],
   "outputs": [
    {
     "output_type": "execute_result",
     "data": {
      "text/plain": [
       "Index(['ID', 'Office_PIN', 'Application_Receipt_Date', 'Applicant_City_PIN',\n",
       "       'Applicant_Gender', 'Applicant_BirthDate', 'Applicant_Marital_Status',\n",
       "       'Applicant_Occupation', 'Applicant_Qualification', 'Manager_DOJ',\n",
       "       'Manager_Joining_Designation', 'Manager_Current_Designation',\n",
       "       'Manager_Grade', 'Manager_Status', 'Manager_Gender', 'Manager_DoB',\n",
       "       'Manager_Num_Application', 'Manager_Num_Coded', 'Manager_Business',\n",
       "       'Manager_Num_Products', 'Manager_Business2', 'Manager_Num_Products2',\n",
       "       'Business_Sourced'],\n",
       "      dtype='object')"
      ]
     },
     "metadata": {},
     "execution_count": 14
    }
   ],
   "metadata": {}
  },
  {
   "cell_type": "code",
   "execution_count": 18,
   "source": [
    "data_missing = data[data.Manager_DOJ.isna()]"
   ],
   "outputs": [],
   "metadata": {}
  },
  {
   "cell_type": "code",
   "execution_count": 36,
   "source": [
    "data_notmissing = data"
   ],
   "outputs": [],
   "metadata": {}
  },
  {
   "cell_type": "code",
   "execution_count": 37,
   "source": [
    "data_notmissing.drop(data_missing.index, inplace=True)"
   ],
   "outputs": [],
   "metadata": {}
  },
  {
   "cell_type": "code",
   "execution_count": 38,
   "source": [
    "data_missing.shape, data_notmissing.shape, data.shape"
   ],
   "outputs": [
    {
     "output_type": "execute_result",
     "data": {
      "text/plain": [
       "((683, 23), (8844, 23), (8844, 23))"
      ]
     },
     "metadata": {},
     "execution_count": 38
    }
   ],
   "metadata": {}
  },
  {
   "cell_type": "markdown",
   "source": [
    "## Data_NotMissing"
   ],
   "metadata": {}
  },
  {
   "cell_type": "code",
   "execution_count": 40,
   "source": [
    "data_notmissing.isna().sum()"
   ],
   "outputs": [
    {
     "output_type": "execute_result",
     "data": {
      "text/plain": [
       "ID                                0\n",
       "Office_PIN                        0\n",
       "Application_Receipt_Date          0\n",
       "Applicant_City_PIN               80\n",
       "Applicant_Gender                 53\n",
       "Applicant_BirthDate              59\n",
       "Applicant_Marital_Status         59\n",
       "Applicant_Occupation           1090\n",
       "Applicant_Qualification          71\n",
       "Manager_DOJ                       0\n",
       "Manager_Joining_Designation       0\n",
       "Manager_Current_Designation       0\n",
       "Manager_Grade                     0\n",
       "Manager_Status                    0\n",
       "Manager_Gender                    0\n",
       "Manager_DoB                       0\n",
       "Manager_Num_Application           0\n",
       "Manager_Num_Coded                 0\n",
       "Manager_Business                  0\n",
       "Manager_Num_Products              0\n",
       "Manager_Business2                 0\n",
       "Manager_Num_Products2             0\n",
       "Business_Sourced                  0\n",
       "dtype: int64"
      ]
     },
     "metadata": {},
     "execution_count": 40
    }
   ],
   "metadata": {}
  },
  {
   "cell_type": "code",
   "execution_count": 45,
   "source": [
    "data_notmissing.Applicant_Occupation.value_counts()"
   ],
   "outputs": [
    {
     "output_type": "execute_result",
     "data": {
      "text/plain": [
       "Salaried         3546\n",
       "Business         2157\n",
       "Others           1809\n",
       "Self Employed     146\n",
       "Student            96\n",
       "Name: Applicant_Occupation, dtype: int64"
      ]
     },
     "metadata": {},
     "execution_count": 45
    }
   ],
   "metadata": {}
  },
  {
   "cell_type": "markdown",
   "source": [
    "# Reduce Dimensionality of Data"
   ],
   "metadata": {}
  },
  {
   "cell_type": "markdown",
   "source": [
    "## <b>High Correlation Filter</b>"
   ],
   "metadata": {}
  },
  {
   "cell_type": "code",
   "execution_count": 154,
   "source": [
    "corr_matrix = data.corr().abs()\r\n",
    "upper = corr_matrix.where(np.triu(np.ones(corr_matrix.shape), k=1).astype(np.bool))\r\n",
    "upper"
   ],
   "outputs": [
    {
     "output_type": "execute_result",
     "data": {
      "text/html": [
       "<div>\n",
       "<style scoped>\n",
       "    .dataframe tbody tr th:only-of-type {\n",
       "        vertical-align: middle;\n",
       "    }\n",
       "\n",
       "    .dataframe tbody tr th {\n",
       "        vertical-align: top;\n",
       "    }\n",
       "\n",
       "    .dataframe thead th {\n",
       "        text-align: right;\n",
       "    }\n",
       "</style>\n",
       "<table border=\"1\" class=\"dataframe\">\n",
       "  <thead>\n",
       "    <tr style=\"text-align: right;\">\n",
       "      <th></th>\n",
       "      <th>Office_PIN</th>\n",
       "      <th>Applicant_City_PIN</th>\n",
       "      <th>Manager_Grade</th>\n",
       "      <th>Manager_Num_Application</th>\n",
       "      <th>Manager_Num_Coded</th>\n",
       "      <th>Manager_Business</th>\n",
       "      <th>Manager_Num_Products</th>\n",
       "      <th>Manager_Business2</th>\n",
       "      <th>Manager_Num_Products2</th>\n",
       "      <th>Business_Sourced</th>\n",
       "    </tr>\n",
       "  </thead>\n",
       "  <tbody>\n",
       "    <tr>\n",
       "      <th>Office_PIN</th>\n",
       "      <td>NaN</td>\n",
       "      <td>0.977756</td>\n",
       "      <td>0.077063</td>\n",
       "      <td>0.061672</td>\n",
       "      <td>0.066030</td>\n",
       "      <td>0.093603</td>\n",
       "      <td>0.132186</td>\n",
       "      <td>0.093386</td>\n",
       "      <td>0.131747</td>\n",
       "      <td>0.027682</td>\n",
       "    </tr>\n",
       "    <tr>\n",
       "      <th>Applicant_City_PIN</th>\n",
       "      <td>NaN</td>\n",
       "      <td>NaN</td>\n",
       "      <td>0.091697</td>\n",
       "      <td>0.055152</td>\n",
       "      <td>0.060603</td>\n",
       "      <td>0.089794</td>\n",
       "      <td>0.131358</td>\n",
       "      <td>0.089425</td>\n",
       "      <td>0.130928</td>\n",
       "      <td>0.028036</td>\n",
       "    </tr>\n",
       "    <tr>\n",
       "      <th>Manager_Grade</th>\n",
       "      <td>NaN</td>\n",
       "      <td>NaN</td>\n",
       "      <td>NaN</td>\n",
       "      <td>0.022524</td>\n",
       "      <td>0.002833</td>\n",
       "      <td>0.322211</td>\n",
       "      <td>0.210353</td>\n",
       "      <td>0.320644</td>\n",
       "      <td>0.209886</td>\n",
       "      <td>0.059363</td>\n",
       "    </tr>\n",
       "    <tr>\n",
       "      <th>Manager_Num_Application</th>\n",
       "      <td>NaN</td>\n",
       "      <td>NaN</td>\n",
       "      <td>NaN</td>\n",
       "      <td>NaN</td>\n",
       "      <td>0.514299</td>\n",
       "      <td>0.014605</td>\n",
       "      <td>0.030293</td>\n",
       "      <td>0.015871</td>\n",
       "      <td>0.029977</td>\n",
       "      <td>0.037593</td>\n",
       "    </tr>\n",
       "    <tr>\n",
       "      <th>Manager_Num_Coded</th>\n",
       "      <td>NaN</td>\n",
       "      <td>NaN</td>\n",
       "      <td>NaN</td>\n",
       "      <td>NaN</td>\n",
       "      <td>NaN</td>\n",
       "      <td>0.152858</td>\n",
       "      <td>0.129490</td>\n",
       "      <td>0.155289</td>\n",
       "      <td>0.130039</td>\n",
       "      <td>0.013565</td>\n",
       "    </tr>\n",
       "    <tr>\n",
       "      <th>Manager_Business</th>\n",
       "      <td>NaN</td>\n",
       "      <td>NaN</td>\n",
       "      <td>NaN</td>\n",
       "      <td>NaN</td>\n",
       "      <td>NaN</td>\n",
       "      <td>NaN</td>\n",
       "      <td>0.733880</td>\n",
       "      <td>0.994422</td>\n",
       "      <td>0.729147</td>\n",
       "      <td>0.031578</td>\n",
       "    </tr>\n",
       "    <tr>\n",
       "      <th>Manager_Num_Products</th>\n",
       "      <td>NaN</td>\n",
       "      <td>NaN</td>\n",
       "      <td>NaN</td>\n",
       "      <td>NaN</td>\n",
       "      <td>NaN</td>\n",
       "      <td>NaN</td>\n",
       "      <td>NaN</td>\n",
       "      <td>0.736272</td>\n",
       "      <td>0.998893</td>\n",
       "      <td>0.011000</td>\n",
       "    </tr>\n",
       "    <tr>\n",
       "      <th>Manager_Business2</th>\n",
       "      <td>NaN</td>\n",
       "      <td>NaN</td>\n",
       "      <td>NaN</td>\n",
       "      <td>NaN</td>\n",
       "      <td>NaN</td>\n",
       "      <td>NaN</td>\n",
       "      <td>NaN</td>\n",
       "      <td>NaN</td>\n",
       "      <td>0.735594</td>\n",
       "      <td>0.031093</td>\n",
       "    </tr>\n",
       "    <tr>\n",
       "      <th>Manager_Num_Products2</th>\n",
       "      <td>NaN</td>\n",
       "      <td>NaN</td>\n",
       "      <td>NaN</td>\n",
       "      <td>NaN</td>\n",
       "      <td>NaN</td>\n",
       "      <td>NaN</td>\n",
       "      <td>NaN</td>\n",
       "      <td>NaN</td>\n",
       "      <td>NaN</td>\n",
       "      <td>0.011706</td>\n",
       "    </tr>\n",
       "    <tr>\n",
       "      <th>Business_Sourced</th>\n",
       "      <td>NaN</td>\n",
       "      <td>NaN</td>\n",
       "      <td>NaN</td>\n",
       "      <td>NaN</td>\n",
       "      <td>NaN</td>\n",
       "      <td>NaN</td>\n",
       "      <td>NaN</td>\n",
       "      <td>NaN</td>\n",
       "      <td>NaN</td>\n",
       "      <td>NaN</td>\n",
       "    </tr>\n",
       "  </tbody>\n",
       "</table>\n",
       "</div>"
      ],
      "text/plain": [
       "                         Office_PIN  Applicant_City_PIN  Manager_Grade  \\\n",
       "Office_PIN                      NaN            0.977756       0.077063   \n",
       "Applicant_City_PIN              NaN                 NaN       0.091697   \n",
       "Manager_Grade                   NaN                 NaN            NaN   \n",
       "Manager_Num_Application         NaN                 NaN            NaN   \n",
       "Manager_Num_Coded               NaN                 NaN            NaN   \n",
       "Manager_Business                NaN                 NaN            NaN   \n",
       "Manager_Num_Products            NaN                 NaN            NaN   \n",
       "Manager_Business2               NaN                 NaN            NaN   \n",
       "Manager_Num_Products2           NaN                 NaN            NaN   \n",
       "Business_Sourced                NaN                 NaN            NaN   \n",
       "\n",
       "                         Manager_Num_Application  Manager_Num_Coded  \\\n",
       "Office_PIN                              0.061672           0.066030   \n",
       "Applicant_City_PIN                      0.055152           0.060603   \n",
       "Manager_Grade                           0.022524           0.002833   \n",
       "Manager_Num_Application                      NaN           0.514299   \n",
       "Manager_Num_Coded                            NaN                NaN   \n",
       "Manager_Business                             NaN                NaN   \n",
       "Manager_Num_Products                         NaN                NaN   \n",
       "Manager_Business2                            NaN                NaN   \n",
       "Manager_Num_Products2                        NaN                NaN   \n",
       "Business_Sourced                             NaN                NaN   \n",
       "\n",
       "                         Manager_Business  Manager_Num_Products  \\\n",
       "Office_PIN                       0.093603              0.132186   \n",
       "Applicant_City_PIN               0.089794              0.131358   \n",
       "Manager_Grade                    0.322211              0.210353   \n",
       "Manager_Num_Application          0.014605              0.030293   \n",
       "Manager_Num_Coded                0.152858              0.129490   \n",
       "Manager_Business                      NaN              0.733880   \n",
       "Manager_Num_Products                  NaN                   NaN   \n",
       "Manager_Business2                     NaN                   NaN   \n",
       "Manager_Num_Products2                 NaN                   NaN   \n",
       "Business_Sourced                      NaN                   NaN   \n",
       "\n",
       "                         Manager_Business2  Manager_Num_Products2  \\\n",
       "Office_PIN                        0.093386               0.131747   \n",
       "Applicant_City_PIN                0.089425               0.130928   \n",
       "Manager_Grade                     0.320644               0.209886   \n",
       "Manager_Num_Application           0.015871               0.029977   \n",
       "Manager_Num_Coded                 0.155289               0.130039   \n",
       "Manager_Business                  0.994422               0.729147   \n",
       "Manager_Num_Products              0.736272               0.998893   \n",
       "Manager_Business2                      NaN               0.735594   \n",
       "Manager_Num_Products2                  NaN                    NaN   \n",
       "Business_Sourced                       NaN                    NaN   \n",
       "\n",
       "                         Business_Sourced  \n",
       "Office_PIN                       0.027682  \n",
       "Applicant_City_PIN               0.028036  \n",
       "Manager_Grade                    0.059363  \n",
       "Manager_Num_Application          0.037593  \n",
       "Manager_Num_Coded                0.013565  \n",
       "Manager_Business                 0.031578  \n",
       "Manager_Num_Products             0.011000  \n",
       "Manager_Business2                0.031093  \n",
       "Manager_Num_Products2            0.011706  \n",
       "Business_Sourced                      NaN  "
      ]
     },
     "metadata": {},
     "execution_count": 154
    }
   ],
   "metadata": {}
  },
  {
   "cell_type": "code",
   "execution_count": 155,
   "source": [
    "to_drop = [columns for columns in upper.columns if any(upper[columns] > 0.9)]\r\n",
    "to_drop"
   ],
   "outputs": [
    {
     "output_type": "execute_result",
     "data": {
      "text/plain": [
       "['Applicant_City_PIN', 'Manager_Business2', 'Manager_Num_Products2']"
      ]
     },
     "metadata": {},
     "execution_count": 155
    }
   ],
   "metadata": {}
  },
  {
   "cell_type": "code",
   "execution_count": 156,
   "source": [
    "# Lets drop these columns as they are highly coorelated.\r\n",
    "updated_data = data.drop(data[to_drop], axis=1)\r\n",
    "updated_data_test = data_test.drop(data_test[to_drop], axis=1)\r\n"
   ],
   "outputs": [],
   "metadata": {}
  },
  {
   "cell_type": "code",
   "execution_count": 157,
   "source": [
    "updated_data.shape, data.shape, updated_data_test.shape, data_test.shape"
   ],
   "outputs": [
    {
     "output_type": "execute_result",
     "data": {
      "text/plain": [
       "((9527, 20), (9527, 23), (5045, 19), (5045, 22))"
      ]
     },
     "metadata": {},
     "execution_count": 157
    }
   ],
   "metadata": {}
  },
  {
   "cell_type": "code",
   "execution_count": 158,
   "source": [
    "nullvals = pd.DataFrame(\r\n",
    "    {\r\n",
    "        \"Train_data\": updated_data.isna().sum(),\r\n",
    "        \"Test_data\": updated_data_test.isna().sum()\r\n",
    "    }\r\n",
    ")\r\n",
    "\r\n",
    "nullvals\r\n"
   ],
   "outputs": [
    {
     "output_type": "execute_result",
     "data": {
      "text/html": [
       "<div>\n",
       "<style scoped>\n",
       "    .dataframe tbody tr th:only-of-type {\n",
       "        vertical-align: middle;\n",
       "    }\n",
       "\n",
       "    .dataframe tbody tr th {\n",
       "        vertical-align: top;\n",
       "    }\n",
       "\n",
       "    .dataframe thead th {\n",
       "        text-align: right;\n",
       "    }\n",
       "</style>\n",
       "<table border=\"1\" class=\"dataframe\">\n",
       "  <thead>\n",
       "    <tr style=\"text-align: right;\">\n",
       "      <th></th>\n",
       "      <th>Train_data</th>\n",
       "      <th>Test_data</th>\n",
       "    </tr>\n",
       "  </thead>\n",
       "  <tbody>\n",
       "    <tr>\n",
       "      <th>Applicant_BirthDate</th>\n",
       "      <td>73</td>\n",
       "      <td>23.0</td>\n",
       "    </tr>\n",
       "    <tr>\n",
       "      <th>Applicant_Gender</th>\n",
       "      <td>67</td>\n",
       "      <td>22.0</td>\n",
       "    </tr>\n",
       "    <tr>\n",
       "      <th>Applicant_Marital_Status</th>\n",
       "      <td>73</td>\n",
       "      <td>30.0</td>\n",
       "    </tr>\n",
       "    <tr>\n",
       "      <th>Applicant_Occupation</th>\n",
       "      <td>1221</td>\n",
       "      <td>1004.0</td>\n",
       "    </tr>\n",
       "    <tr>\n",
       "      <th>Applicant_Qualification</th>\n",
       "      <td>86</td>\n",
       "      <td>44.0</td>\n",
       "    </tr>\n",
       "    <tr>\n",
       "      <th>Application_Receipt_Date</th>\n",
       "      <td>0</td>\n",
       "      <td>0.0</td>\n",
       "    </tr>\n",
       "    <tr>\n",
       "      <th>Business_Sourced</th>\n",
       "      <td>0</td>\n",
       "      <td>NaN</td>\n",
       "    </tr>\n",
       "    <tr>\n",
       "      <th>ID</th>\n",
       "      <td>0</td>\n",
       "      <td>0.0</td>\n",
       "    </tr>\n",
       "    <tr>\n",
       "      <th>Manager_Business</th>\n",
       "      <td>683</td>\n",
       "      <td>824.0</td>\n",
       "    </tr>\n",
       "    <tr>\n",
       "      <th>Manager_Current_Designation</th>\n",
       "      <td>683</td>\n",
       "      <td>824.0</td>\n",
       "    </tr>\n",
       "    <tr>\n",
       "      <th>Manager_DOJ</th>\n",
       "      <td>683</td>\n",
       "      <td>824.0</td>\n",
       "    </tr>\n",
       "    <tr>\n",
       "      <th>Manager_DoB</th>\n",
       "      <td>683</td>\n",
       "      <td>824.0</td>\n",
       "    </tr>\n",
       "    <tr>\n",
       "      <th>Manager_Gender</th>\n",
       "      <td>683</td>\n",
       "      <td>824.0</td>\n",
       "    </tr>\n",
       "    <tr>\n",
       "      <th>Manager_Grade</th>\n",
       "      <td>683</td>\n",
       "      <td>824.0</td>\n",
       "    </tr>\n",
       "    <tr>\n",
       "      <th>Manager_Joining_Designation</th>\n",
       "      <td>683</td>\n",
       "      <td>824.0</td>\n",
       "    </tr>\n",
       "    <tr>\n",
       "      <th>Manager_Num_Application</th>\n",
       "      <td>683</td>\n",
       "      <td>824.0</td>\n",
       "    </tr>\n",
       "    <tr>\n",
       "      <th>Manager_Num_Coded</th>\n",
       "      <td>683</td>\n",
       "      <td>824.0</td>\n",
       "    </tr>\n",
       "    <tr>\n",
       "      <th>Manager_Num_Products</th>\n",
       "      <td>683</td>\n",
       "      <td>824.0</td>\n",
       "    </tr>\n",
       "    <tr>\n",
       "      <th>Manager_Status</th>\n",
       "      <td>683</td>\n",
       "      <td>824.0</td>\n",
       "    </tr>\n",
       "    <tr>\n",
       "      <th>Office_PIN</th>\n",
       "      <td>0</td>\n",
       "      <td>0.0</td>\n",
       "    </tr>\n",
       "  </tbody>\n",
       "</table>\n",
       "</div>"
      ],
      "text/plain": [
       "                             Train_data  Test_data\n",
       "Applicant_BirthDate                  73       23.0\n",
       "Applicant_Gender                     67       22.0\n",
       "Applicant_Marital_Status             73       30.0\n",
       "Applicant_Occupation               1221     1004.0\n",
       "Applicant_Qualification              86       44.0\n",
       "Application_Receipt_Date              0        0.0\n",
       "Business_Sourced                      0        NaN\n",
       "ID                                    0        0.0\n",
       "Manager_Business                    683      824.0\n",
       "Manager_Current_Designation         683      824.0\n",
       "Manager_DOJ                         683      824.0\n",
       "Manager_DoB                         683      824.0\n",
       "Manager_Gender                      683      824.0\n",
       "Manager_Grade                       683      824.0\n",
       "Manager_Joining_Designation         683      824.0\n",
       "Manager_Num_Application             683      824.0\n",
       "Manager_Num_Coded                   683      824.0\n",
       "Manager_Num_Products                683      824.0\n",
       "Manager_Status                      683      824.0\n",
       "Office_PIN                            0        0.0"
      ]
     },
     "metadata": {},
     "execution_count": 158
    }
   ],
   "metadata": {}
  },
  {
   "cell_type": "markdown",
   "source": [
    "## Steps:\r\n",
    "- Analyze the not missing data first\r\n",
    "- extract age of agents\r\n",
    "- where occupation is null, set as \"not employeed\"\r\n",
    "- apply a random forest and see if city pin is relevant. Mabe drop it. impute using mode\r\n",
    "- Impute gender using mode\r\n",
    "- extract age from birthdate and drop the column\r\n",
    "- impute Marital status with mode\r\n",
    "- Application qualification, impute with mode. Set values of MBA and above as Post Graduate"
   ],
   "metadata": {}
  },
  {
   "cell_type": "code",
   "execution_count": 159,
   "source": [
    "updated_data.Applicant_Gender.value_counts()"
   ],
   "outputs": [
    {
     "output_type": "execute_result",
     "data": {
      "text/plain": [
       "M    7179\n",
       "F    2281\n",
       "Name: Applicant_Gender, dtype: int64"
      ]
     },
     "metadata": {},
     "execution_count": 159
    }
   ],
   "metadata": {}
  },
  {
   "cell_type": "code",
   "execution_count": 160,
   "source": [
    "# Fill missing gender value with Mode\r\n",
    "updated_data.Applicant_Gender.fillna(updated_data.Applicant_Gender.mode()[0], inplace=True)"
   ],
   "outputs": [],
   "metadata": {}
  },
  {
   "cell_type": "code",
   "execution_count": 161,
   "source": [
    "updated_data_test.Applicant_Gender.fillna(updated_data_test.Applicant_Gender.mode()[0], inplace=True)"
   ],
   "outputs": [],
   "metadata": {}
  },
  {
   "cell_type": "code",
   "execution_count": 162,
   "source": [
    "updated_data.Applicant_Marital_Status.value_counts()"
   ],
   "outputs": [
    {
     "output_type": "execute_result",
     "data": {
      "text/plain": [
       "M    6177\n",
       "S    3267\n",
       "W       6\n",
       "D       4\n",
       "Name: Applicant_Marital_Status, dtype: int64"
      ]
     },
     "metadata": {},
     "execution_count": 162
    }
   ],
   "metadata": {}
  },
  {
   "cell_type": "code",
   "execution_count": 163,
   "source": [
    "updated_data.Applicant_Marital_Status.fillna(updated_data.Applicant_Marital_Status.mode()[0], inplace=True)\r\n",
    "updated_data_test.Applicant_Marital_Status.fillna(updated_data_test.Applicant_Marital_Status.mode()[0], inplace=True)\r\n"
   ],
   "outputs": [],
   "metadata": {}
  },
  {
   "cell_type": "code",
   "execution_count": 164,
   "source": [
    "updated_data.Applicant_Marital_Status.isna().sum()"
   ],
   "outputs": [
    {
     "output_type": "execute_result",
     "data": {
      "text/plain": [
       "0"
      ]
     },
     "metadata": {},
     "execution_count": 164
    }
   ],
   "metadata": {}
  },
  {
   "cell_type": "code",
   "execution_count": 165,
   "source": [
    "# Map W and D to other as there are very less instances\r\n",
    "other_cat = {\"W\": \"O\", \"D\": \"O\", \"M\":\"M\", \"S\":\"S\"}"
   ],
   "outputs": [],
   "metadata": {}
  },
  {
   "cell_type": "code",
   "execution_count": 166,
   "source": [
    "updated_data.Applicant_Marital_Status.value_counts()"
   ],
   "outputs": [
    {
     "output_type": "execute_result",
     "data": {
      "text/plain": [
       "M    6250\n",
       "S    3267\n",
       "W       6\n",
       "D       4\n",
       "Name: Applicant_Marital_Status, dtype: int64"
      ]
     },
     "metadata": {},
     "execution_count": 166
    }
   ],
   "metadata": {}
  },
  {
   "cell_type": "code",
   "execution_count": 167,
   "source": [
    "updated_data.Applicant_Marital_Status = updated_data.Applicant_Marital_Status.map(other_cat)\r\n",
    "updated_data_test.Applicant_Marital_Status = updated_data_test.Applicant_Marital_Status.map(other_cat)\r\n"
   ],
   "outputs": [],
   "metadata": {}
  },
  {
   "cell_type": "code",
   "execution_count": 196,
   "source": [
    "nullvals = pd.DataFrame(\r\n",
    "    {\r\n",
    "        \"Train_data\": updated_data.isna().sum(),\r\n",
    "        \"Test_data\": updated_data_test.isna().sum()\r\n",
    "    }\r\n",
    ")\r\n",
    "\r\n",
    "nullvals\r\n"
   ],
   "outputs": [
    {
     "output_type": "execute_result",
     "data": {
      "text/html": [
       "<div>\n",
       "<style scoped>\n",
       "    .dataframe tbody tr th:only-of-type {\n",
       "        vertical-align: middle;\n",
       "    }\n",
       "\n",
       "    .dataframe tbody tr th {\n",
       "        vertical-align: top;\n",
       "    }\n",
       "\n",
       "    .dataframe thead th {\n",
       "        text-align: right;\n",
       "    }\n",
       "</style>\n",
       "<table border=\"1\" class=\"dataframe\">\n",
       "  <thead>\n",
       "    <tr style=\"text-align: right;\">\n",
       "      <th></th>\n",
       "      <th>Train_data</th>\n",
       "      <th>Test_data</th>\n",
       "    </tr>\n",
       "  </thead>\n",
       "  <tbody>\n",
       "    <tr>\n",
       "      <th>Applicant_BirthDate</th>\n",
       "      <td>73</td>\n",
       "      <td>23.0</td>\n",
       "    </tr>\n",
       "    <tr>\n",
       "      <th>Applicant_Gender</th>\n",
       "      <td>0</td>\n",
       "      <td>0.0</td>\n",
       "    </tr>\n",
       "    <tr>\n",
       "      <th>Applicant_Marital_Status</th>\n",
       "      <td>0</td>\n",
       "      <td>0.0</td>\n",
       "    </tr>\n",
       "    <tr>\n",
       "      <th>Applicant_Occupation</th>\n",
       "      <td>0</td>\n",
       "      <td>0.0</td>\n",
       "    </tr>\n",
       "    <tr>\n",
       "      <th>Applicant_Qualification</th>\n",
       "      <td>0</td>\n",
       "      <td>1.0</td>\n",
       "    </tr>\n",
       "    <tr>\n",
       "      <th>Application_Receipt_Date</th>\n",
       "      <td>0</td>\n",
       "      <td>0.0</td>\n",
       "    </tr>\n",
       "    <tr>\n",
       "      <th>Business_Sourced</th>\n",
       "      <td>0</td>\n",
       "      <td>NaN</td>\n",
       "    </tr>\n",
       "    <tr>\n",
       "      <th>ID</th>\n",
       "      <td>0</td>\n",
       "      <td>0.0</td>\n",
       "    </tr>\n",
       "    <tr>\n",
       "      <th>Manager_Business</th>\n",
       "      <td>683</td>\n",
       "      <td>824.0</td>\n",
       "    </tr>\n",
       "    <tr>\n",
       "      <th>Manager_Current_Designation</th>\n",
       "      <td>683</td>\n",
       "      <td>824.0</td>\n",
       "    </tr>\n",
       "    <tr>\n",
       "      <th>Manager_DOJ</th>\n",
       "      <td>683</td>\n",
       "      <td>824.0</td>\n",
       "    </tr>\n",
       "    <tr>\n",
       "      <th>Manager_DoB</th>\n",
       "      <td>683</td>\n",
       "      <td>824.0</td>\n",
       "    </tr>\n",
       "    <tr>\n",
       "      <th>Manager_Gender</th>\n",
       "      <td>683</td>\n",
       "      <td>824.0</td>\n",
       "    </tr>\n",
       "    <tr>\n",
       "      <th>Manager_Grade</th>\n",
       "      <td>683</td>\n",
       "      <td>824.0</td>\n",
       "    </tr>\n",
       "    <tr>\n",
       "      <th>Manager_Joining_Designation</th>\n",
       "      <td>683</td>\n",
       "      <td>824.0</td>\n",
       "    </tr>\n",
       "    <tr>\n",
       "      <th>Manager_Num_Application</th>\n",
       "      <td>683</td>\n",
       "      <td>824.0</td>\n",
       "    </tr>\n",
       "    <tr>\n",
       "      <th>Manager_Num_Coded</th>\n",
       "      <td>683</td>\n",
       "      <td>824.0</td>\n",
       "    </tr>\n",
       "    <tr>\n",
       "      <th>Manager_Num_Products</th>\n",
       "      <td>683</td>\n",
       "      <td>824.0</td>\n",
       "    </tr>\n",
       "    <tr>\n",
       "      <th>Manager_Status</th>\n",
       "      <td>683</td>\n",
       "      <td>824.0</td>\n",
       "    </tr>\n",
       "    <tr>\n",
       "      <th>Office_PIN</th>\n",
       "      <td>0</td>\n",
       "      <td>0.0</td>\n",
       "    </tr>\n",
       "  </tbody>\n",
       "</table>\n",
       "</div>"
      ],
      "text/plain": [
       "                             Train_data  Test_data\n",
       "Applicant_BirthDate                  73       23.0\n",
       "Applicant_Gender                      0        0.0\n",
       "Applicant_Marital_Status              0        0.0\n",
       "Applicant_Occupation                  0        0.0\n",
       "Applicant_Qualification               0        1.0\n",
       "Application_Receipt_Date              0        0.0\n",
       "Business_Sourced                      0        NaN\n",
       "ID                                    0        0.0\n",
       "Manager_Business                    683      824.0\n",
       "Manager_Current_Designation         683      824.0\n",
       "Manager_DOJ                         683      824.0\n",
       "Manager_DoB                         683      824.0\n",
       "Manager_Gender                      683      824.0\n",
       "Manager_Grade                       683      824.0\n",
       "Manager_Joining_Designation         683      824.0\n",
       "Manager_Num_Application             683      824.0\n",
       "Manager_Num_Coded                   683      824.0\n",
       "Manager_Num_Products                683      824.0\n",
       "Manager_Status                      683      824.0\n",
       "Office_PIN                            0        0.0"
      ]
     },
     "metadata": {},
     "execution_count": 196
    }
   ],
   "metadata": {}
  },
  {
   "cell_type": "code",
   "execution_count": 169,
   "source": [
    "# Replace by mode\r\n",
    "updated_data.Applicant_Qualification.value_counts()"
   ],
   "outputs": [
    {
     "output_type": "execute_result",
     "data": {
      "text/plain": [
       "Class XII                                                           5806\n",
       "Graduate                                                            3196\n",
       "Class X                                                              225\n",
       "Others                                                               132\n",
       "Masters of Business Administration                                    74\n",
       "Associate / Fellow of Institute of Chartered Accountans of India       3\n",
       "Associate/Fellow of Institute of Company Secretories of India          1\n",
       "Certified Associateship of Indian Institute of Bankers                 1\n",
       "Associate/Fellow of Insurance Institute of India                       1\n",
       "Associate/Fellow of Acturial Society of India                          1\n",
       "Professional Qualification in Marketing                                1\n",
       "Name: Applicant_Qualification, dtype: int64"
      ]
     },
     "metadata": {},
     "execution_count": 169
    }
   ],
   "metadata": {}
  },
  {
   "cell_type": "code",
   "execution_count": 200,
   "source": [
    "updated_data.Applicant_Qualification.fillna(updated_data.Applicant_Qualification.mode()[0], inplace=True) \r\n",
    "updated_data_test.Applicant_Qualification.fillna(updated_data_test.Applicant_Qualification.mode()[0], inplace=True) \r\n"
   ],
   "outputs": [],
   "metadata": {}
  },
  {
   "cell_type": "code",
   "execution_count": 170,
   "source": [
    "updated_data_test.Applicant_Qualification.value_counts()"
   ],
   "outputs": [
    {
     "output_type": "execute_result",
     "data": {
      "text/plain": [
       "Graduate                                                                              3375\n",
       "Class XII                                                                             1357\n",
       "Others                                                                                 171\n",
       "Masters of Business Administration                                                      71\n",
       "Class X                                                                                 19\n",
       "Professional Qualification in Marketing                                                  5\n",
       "Associate / Fellow of Institute of Chartered Accountans of India                         2\n",
       "Associate/Fellow of Institute of Institute of Costs and Works Accountants of India       1\n",
       "Name: Applicant_Qualification, dtype: int64"
      ]
     },
     "metadata": {},
     "execution_count": 170
    }
   ],
   "metadata": {}
  },
  {
   "cell_type": "code",
   "execution_count": 175,
   "source": [
    "#decreasing the number of categories\r\n",
    "graduate_mapping = {\"Class XII\": \"Class XII\", \"Graduate\": \"Graduate\", \"Class X\":\"Class X\", \"Others\": \"Others\", \"Masters of Business Administration\":\"PostGrad\", \"Associate / Fellow of Institute of Chartered Accountans of India\":\"PostGrad\", \"Associate/Fellow of Institute of Company Secretories of India\":\"PostGrad\", \"Certified Associateship of Indian Institute of Bankers\": \"PostGrad\", \"Associate/Fellow of Insurance Institute of India\": \"PostGrad\", \"Associate/Fellow of Acturial Society of India\":\"PostGrad\", \"Professional Qualification in Marketing\": \"PostGrad\"}"
   ],
   "outputs": [],
   "metadata": {}
  },
  {
   "cell_type": "code",
   "execution_count": 183,
   "source": [
    "updated_data.Applicant_Qualification = updated_data.Applicant_Qualification.map(graduate_mapping)\r\n",
    "updated_data_test.Applicant_Qualification = updated_data_test.Applicant_Qualification.map(graduate_mapping)\r\n"
   ],
   "outputs": [],
   "metadata": {}
  },
  {
   "cell_type": "code",
   "execution_count": 185,
   "source": [
    "updated_data.Applicant_Qualification.value_counts()"
   ],
   "outputs": [
    {
     "output_type": "execute_result",
     "data": {
      "text/plain": [
       "Class XII    5892\n",
       "Graduate     3196\n",
       "Class X       225\n",
       "Others        132\n",
       "PostGrad       82\n",
       "Name: Applicant_Qualification, dtype: int64"
      ]
     },
     "metadata": {},
     "execution_count": 185
    }
   ],
   "metadata": {}
  },
  {
   "cell_type": "code",
   "execution_count": 188,
   "source": [
    "# Applicant Occupation\r\n",
    "\r\n",
    "updated_data.Applicant_Occupation.value_counts()"
   ],
   "outputs": [
    {
     "output_type": "execute_result",
     "data": {
      "text/plain": [
       "Salaried         3787\n",
       "Business         2303\n",
       "Others           1966\n",
       "Self Employed     149\n",
       "Student           101\n",
       "Name: Applicant_Occupation, dtype: int64"
      ]
     },
     "metadata": {},
     "execution_count": 188
    }
   ],
   "metadata": {}
  },
  {
   "cell_type": "code",
   "execution_count": 189,
   "source": [
    "# Applicant Occupation\r\n",
    "\r\n",
    "updated_data_test.Applicant_Occupation.value_counts()"
   ],
   "outputs": [
    {
     "output_type": "execute_result",
     "data": {
      "text/plain": [
       "Salaried         2560\n",
       "Business          646\n",
       "Others            506\n",
       "Self Employed     310\n",
       "Student            19\n",
       "Name: Applicant_Occupation, dtype: int64"
      ]
     },
     "metadata": {},
     "execution_count": 189
    }
   ],
   "metadata": {}
  },
  {
   "cell_type": "code",
   "execution_count": 197,
   "source": [
    "updated_data.Applicant_Occupation.fillna(\"Unknown\", inplace=True)\r\n",
    "updated_data_test.Applicant_Occupation.fillna(\"Unknown\", inplace=True)\r\n"
   ],
   "outputs": [],
   "metadata": {}
  },
  {
   "cell_type": "code",
   "execution_count": 199,
   "source": [
    "updated_data_test.Applicant_Occupation.isna().sum()"
   ],
   "outputs": [
    {
     "output_type": "execute_result",
     "data": {
      "text/plain": [
       "0"
      ]
     },
     "metadata": {},
     "execution_count": 199
    }
   ],
   "metadata": {}
  },
  {
   "cell_type": "code",
   "execution_count": 290,
   "source": [
    "# Find the age of applicant and managers.\r\n",
    "updated_data.Applicant_BirthDate = pd.to_datetime(updated_data.Applicant_BirthDate)\r\n",
    "updated_data_test.Applicant_BirthDate = pd.to_datetime(updated_data_test.Applicant_BirthDate)\r\n",
    "\r\n",
    "updated_data.Manager_DoB = pd.to_datetime(updated_data.Manager_DoB)\r\n",
    "updated_data_test.Manager_DoB = pd.to_datetime(updated_data_test.Manager_DoB)\r\n",
    "\r\n",
    "updated_data.Manager_DOJ = pd.to_datetime(updated_data.Manager_DOJ)\r\n",
    "updated_data_test.Manager_DOJ = pd.to_datetime(updated_data_test.Manager_DOJ)\r\n",
    "\r\n",
    "updated_data.Application_Receipt_Date = pd.to_datetime(updated_data.Application_Receipt_Date)\r\n",
    "updated_data_test.Application_Receipt_Date = pd.to_datetime(updated_data_test.Application_Receipt_Date)\r\n"
   ],
   "outputs": [],
   "metadata": {}
  },
  {
   "cell_type": "code",
   "execution_count": 292,
   "source": [
    "#Update Data\r\n",
    "\r\n",
    "def timestamp_functions(df):\r\n",
    "    df[\"Applicant_Age\"] = (df.Application_Receipt_Date.dt.year - df.Applicant_BirthDate.dt.year) - ((df.Application_Receipt_Date.dt.month - df.Applicant_BirthDate.dt.month) < 0)\r\n",
    "    df[\"Manager_Age\"] = (df.Application_Receipt_Date.dt.year - df.Manager_DoB.dt.year) - ((df.Application_Receipt_Date.dt.month - df.Manager_DoB.dt.month) < 0)\r\n",
    "    df[\"Manager_Tenure\"] = (df.Application_Receipt_Date.dt.year - df.Manager_DOJ.dt.year) * 12 + ((df.Application_Receipt_Date.dt.month - df.Manager_DOJ.dt.month))\r\n",
    "    df[\"Application_Receipt_Month\"] = df.Application_Receipt_Date.dt.month\r\n",
    "    df[\"Application_Receipt_Year\"] = df.Application_Receipt_Date.dt.year"
   ],
   "outputs": [],
   "metadata": {}
  },
  {
   "cell_type": "code",
   "execution_count": 293,
   "source": [
    "timestamp_functions(updated_data_test)\r\n",
    "timestamp_functions(updated_data)"
   ],
   "outputs": [],
   "metadata": {}
  },
  {
   "cell_type": "markdown",
   "source": [
    " We can now drop Applicant_birthDate, Manager_DOJ, Manager_DoB, Application_Receipt_Date"
   ],
   "metadata": {}
  },
  {
   "cell_type": "code",
   "execution_count": 296,
   "source": [
    "updated_data_test.drop(['Application_Receipt_Date','Applicant_BirthDate', 'Manager_DOJ', 'Manager_DoB'], axis=1, inplace=True)\r\n",
    "updated_data.drop(['Application_Receipt_Date','Applicant_BirthDate', 'Manager_DOJ', 'Manager_DoB'], axis=1, inplace=True)\r\n",
    "#'Application_Receipt_Date','Applicant_BirthDate', 'Manager_DOJ', 'Manager_DoB'"
   ],
   "outputs": [],
   "metadata": {}
  },
  {
   "cell_type": "code",
   "execution_count": 305,
   "source": [
    "nullvals = pd.DataFrame(\r\n",
    "    {\r\n",
    "        \"Train_data\": updated_data.isna().sum(),\r\n",
    "        \"Test_data\": updated_data_test.isna().sum()\r\n",
    "    }\r\n",
    ")\r\n",
    "\r\n",
    "nullvals\r\n"
   ],
   "outputs": [
    {
     "output_type": "execute_result",
     "data": {
      "text/html": [
       "<div>\n",
       "<style scoped>\n",
       "    .dataframe tbody tr th:only-of-type {\n",
       "        vertical-align: middle;\n",
       "    }\n",
       "\n",
       "    .dataframe tbody tr th {\n",
       "        vertical-align: top;\n",
       "    }\n",
       "\n",
       "    .dataframe thead th {\n",
       "        text-align: right;\n",
       "    }\n",
       "</style>\n",
       "<table border=\"1\" class=\"dataframe\">\n",
       "  <thead>\n",
       "    <tr style=\"text-align: right;\">\n",
       "      <th></th>\n",
       "      <th>Train_data</th>\n",
       "      <th>Test_data</th>\n",
       "    </tr>\n",
       "  </thead>\n",
       "  <tbody>\n",
       "    <tr>\n",
       "      <th>Applicant_Age</th>\n",
       "      <td>0</td>\n",
       "      <td>0.0</td>\n",
       "    </tr>\n",
       "    <tr>\n",
       "      <th>Applicant_Gender</th>\n",
       "      <td>0</td>\n",
       "      <td>0.0</td>\n",
       "    </tr>\n",
       "    <tr>\n",
       "      <th>Applicant_Marital_Status</th>\n",
       "      <td>0</td>\n",
       "      <td>0.0</td>\n",
       "    </tr>\n",
       "    <tr>\n",
       "      <th>Applicant_Occupation</th>\n",
       "      <td>0</td>\n",
       "      <td>0.0</td>\n",
       "    </tr>\n",
       "    <tr>\n",
       "      <th>Applicant_Qualification</th>\n",
       "      <td>0</td>\n",
       "      <td>0.0</td>\n",
       "    </tr>\n",
       "    <tr>\n",
       "      <th>Application_Receipt_Month</th>\n",
       "      <td>0</td>\n",
       "      <td>0.0</td>\n",
       "    </tr>\n",
       "    <tr>\n",
       "      <th>Application_Receipt_Year</th>\n",
       "      <td>0</td>\n",
       "      <td>0.0</td>\n",
       "    </tr>\n",
       "    <tr>\n",
       "      <th>Business_Sourced</th>\n",
       "      <td>0</td>\n",
       "      <td>NaN</td>\n",
       "    </tr>\n",
       "    <tr>\n",
       "      <th>ID</th>\n",
       "      <td>0</td>\n",
       "      <td>0.0</td>\n",
       "    </tr>\n",
       "    <tr>\n",
       "      <th>Manager_Age</th>\n",
       "      <td>683</td>\n",
       "      <td>824.0</td>\n",
       "    </tr>\n",
       "    <tr>\n",
       "      <th>Manager_Business</th>\n",
       "      <td>683</td>\n",
       "      <td>824.0</td>\n",
       "    </tr>\n",
       "    <tr>\n",
       "      <th>Manager_Current_Designation</th>\n",
       "      <td>683</td>\n",
       "      <td>824.0</td>\n",
       "    </tr>\n",
       "    <tr>\n",
       "      <th>Manager_Gender</th>\n",
       "      <td>683</td>\n",
       "      <td>824.0</td>\n",
       "    </tr>\n",
       "    <tr>\n",
       "      <th>Manager_Grade</th>\n",
       "      <td>683</td>\n",
       "      <td>824.0</td>\n",
       "    </tr>\n",
       "    <tr>\n",
       "      <th>Manager_Joining_Designation</th>\n",
       "      <td>683</td>\n",
       "      <td>824.0</td>\n",
       "    </tr>\n",
       "    <tr>\n",
       "      <th>Manager_Num_Application</th>\n",
       "      <td>683</td>\n",
       "      <td>824.0</td>\n",
       "    </tr>\n",
       "    <tr>\n",
       "      <th>Manager_Num_Coded</th>\n",
       "      <td>683</td>\n",
       "      <td>824.0</td>\n",
       "    </tr>\n",
       "    <tr>\n",
       "      <th>Manager_Num_Products</th>\n",
       "      <td>683</td>\n",
       "      <td>824.0</td>\n",
       "    </tr>\n",
       "    <tr>\n",
       "      <th>Manager_Status</th>\n",
       "      <td>683</td>\n",
       "      <td>824.0</td>\n",
       "    </tr>\n",
       "    <tr>\n",
       "      <th>Manager_Tenure</th>\n",
       "      <td>683</td>\n",
       "      <td>824.0</td>\n",
       "    </tr>\n",
       "    <tr>\n",
       "      <th>Office_PIN</th>\n",
       "      <td>0</td>\n",
       "      <td>0.0</td>\n",
       "    </tr>\n",
       "  </tbody>\n",
       "</table>\n",
       "</div>"
      ],
      "text/plain": [
       "                             Train_data  Test_data\n",
       "Applicant_Age                         0        0.0\n",
       "Applicant_Gender                      0        0.0\n",
       "Applicant_Marital_Status              0        0.0\n",
       "Applicant_Occupation                  0        0.0\n",
       "Applicant_Qualification               0        0.0\n",
       "Application_Receipt_Month             0        0.0\n",
       "Application_Receipt_Year              0        0.0\n",
       "Business_Sourced                      0        NaN\n",
       "ID                                    0        0.0\n",
       "Manager_Age                         683      824.0\n",
       "Manager_Business                    683      824.0\n",
       "Manager_Current_Designation         683      824.0\n",
       "Manager_Gender                      683      824.0\n",
       "Manager_Grade                       683      824.0\n",
       "Manager_Joining_Designation         683      824.0\n",
       "Manager_Num_Application             683      824.0\n",
       "Manager_Num_Coded                   683      824.0\n",
       "Manager_Num_Products                683      824.0\n",
       "Manager_Status                      683      824.0\n",
       "Manager_Tenure                      683      824.0\n",
       "Office_PIN                            0        0.0"
      ]
     },
     "metadata": {},
     "execution_count": 305
    }
   ],
   "metadata": {}
  },
  {
   "cell_type": "code",
   "execution_count": 304,
   "source": [
    "updated_data.Applicant_Age.fillna(updated_data.Applicant_Age.mean(), inplace=True) \r\n",
    "updated_data_test.Applicant_Age.fillna(updated_data_test.Applicant_Age.mean(), inplace=True) \r\n"
   ],
   "outputs": [],
   "metadata": {}
  },
  {
   "cell_type": "code",
   "execution_count": null,
   "source": [
    "updated_data.to_csv(\"updated_data.csv\", index=False)\r\n",
    "updated_data_test.to_csv(\"updated_data_test.csv\", index=False)"
   ],
   "outputs": [],
   "metadata": {}
  },
  {
   "cell_type": "code",
   "execution_count": 63,
   "source": [
    "data_encoded_clean = pd.read_csv(\"updated_data.csv\")\r\n",
    "data_encoded_clean_test = pd.read_csv(\"updated_data_test.csv\")\r\n"
   ],
   "outputs": [],
   "metadata": {}
  },
  {
   "cell_type": "code",
   "execution_count": 64,
   "source": [
    "data_encoded_clean.head()"
   ],
   "outputs": [
    {
     "output_type": "execute_result",
     "data": {
      "text/html": [
       "<div>\n",
       "<style scoped>\n",
       "    .dataframe tbody tr th:only-of-type {\n",
       "        vertical-align: middle;\n",
       "    }\n",
       "\n",
       "    .dataframe tbody tr th {\n",
       "        vertical-align: top;\n",
       "    }\n",
       "\n",
       "    .dataframe thead th {\n",
       "        text-align: right;\n",
       "    }\n",
       "</style>\n",
       "<table border=\"1\" class=\"dataframe\">\n",
       "  <thead>\n",
       "    <tr style=\"text-align: right;\">\n",
       "      <th></th>\n",
       "      <th>ID</th>\n",
       "      <th>Office_PIN</th>\n",
       "      <th>Applicant_Gender</th>\n",
       "      <th>Applicant_Marital_Status</th>\n",
       "      <th>Applicant_Occupation</th>\n",
       "      <th>Applicant_Qualification</th>\n",
       "      <th>Manager_Joining_Designation</th>\n",
       "      <th>Manager_Current_Designation</th>\n",
       "      <th>Manager_Grade</th>\n",
       "      <th>Manager_Status</th>\n",
       "      <th>Manager_Gender</th>\n",
       "      <th>Manager_Num_Application</th>\n",
       "      <th>Manager_Num_Coded</th>\n",
       "      <th>Manager_Business</th>\n",
       "      <th>Manager_Num_Products</th>\n",
       "      <th>Business_Sourced</th>\n",
       "      <th>Applicant_Age</th>\n",
       "      <th>Manager_Age</th>\n",
       "      <th>Manager_Tenure</th>\n",
       "      <th>Application_Receipt_Month</th>\n",
       "      <th>Application_Receipt_Year</th>\n",
       "    </tr>\n",
       "  </thead>\n",
       "  <tbody>\n",
       "    <tr>\n",
       "      <th>0</th>\n",
       "      <td>FIN1000001</td>\n",
       "      <td>842001</td>\n",
       "      <td>M</td>\n",
       "      <td>M</td>\n",
       "      <td>Others</td>\n",
       "      <td>Graduate</td>\n",
       "      <td>Level 1</td>\n",
       "      <td>Level 2</td>\n",
       "      <td>3.0</td>\n",
       "      <td>Confirmation</td>\n",
       "      <td>M</td>\n",
       "      <td>2.0</td>\n",
       "      <td>1.0</td>\n",
       "      <td>335249.0</td>\n",
       "      <td>28.0</td>\n",
       "      <td>0</td>\n",
       "      <td>35.0</td>\n",
       "      <td>29.0</td>\n",
       "      <td>17.0</td>\n",
       "      <td>4</td>\n",
       "      <td>2007</td>\n",
       "    </tr>\n",
       "    <tr>\n",
       "      <th>1</th>\n",
       "      <td>FIN1000002</td>\n",
       "      <td>842001</td>\n",
       "      <td>M</td>\n",
       "      <td>S</td>\n",
       "      <td>Others</td>\n",
       "      <td>Class XII</td>\n",
       "      <td>Level 1</td>\n",
       "      <td>Level 2</td>\n",
       "      <td>3.0</td>\n",
       "      <td>Confirmation</td>\n",
       "      <td>M</td>\n",
       "      <td>2.0</td>\n",
       "      <td>1.0</td>\n",
       "      <td>335249.0</td>\n",
       "      <td>28.0</td>\n",
       "      <td>1</td>\n",
       "      <td>24.0</td>\n",
       "      <td>29.0</td>\n",
       "      <td>17.0</td>\n",
       "      <td>4</td>\n",
       "      <td>2007</td>\n",
       "    </tr>\n",
       "    <tr>\n",
       "      <th>2</th>\n",
       "      <td>FIN1000003</td>\n",
       "      <td>800001</td>\n",
       "      <td>M</td>\n",
       "      <td>M</td>\n",
       "      <td>Business</td>\n",
       "      <td>Class XII</td>\n",
       "      <td>Level 1</td>\n",
       "      <td>Level 1</td>\n",
       "      <td>2.0</td>\n",
       "      <td>Confirmation</td>\n",
       "      <td>M</td>\n",
       "      <td>0.0</td>\n",
       "      <td>0.0</td>\n",
       "      <td>357184.0</td>\n",
       "      <td>24.0</td>\n",
       "      <td>0</td>\n",
       "      <td>41.0</td>\n",
       "      <td>38.0</td>\n",
       "      <td>11.0</td>\n",
       "      <td>4</td>\n",
       "      <td>2007</td>\n",
       "    </tr>\n",
       "    <tr>\n",
       "      <th>3</th>\n",
       "      <td>FIN1000004</td>\n",
       "      <td>814112</td>\n",
       "      <td>M</td>\n",
       "      <td>S</td>\n",
       "      <td>Salaried</td>\n",
       "      <td>Class XII</td>\n",
       "      <td>Level 1</td>\n",
       "      <td>Level 3</td>\n",
       "      <td>4.0</td>\n",
       "      <td>Confirmation</td>\n",
       "      <td>F</td>\n",
       "      <td>0.0</td>\n",
       "      <td>0.0</td>\n",
       "      <td>318356.0</td>\n",
       "      <td>22.0</td>\n",
       "      <td>0</td>\n",
       "      <td>19.0</td>\n",
       "      <td>28.0</td>\n",
       "      <td>44.0</td>\n",
       "      <td>4</td>\n",
       "      <td>2007</td>\n",
       "    </tr>\n",
       "    <tr>\n",
       "      <th>4</th>\n",
       "      <td>FIN1000005</td>\n",
       "      <td>814112</td>\n",
       "      <td>M</td>\n",
       "      <td>M</td>\n",
       "      <td>Others</td>\n",
       "      <td>Class XII</td>\n",
       "      <td>Level 1</td>\n",
       "      <td>Level 1</td>\n",
       "      <td>2.0</td>\n",
       "      <td>Confirmation</td>\n",
       "      <td>M</td>\n",
       "      <td>2.0</td>\n",
       "      <td>1.0</td>\n",
       "      <td>230402.0</td>\n",
       "      <td>17.0</td>\n",
       "      <td>0</td>\n",
       "      <td>21.0</td>\n",
       "      <td>36.0</td>\n",
       "      <td>11.0</td>\n",
       "      <td>4</td>\n",
       "      <td>2007</td>\n",
       "    </tr>\n",
       "  </tbody>\n",
       "</table>\n",
       "</div>"
      ],
      "text/plain": [
       "           ID  Office_PIN Applicant_Gender Applicant_Marital_Status  \\\n",
       "0  FIN1000001      842001                M                        M   \n",
       "1  FIN1000002      842001                M                        S   \n",
       "2  FIN1000003      800001                M                        M   \n",
       "3  FIN1000004      814112                M                        S   \n",
       "4  FIN1000005      814112                M                        M   \n",
       "\n",
       "  Applicant_Occupation Applicant_Qualification Manager_Joining_Designation  \\\n",
       "0               Others                Graduate                     Level 1   \n",
       "1               Others               Class XII                     Level 1   \n",
       "2             Business               Class XII                     Level 1   \n",
       "3             Salaried               Class XII                     Level 1   \n",
       "4               Others               Class XII                     Level 1   \n",
       "\n",
       "  Manager_Current_Designation  Manager_Grade Manager_Status Manager_Gender  \\\n",
       "0                     Level 2            3.0   Confirmation              M   \n",
       "1                     Level 2            3.0   Confirmation              M   \n",
       "2                     Level 1            2.0   Confirmation              M   \n",
       "3                     Level 3            4.0   Confirmation              F   \n",
       "4                     Level 1            2.0   Confirmation              M   \n",
       "\n",
       "   Manager_Num_Application  Manager_Num_Coded  Manager_Business  \\\n",
       "0                      2.0                1.0          335249.0   \n",
       "1                      2.0                1.0          335249.0   \n",
       "2                      0.0                0.0          357184.0   \n",
       "3                      0.0                0.0          318356.0   \n",
       "4                      2.0                1.0          230402.0   \n",
       "\n",
       "   Manager_Num_Products  Business_Sourced  Applicant_Age  Manager_Age  \\\n",
       "0                  28.0                 0           35.0         29.0   \n",
       "1                  28.0                 1           24.0         29.0   \n",
       "2                  24.0                 0           41.0         38.0   \n",
       "3                  22.0                 0           19.0         28.0   \n",
       "4                  17.0                 0           21.0         36.0   \n",
       "\n",
       "   Manager_Tenure  Application_Receipt_Month  Application_Receipt_Year  \n",
       "0            17.0                          4                      2007  \n",
       "1            17.0                          4                      2007  \n",
       "2            11.0                          4                      2007  \n",
       "3            44.0                          4                      2007  \n",
       "4            11.0                          4                      2007  "
      ]
     },
     "metadata": {},
     "execution_count": 64
    }
   ],
   "metadata": {}
  },
  {
   "cell_type": "code",
   "execution_count": 65,
   "source": [
    "designation_map = {\r\n",
    "    \"Level 1\": 1,\r\n",
    "    \"Level 2\": 2,\r\n",
    "    \"Level 3\": 3,\r\n",
    "    \"Level 4\": 4,\r\n",
    "    \"Level 5\": 5,\r\n",
    "    \"Level 6\": 6,\r\n",
    "    \"Level 7\": 7,\r\n",
    "    \"Other\" : 0\r\n",
    "\r\n",
    "\r\n",
    "}"
   ],
   "outputs": [],
   "metadata": {}
  },
  {
   "cell_type": "code",
   "execution_count": 66,
   "source": [
    "data_encoded_clean.Manager_Joining_Designation = data_encoded_clean.Manager_Joining_Designation.map(designation_map)\r\n",
    "data_encoded_clean_test.Manager_Joining_Designation = data_encoded_clean_test.Manager_Joining_Designation.map(designation_map)"
   ],
   "outputs": [],
   "metadata": {}
  },
  {
   "cell_type": "code",
   "execution_count": 67,
   "source": [
    "data_encoded_clean.Manager_Current_Designation = data_encoded_clean.Manager_Current_Designation.map(designation_map)\r\n",
    "data_encoded_clean_test.Manager_Current_Designation = data_encoded_clean_test.Manager_Current_Designation.map(designation_map)"
   ],
   "outputs": [],
   "metadata": {}
  },
  {
   "cell_type": "code",
   "execution_count": null,
   "source": [],
   "outputs": [],
   "metadata": {}
  },
  {
   "cell_type": "code",
   "execution_count": 68,
   "source": [
    "data_encoded_clean.to_csv(\"updated_data.csv\", index=False)\r\n",
    "data_encoded_clean_test.to_csv(\"updated_data_test.csv\", index=False)"
   ],
   "outputs": [],
   "metadata": {}
  },
  {
   "cell_type": "markdown",
   "source": [
    "## Data Cleaning process is complete. Now, we can build models"
   ],
   "metadata": {}
  },
  {
   "cell_type": "code",
   "execution_count": 38,
   "source": [
    "data_cleaned = pd.read_csv(\"updated_data.csv\")\r\n",
    "data_test_cleaned = pd.read_csv(\"updated_data_test.csv\")\r\n"
   ],
   "outputs": [],
   "metadata": {}
  },
  {
   "cell_type": "code",
   "execution_count": 40,
   "source": [
    "# data_all_columns.Manager_Joining_Designation = np.sqrt(data_all_columns.Manager_Joining_Designation)\r\n",
    "# data_all_columns.Manager_Business = np.cbrt(data_all_columns.Manager_Business)\r\n",
    "\r\n",
    "# data_all_columns.Manager_Num_Application = np.sqrt(data_all_columns.Manager_Num_Application)\r\n",
    "# data_all_columns.Manager_Num_Coded = np.sqrt(data_all_columns.Manager_Num_Coded)\r\n",
    "# data_all_columns.Manager_Num_Products = np.cbrt(data_all_columns.Manager_Num_Products)\r\n",
    "# data_all_columns.Applicant_Age = np.sqrt(data_all_columns.Applicant_Age)\r\n",
    "# data_all_columns.Manager_Tenure = np.sqrt(data_all_columns.Manager_Tenure)"
   ],
   "outputs": [],
   "metadata": {}
  },
  {
   "cell_type": "code",
   "execution_count": 90,
   "source": [
    "data_missing_manager_test_pred = data_test_cleaned[data_test_cleaned.Manager_Current_Designation.isna()]\r\n",
    "data_all_columns_test_pred = data_test_cleaned[data_test_cleaned.Manager_Current_Designation.notna()]"
   ],
   "outputs": [],
   "metadata": {}
  },
  {
   "cell_type": "code",
   "execution_count": 91,
   "source": [
    "data_all_columns_test_pred[\"Business_Sourced\"] = Pred_PartPCA"
   ],
   "outputs": [
    {
     "output_type": "stream",
     "name": "stderr",
     "text": [
      "<ipython-input-91-fc4435c54039>:1: SettingWithCopyWarning: \n",
      "A value is trying to be set on a copy of a slice from a DataFrame.\n",
      "Try using .loc[row_indexer,col_indexer] = value instead\n",
      "\n",
      "See the caveats in the documentation: https://pandas.pydata.org/pandas-docs/stable/user_guide/indexing.html#returning-a-view-versus-a-copy\n",
      "  data_all_columns_test_pred[\"Business_Sourced\"] = Pred_PartPCA\n"
     ]
    }
   ],
   "metadata": {}
  },
  {
   "cell_type": "code",
   "execution_count": 92,
   "source": [
    "data_missing_manager_test_pred[\"Business_Sourced\"] = Pred_part2"
   ],
   "outputs": [
    {
     "output_type": "stream",
     "name": "stderr",
     "text": [
      "<ipython-input-92-7e444ec44401>:1: SettingWithCopyWarning: \n",
      "A value is trying to be set on a copy of a slice from a DataFrame.\n",
      "Try using .loc[row_indexer,col_indexer] = value instead\n",
      "\n",
      "See the caveats in the documentation: https://pandas.pydata.org/pandas-docs/stable/user_guide/indexing.html#returning-a-view-versus-a-copy\n",
      "  data_missing_manager_test_pred[\"Business_Sourced\"] = Pred_part2\n"
     ]
    }
   ],
   "metadata": {}
  },
  {
   "cell_type": "code",
   "execution_count": 93,
   "source": [
    "data_missing_manager_test_pred.head()"
   ],
   "outputs": [
    {
     "output_type": "execute_result",
     "data": {
      "text/html": [
       "<div>\n",
       "<style scoped>\n",
       "    .dataframe tbody tr th:only-of-type {\n",
       "        vertical-align: middle;\n",
       "    }\n",
       "\n",
       "    .dataframe tbody tr th {\n",
       "        vertical-align: top;\n",
       "    }\n",
       "\n",
       "    .dataframe thead th {\n",
       "        text-align: right;\n",
       "    }\n",
       "</style>\n",
       "<table border=\"1\" class=\"dataframe\">\n",
       "  <thead>\n",
       "    <tr style=\"text-align: right;\">\n",
       "      <th></th>\n",
       "      <th>ID</th>\n",
       "      <th>Office_PIN</th>\n",
       "      <th>Applicant_Gender</th>\n",
       "      <th>Applicant_Marital_Status</th>\n",
       "      <th>Applicant_Occupation</th>\n",
       "      <th>Applicant_Qualification</th>\n",
       "      <th>Manager_Joining_Designation</th>\n",
       "      <th>Manager_Current_Designation</th>\n",
       "      <th>Manager_Grade</th>\n",
       "      <th>Manager_Status</th>\n",
       "      <th>...</th>\n",
       "      <th>Manager_Num_Application</th>\n",
       "      <th>Manager_Num_Coded</th>\n",
       "      <th>Manager_Business</th>\n",
       "      <th>Manager_Num_Products</th>\n",
       "      <th>Applicant_Age</th>\n",
       "      <th>Manager_Age</th>\n",
       "      <th>Manager_Tenure</th>\n",
       "      <th>Application_Receipt_Month</th>\n",
       "      <th>Application_Receipt_Year</th>\n",
       "      <th>Business_Sourced</th>\n",
       "    </tr>\n",
       "  </thead>\n",
       "  <tbody>\n",
       "    <tr>\n",
       "      <th>2</th>\n",
       "      <td>FIN1009530</td>\n",
       "      <td>800001</td>\n",
       "      <td>M</td>\n",
       "      <td>S</td>\n",
       "      <td>Unknown</td>\n",
       "      <td>Graduate</td>\n",
       "      <td>NaN</td>\n",
       "      <td>NaN</td>\n",
       "      <td>NaN</td>\n",
       "      <td>NaN</td>\n",
       "      <td>...</td>\n",
       "      <td>NaN</td>\n",
       "      <td>NaN</td>\n",
       "      <td>NaN</td>\n",
       "      <td>NaN</td>\n",
       "      <td>23.0</td>\n",
       "      <td>NaN</td>\n",
       "      <td>NaN</td>\n",
       "      <td>7</td>\n",
       "      <td>2008</td>\n",
       "      <td>0</td>\n",
       "    </tr>\n",
       "    <tr>\n",
       "      <th>3</th>\n",
       "      <td>FIN1009531</td>\n",
       "      <td>800001</td>\n",
       "      <td>M</td>\n",
       "      <td>S</td>\n",
       "      <td>Salaried</td>\n",
       "      <td>Graduate</td>\n",
       "      <td>NaN</td>\n",
       "      <td>NaN</td>\n",
       "      <td>NaN</td>\n",
       "      <td>NaN</td>\n",
       "      <td>...</td>\n",
       "      <td>NaN</td>\n",
       "      <td>NaN</td>\n",
       "      <td>NaN</td>\n",
       "      <td>NaN</td>\n",
       "      <td>37.0</td>\n",
       "      <td>NaN</td>\n",
       "      <td>NaN</td>\n",
       "      <td>7</td>\n",
       "      <td>2008</td>\n",
       "      <td>0</td>\n",
       "    </tr>\n",
       "    <tr>\n",
       "      <th>11</th>\n",
       "      <td>FIN1009539</td>\n",
       "      <td>400075</td>\n",
       "      <td>F</td>\n",
       "      <td>S</td>\n",
       "      <td>Unknown</td>\n",
       "      <td>Graduate</td>\n",
       "      <td>NaN</td>\n",
       "      <td>NaN</td>\n",
       "      <td>NaN</td>\n",
       "      <td>NaN</td>\n",
       "      <td>...</td>\n",
       "      <td>NaN</td>\n",
       "      <td>NaN</td>\n",
       "      <td>NaN</td>\n",
       "      <td>NaN</td>\n",
       "      <td>32.0</td>\n",
       "      <td>NaN</td>\n",
       "      <td>NaN</td>\n",
       "      <td>7</td>\n",
       "      <td>2008</td>\n",
       "      <td>0</td>\n",
       "    </tr>\n",
       "    <tr>\n",
       "      <th>15</th>\n",
       "      <td>FIN1009543</td>\n",
       "      <td>431001</td>\n",
       "      <td>F</td>\n",
       "      <td>S</td>\n",
       "      <td>Salaried</td>\n",
       "      <td>Graduate</td>\n",
       "      <td>NaN</td>\n",
       "      <td>NaN</td>\n",
       "      <td>NaN</td>\n",
       "      <td>NaN</td>\n",
       "      <td>...</td>\n",
       "      <td>NaN</td>\n",
       "      <td>NaN</td>\n",
       "      <td>NaN</td>\n",
       "      <td>NaN</td>\n",
       "      <td>20.0</td>\n",
       "      <td>NaN</td>\n",
       "      <td>NaN</td>\n",
       "      <td>7</td>\n",
       "      <td>2008</td>\n",
       "      <td>1</td>\n",
       "    </tr>\n",
       "    <tr>\n",
       "      <th>17</th>\n",
       "      <td>FIN1009545</td>\n",
       "      <td>431001</td>\n",
       "      <td>M</td>\n",
       "      <td>M</td>\n",
       "      <td>Unknown</td>\n",
       "      <td>Graduate</td>\n",
       "      <td>NaN</td>\n",
       "      <td>NaN</td>\n",
       "      <td>NaN</td>\n",
       "      <td>NaN</td>\n",
       "      <td>...</td>\n",
       "      <td>NaN</td>\n",
       "      <td>NaN</td>\n",
       "      <td>NaN</td>\n",
       "      <td>NaN</td>\n",
       "      <td>36.0</td>\n",
       "      <td>NaN</td>\n",
       "      <td>NaN</td>\n",
       "      <td>7</td>\n",
       "      <td>2008</td>\n",
       "      <td>1</td>\n",
       "    </tr>\n",
       "  </tbody>\n",
       "</table>\n",
       "<p>5 rows × 21 columns</p>\n",
       "</div>"
      ],
      "text/plain": [
       "            ID  Office_PIN Applicant_Gender Applicant_Marital_Status  \\\n",
       "2   FIN1009530      800001                M                        S   \n",
       "3   FIN1009531      800001                M                        S   \n",
       "11  FIN1009539      400075                F                        S   \n",
       "15  FIN1009543      431001                F                        S   \n",
       "17  FIN1009545      431001                M                        M   \n",
       "\n",
       "   Applicant_Occupation Applicant_Qualification  Manager_Joining_Designation  \\\n",
       "2               Unknown                Graduate                          NaN   \n",
       "3              Salaried                Graduate                          NaN   \n",
       "11              Unknown                Graduate                          NaN   \n",
       "15             Salaried                Graduate                          NaN   \n",
       "17              Unknown                Graduate                          NaN   \n",
       "\n",
       "    Manager_Current_Designation  Manager_Grade Manager_Status  ...  \\\n",
       "2                           NaN            NaN            NaN  ...   \n",
       "3                           NaN            NaN            NaN  ...   \n",
       "11                          NaN            NaN            NaN  ...   \n",
       "15                          NaN            NaN            NaN  ...   \n",
       "17                          NaN            NaN            NaN  ...   \n",
       "\n",
       "   Manager_Num_Application  Manager_Num_Coded  Manager_Business  \\\n",
       "2                      NaN                NaN               NaN   \n",
       "3                      NaN                NaN               NaN   \n",
       "11                     NaN                NaN               NaN   \n",
       "15                     NaN                NaN               NaN   \n",
       "17                     NaN                NaN               NaN   \n",
       "\n",
       "    Manager_Num_Products  Applicant_Age  Manager_Age  Manager_Tenure  \\\n",
       "2                    NaN           23.0          NaN             NaN   \n",
       "3                    NaN           37.0          NaN             NaN   \n",
       "11                   NaN           32.0          NaN             NaN   \n",
       "15                   NaN           20.0          NaN             NaN   \n",
       "17                   NaN           36.0          NaN             NaN   \n",
       "\n",
       "    Application_Receipt_Month  Application_Receipt_Year  Business_Sourced  \n",
       "2                           7                      2008                 0  \n",
       "3                           7                      2008                 0  \n",
       "11                          7                      2008                 0  \n",
       "15                          7                      2008                 1  \n",
       "17                          7                      2008                 1  \n",
       "\n",
       "[5 rows x 21 columns]"
      ]
     },
     "metadata": {},
     "execution_count": 93
    }
   ],
   "metadata": {}
  },
  {
   "cell_type": "code",
   "execution_count": 112,
   "source": [
    "data_all_columns_test_pred.head()"
   ],
   "outputs": [
    {
     "output_type": "execute_result",
     "data": {
      "text/html": [
       "<div>\n",
       "<style scoped>\n",
       "    .dataframe tbody tr th:only-of-type {\n",
       "        vertical-align: middle;\n",
       "    }\n",
       "\n",
       "    .dataframe tbody tr th {\n",
       "        vertical-align: top;\n",
       "    }\n",
       "\n",
       "    .dataframe thead th {\n",
       "        text-align: right;\n",
       "    }\n",
       "</style>\n",
       "<table border=\"1\" class=\"dataframe\">\n",
       "  <thead>\n",
       "    <tr style=\"text-align: right;\">\n",
       "      <th></th>\n",
       "      <th>ID</th>\n",
       "      <th>Office_PIN</th>\n",
       "      <th>Applicant_Gender</th>\n",
       "      <th>Applicant_Marital_Status</th>\n",
       "      <th>Applicant_Occupation</th>\n",
       "      <th>Applicant_Qualification</th>\n",
       "      <th>Manager_Joining_Designation</th>\n",
       "      <th>Manager_Current_Designation</th>\n",
       "      <th>Manager_Grade</th>\n",
       "      <th>Manager_Status</th>\n",
       "      <th>Manager_Gender</th>\n",
       "      <th>Manager_Num_Application</th>\n",
       "      <th>Manager_Num_Coded</th>\n",
       "      <th>Manager_Business</th>\n",
       "      <th>Manager_Num_Products</th>\n",
       "      <th>Applicant_Age</th>\n",
       "      <th>Manager_Age</th>\n",
       "      <th>Manager_Tenure</th>\n",
       "      <th>Application_Receipt_Month</th>\n",
       "      <th>Application_Receipt_Year</th>\n",
       "      <th>Predictions</th>\n",
       "    </tr>\n",
       "  </thead>\n",
       "  <tbody>\n",
       "    <tr>\n",
       "      <th>0</th>\n",
       "      <td>FIN1009528</td>\n",
       "      <td>284001</td>\n",
       "      <td>M</td>\n",
       "      <td>S</td>\n",
       "      <td>Salaried</td>\n",
       "      <td>Graduate</td>\n",
       "      <td>1.0</td>\n",
       "      <td>1.0</td>\n",
       "      <td>2.0</td>\n",
       "      <td>Probation</td>\n",
       "      <td>F</td>\n",
       "      <td>1.0</td>\n",
       "      <td>0.0</td>\n",
       "      <td>0.0</td>\n",
       "      <td>0.0</td>\n",
       "      <td>25.0</td>\n",
       "      <td>29.0</td>\n",
       "      <td>2.0</td>\n",
       "      <td>7</td>\n",
       "      <td>2008</td>\n",
       "      <td>0</td>\n",
       "    </tr>\n",
       "    <tr>\n",
       "      <th>1</th>\n",
       "      <td>FIN1009529</td>\n",
       "      <td>800001</td>\n",
       "      <td>M</td>\n",
       "      <td>M</td>\n",
       "      <td>Salaried</td>\n",
       "      <td>Graduate</td>\n",
       "      <td>1.0</td>\n",
       "      <td>1.0</td>\n",
       "      <td>2.0</td>\n",
       "      <td>Probation</td>\n",
       "      <td>M</td>\n",
       "      <td>2.0</td>\n",
       "      <td>0.0</td>\n",
       "      <td>0.0</td>\n",
       "      <td>0.0</td>\n",
       "      <td>40.0</td>\n",
       "      <td>37.0</td>\n",
       "      <td>1.0</td>\n",
       "      <td>7</td>\n",
       "      <td>2008</td>\n",
       "      <td>1</td>\n",
       "    </tr>\n",
       "    <tr>\n",
       "      <th>4</th>\n",
       "      <td>FIN1009532</td>\n",
       "      <td>533101</td>\n",
       "      <td>M</td>\n",
       "      <td>S</td>\n",
       "      <td>Unknown</td>\n",
       "      <td>PostGrad</td>\n",
       "      <td>2.0</td>\n",
       "      <td>2.0</td>\n",
       "      <td>3.0</td>\n",
       "      <td>Confirmation</td>\n",
       "      <td>M</td>\n",
       "      <td>4.0</td>\n",
       "      <td>1.0</td>\n",
       "      <td>97352.0</td>\n",
       "      <td>3.0</td>\n",
       "      <td>30.0</td>\n",
       "      <td>31.0</td>\n",
       "      <td>7.0</td>\n",
       "      <td>7</td>\n",
       "      <td>2008</td>\n",
       "      <td>0</td>\n",
       "    </tr>\n",
       "    <tr>\n",
       "      <th>5</th>\n",
       "      <td>FIN1009533</td>\n",
       "      <td>533101</td>\n",
       "      <td>M</td>\n",
       "      <td>S</td>\n",
       "      <td>Unknown</td>\n",
       "      <td>Class XII</td>\n",
       "      <td>2.0</td>\n",
       "      <td>2.0</td>\n",
       "      <td>3.0</td>\n",
       "      <td>Probation</td>\n",
       "      <td>M</td>\n",
       "      <td>5.0</td>\n",
       "      <td>2.0</td>\n",
       "      <td>150721.0</td>\n",
       "      <td>4.0</td>\n",
       "      <td>25.0</td>\n",
       "      <td>30.0</td>\n",
       "      <td>5.0</td>\n",
       "      <td>7</td>\n",
       "      <td>2008</td>\n",
       "      <td>0</td>\n",
       "    </tr>\n",
       "    <tr>\n",
       "      <th>6</th>\n",
       "      <td>FIN1009534</td>\n",
       "      <td>533101</td>\n",
       "      <td>M</td>\n",
       "      <td>M</td>\n",
       "      <td>Unknown</td>\n",
       "      <td>Graduate</td>\n",
       "      <td>2.0</td>\n",
       "      <td>2.0</td>\n",
       "      <td>3.0</td>\n",
       "      <td>Confirmation</td>\n",
       "      <td>M</td>\n",
       "      <td>6.0</td>\n",
       "      <td>0.0</td>\n",
       "      <td>80245.0</td>\n",
       "      <td>3.0</td>\n",
       "      <td>43.0</td>\n",
       "      <td>30.0</td>\n",
       "      <td>9.0</td>\n",
       "      <td>7</td>\n",
       "      <td>2008</td>\n",
       "      <td>0</td>\n",
       "    </tr>\n",
       "  </tbody>\n",
       "</table>\n",
       "</div>"
      ],
      "text/plain": [
       "           ID  Office_PIN Applicant_Gender Applicant_Marital_Status  \\\n",
       "0  FIN1009528      284001                M                        S   \n",
       "1  FIN1009529      800001                M                        M   \n",
       "4  FIN1009532      533101                M                        S   \n",
       "5  FIN1009533      533101                M                        S   \n",
       "6  FIN1009534      533101                M                        M   \n",
       "\n",
       "  Applicant_Occupation Applicant_Qualification  Manager_Joining_Designation  \\\n",
       "0             Salaried                Graduate                          1.0   \n",
       "1             Salaried                Graduate                          1.0   \n",
       "4              Unknown                PostGrad                          2.0   \n",
       "5              Unknown               Class XII                          2.0   \n",
       "6              Unknown                Graduate                          2.0   \n",
       "\n",
       "   Manager_Current_Designation  Manager_Grade Manager_Status Manager_Gender  \\\n",
       "0                          1.0            2.0      Probation              F   \n",
       "1                          1.0            2.0      Probation              M   \n",
       "4                          2.0            3.0   Confirmation              M   \n",
       "5                          2.0            3.0      Probation              M   \n",
       "6                          2.0            3.0   Confirmation              M   \n",
       "\n",
       "   Manager_Num_Application  Manager_Num_Coded  Manager_Business  \\\n",
       "0                      1.0                0.0               0.0   \n",
       "1                      2.0                0.0               0.0   \n",
       "4                      4.0                1.0           97352.0   \n",
       "5                      5.0                2.0          150721.0   \n",
       "6                      6.0                0.0           80245.0   \n",
       "\n",
       "   Manager_Num_Products  Applicant_Age  Manager_Age  Manager_Tenure  \\\n",
       "0                   0.0           25.0         29.0             2.0   \n",
       "1                   0.0           40.0         37.0             1.0   \n",
       "4                   3.0           30.0         31.0             7.0   \n",
       "5                   4.0           25.0         30.0             5.0   \n",
       "6                   3.0           43.0         30.0             9.0   \n",
       "\n",
       "   Application_Receipt_Month  Application_Receipt_Year  Predictions  \n",
       "0                          7                      2008            0  \n",
       "1                          7                      2008            1  \n",
       "4                          7                      2008            0  \n",
       "5                          7                      2008            0  \n",
       "6                          7                      2008            0  "
      ]
     },
     "metadata": {},
     "execution_count": 112
    }
   ],
   "metadata": {}
  },
  {
   "cell_type": "code",
   "execution_count": 41,
   "source": [
    "data_missing_manager = data_cleaned[data_cleaned.Manager_Current_Designation.isna()]"
   ],
   "outputs": [],
   "metadata": {}
  },
  {
   "cell_type": "code",
   "execution_count": 42,
   "source": [
    "data_all_columns = data_cleaned[data_cleaned.Manager_Current_Designation.notna()]"
   ],
   "outputs": [],
   "metadata": {}
  },
  {
   "cell_type": "code",
   "execution_count": 43,
   "source": [
    "data_missing_manager_test = data_test_cleaned[data_test_cleaned.Manager_Current_Designation.isna()]"
   ],
   "outputs": [],
   "metadata": {}
  },
  {
   "cell_type": "code",
   "execution_count": 44,
   "source": [
    "data_all_columns_test = data_test_cleaned[data_test_cleaned.Manager_Current_Designation.notna()]"
   ],
   "outputs": [],
   "metadata": {}
  },
  {
   "cell_type": "code",
   "execution_count": 45,
   "source": [
    "data_all_columns.shape[0] + data_missing_manager.shape[0], data_cleaned.shape"
   ],
   "outputs": [
    {
     "output_type": "execute_result",
     "data": {
      "text/plain": [
       "(9527, (9527, 21))"
      ]
     },
     "metadata": {},
     "execution_count": 45
    }
   ],
   "metadata": {}
  },
  {
   "cell_type": "code",
   "execution_count": 46,
   "source": [
    "from sklearn.preprocessing import StandardScaler\r\n",
    "from sklearn.model_selection import train_test_split\r\n",
    "from sklearn.ensemble import RandomForestClassifier\r\n",
    "from sklearn.metrics import accuracy_score\r\n",
    "from sklearn.decomposition import PCA"
   ],
   "outputs": [],
   "metadata": {}
  },
  {
   "cell_type": "code",
   "execution_count": 47,
   "source": [
    "data_all_columns_test.drop(\"ID\", axis=1, inplace=True)"
   ],
   "outputs": [
    {
     "output_type": "stream",
     "name": "stderr",
     "text": [
      "c:\\Users\\Neelam\\Desktop\\Desktop\\Python\\Video\\env\\lib\\site-packages\\pandas\\core\\frame.py:4305: SettingWithCopyWarning: \n",
      "A value is trying to be set on a copy of a slice from a DataFrame\n",
      "\n",
      "See the caveats in the documentation: https://pandas.pydata.org/pandas-docs/stable/user_guide/indexing.html#returning-a-view-versus-a-copy\n",
      "  return super().drop(\n"
     ]
    }
   ],
   "metadata": {}
  },
  {
   "cell_type": "code",
   "execution_count": 48,
   "source": [
    "data_all_columns.drop(\"ID\", axis=1, inplace=True)"
   ],
   "outputs": [],
   "metadata": {}
  },
  {
   "cell_type": "code",
   "execution_count": 49,
   "source": [
    "data_all_columns = pd.get_dummies(data_all_columns)"
   ],
   "outputs": [],
   "metadata": {}
  },
  {
   "cell_type": "code",
   "execution_count": 50,
   "source": [
    "data_all_columns_test = pd.get_dummies(data_all_columns_test)"
   ],
   "outputs": [],
   "metadata": {}
  },
  {
   "cell_type": "code",
   "execution_count": 51,
   "source": [
    "data_all_columns.shape, data_all_columns_test.shape"
   ],
   "outputs": [
    {
     "output_type": "execute_result",
     "data": {
      "text/plain": [
       "((8844, 34), (4221, 33))"
      ]
     },
     "metadata": {},
     "execution_count": 51
    }
   ],
   "metadata": {}
  },
  {
   "cell_type": "markdown",
   "source": [
    "## Classification without PCA"
   ],
   "metadata": {}
  },
  {
   "cell_type": "code",
   "execution_count": 52,
   "source": [
    "from sklearn.utils import resample\r\n",
    "\r\n",
    "# separate minority and majority classes\r\n",
    "not_accept = data_all_columns[data_all_columns.Business_Sourced==1]\r\n",
    "accept = data_all_columns[data_all_columns.Business_Sourced==0]\r\n",
    "\r\n",
    "# upsample minority\r\n",
    "not_accept_upsampled = resample(not_accept,\r\n",
    "                          replace=True, # sample with replacement\r\n",
    "                          n_samples=len(accept), # match number in majority class\r\n",
    "                          random_state=27) # reproducible results\r\n",
    "\r\n",
    "# combine majority and upsampled minority\r\n",
    "data_all_columns = pd.concat([not_accept_upsampled, accept])"
   ],
   "outputs": [],
   "metadata": {}
  },
  {
   "cell_type": "code",
   "execution_count": 53,
   "source": [
    "X = data_all_columns.drop('Business_Sourced', axis=1)\r\n",
    "y = data_all_columns['Business_Sourced']"
   ],
   "outputs": [],
   "metadata": {}
  },
  {
   "cell_type": "code",
   "execution_count": 23,
   "source": [
    "X.head()"
   ],
   "outputs": [
    {
     "output_type": "execute_result",
     "data": {
      "text/html": [
       "<div>\n",
       "<style scoped>\n",
       "    .dataframe tbody tr th:only-of-type {\n",
       "        vertical-align: middle;\n",
       "    }\n",
       "\n",
       "    .dataframe tbody tr th {\n",
       "        vertical-align: top;\n",
       "    }\n",
       "\n",
       "    .dataframe thead th {\n",
       "        text-align: right;\n",
       "    }\n",
       "</style>\n",
       "<table border=\"1\" class=\"dataframe\">\n",
       "  <thead>\n",
       "    <tr style=\"text-align: right;\">\n",
       "      <th></th>\n",
       "      <th>Office_PIN</th>\n",
       "      <th>Manager_Joining_Designation</th>\n",
       "      <th>Manager_Current_Designation</th>\n",
       "      <th>Manager_Grade</th>\n",
       "      <th>Manager_Num_Application</th>\n",
       "      <th>Manager_Num_Coded</th>\n",
       "      <th>Manager_Business</th>\n",
       "      <th>Manager_Num_Products</th>\n",
       "      <th>Applicant_Age</th>\n",
       "      <th>Manager_Age</th>\n",
       "      <th>...</th>\n",
       "      <th>Applicant_Occupation_Unknown</th>\n",
       "      <th>Applicant_Qualification_Class X</th>\n",
       "      <th>Applicant_Qualification_Class XII</th>\n",
       "      <th>Applicant_Qualification_Graduate</th>\n",
       "      <th>Applicant_Qualification_Others</th>\n",
       "      <th>Applicant_Qualification_PostGrad</th>\n",
       "      <th>Manager_Status_Confirmation</th>\n",
       "      <th>Manager_Status_Probation</th>\n",
       "      <th>Manager_Gender_F</th>\n",
       "      <th>Manager_Gender_M</th>\n",
       "    </tr>\n",
       "  </thead>\n",
       "  <tbody>\n",
       "    <tr>\n",
       "      <th>3348</th>\n",
       "      <td>323001</td>\n",
       "      <td>1.0</td>\n",
       "      <td>1.0</td>\n",
       "      <td>2.0</td>\n",
       "      <td>7.0</td>\n",
       "      <td>0.0</td>\n",
       "      <td>10207.0</td>\n",
       "      <td>1.0</td>\n",
       "      <td>34.0</td>\n",
       "      <td>29.0</td>\n",
       "      <td>...</td>\n",
       "      <td>0</td>\n",
       "      <td>0</td>\n",
       "      <td>0</td>\n",
       "      <td>1</td>\n",
       "      <td>0</td>\n",
       "      <td>0</td>\n",
       "      <td>0</td>\n",
       "      <td>1</td>\n",
       "      <td>0</td>\n",
       "      <td>1</td>\n",
       "    </tr>\n",
       "    <tr>\n",
       "      <th>5907</th>\n",
       "      <td>841428</td>\n",
       "      <td>1.0</td>\n",
       "      <td>1.0</td>\n",
       "      <td>2.0</td>\n",
       "      <td>2.0</td>\n",
       "      <td>0.0</td>\n",
       "      <td>0.0</td>\n",
       "      <td>0.0</td>\n",
       "      <td>22.0</td>\n",
       "      <td>25.0</td>\n",
       "      <td>...</td>\n",
       "      <td>0</td>\n",
       "      <td>0</td>\n",
       "      <td>0</td>\n",
       "      <td>1</td>\n",
       "      <td>0</td>\n",
       "      <td>0</td>\n",
       "      <td>0</td>\n",
       "      <td>1</td>\n",
       "      <td>0</td>\n",
       "      <td>1</td>\n",
       "    </tr>\n",
       "    <tr>\n",
       "      <th>9409</th>\n",
       "      <td>474008</td>\n",
       "      <td>3.0</td>\n",
       "      <td>3.0</td>\n",
       "      <td>4.0</td>\n",
       "      <td>0.0</td>\n",
       "      <td>0.0</td>\n",
       "      <td>0.0</td>\n",
       "      <td>0.0</td>\n",
       "      <td>24.0</td>\n",
       "      <td>31.0</td>\n",
       "      <td>...</td>\n",
       "      <td>0</td>\n",
       "      <td>0</td>\n",
       "      <td>0</td>\n",
       "      <td>1</td>\n",
       "      <td>0</td>\n",
       "      <td>0</td>\n",
       "      <td>0</td>\n",
       "      <td>1</td>\n",
       "      <td>1</td>\n",
       "      <td>0</td>\n",
       "    </tr>\n",
       "    <tr>\n",
       "      <th>9473</th>\n",
       "      <td>201301</td>\n",
       "      <td>3.0</td>\n",
       "      <td>3.0</td>\n",
       "      <td>4.0</td>\n",
       "      <td>1.0</td>\n",
       "      <td>0.0</td>\n",
       "      <td>0.0</td>\n",
       "      <td>0.0</td>\n",
       "      <td>27.0</td>\n",
       "      <td>35.0</td>\n",
       "      <td>...</td>\n",
       "      <td>0</td>\n",
       "      <td>0</td>\n",
       "      <td>0</td>\n",
       "      <td>1</td>\n",
       "      <td>0</td>\n",
       "      <td>0</td>\n",
       "      <td>0</td>\n",
       "      <td>1</td>\n",
       "      <td>0</td>\n",
       "      <td>1</td>\n",
       "    </tr>\n",
       "    <tr>\n",
       "      <th>5161</th>\n",
       "      <td>476001</td>\n",
       "      <td>1.0</td>\n",
       "      <td>4.0</td>\n",
       "      <td>6.0</td>\n",
       "      <td>1.0</td>\n",
       "      <td>0.0</td>\n",
       "      <td>77956.0</td>\n",
       "      <td>5.0</td>\n",
       "      <td>20.0</td>\n",
       "      <td>43.0</td>\n",
       "      <td>...</td>\n",
       "      <td>0</td>\n",
       "      <td>0</td>\n",
       "      <td>1</td>\n",
       "      <td>0</td>\n",
       "      <td>0</td>\n",
       "      <td>0</td>\n",
       "      <td>1</td>\n",
       "      <td>0</td>\n",
       "      <td>0</td>\n",
       "      <td>1</td>\n",
       "    </tr>\n",
       "  </tbody>\n",
       "</table>\n",
       "<p>5 rows × 33 columns</p>\n",
       "</div>"
      ],
      "text/plain": [
       "      Office_PIN  Manager_Joining_Designation  Manager_Current_Designation  \\\n",
       "3348      323001                          1.0                          1.0   \n",
       "5907      841428                          1.0                          1.0   \n",
       "9409      474008                          3.0                          3.0   \n",
       "9473      201301                          3.0                          3.0   \n",
       "5161      476001                          1.0                          4.0   \n",
       "\n",
       "      Manager_Grade  Manager_Num_Application  Manager_Num_Coded  \\\n",
       "3348            2.0                      7.0                0.0   \n",
       "5907            2.0                      2.0                0.0   \n",
       "9409            4.0                      0.0                0.0   \n",
       "9473            4.0                      1.0                0.0   \n",
       "5161            6.0                      1.0                0.0   \n",
       "\n",
       "      Manager_Business  Manager_Num_Products  Applicant_Age  Manager_Age  ...  \\\n",
       "3348           10207.0                   1.0           34.0         29.0  ...   \n",
       "5907               0.0                   0.0           22.0         25.0  ...   \n",
       "9409               0.0                   0.0           24.0         31.0  ...   \n",
       "9473               0.0                   0.0           27.0         35.0  ...   \n",
       "5161           77956.0                   5.0           20.0         43.0  ...   \n",
       "\n",
       "      Applicant_Occupation_Unknown  Applicant_Qualification_Class X  \\\n",
       "3348                             0                                0   \n",
       "5907                             0                                0   \n",
       "9409                             0                                0   \n",
       "9473                             0                                0   \n",
       "5161                             0                                0   \n",
       "\n",
       "      Applicant_Qualification_Class XII  Applicant_Qualification_Graduate  \\\n",
       "3348                                  0                                 1   \n",
       "5907                                  0                                 1   \n",
       "9409                                  0                                 1   \n",
       "9473                                  0                                 1   \n",
       "5161                                  1                                 0   \n",
       "\n",
       "      Applicant_Qualification_Others  Applicant_Qualification_PostGrad  \\\n",
       "3348                               0                                 0   \n",
       "5907                               0                                 0   \n",
       "9409                               0                                 0   \n",
       "9473                               0                                 0   \n",
       "5161                               0                                 0   \n",
       "\n",
       "      Manager_Status_Confirmation  Manager_Status_Probation  Manager_Gender_F  \\\n",
       "3348                            0                         1                 0   \n",
       "5907                            0                         1                 0   \n",
       "9409                            0                         1                 1   \n",
       "9473                            0                         1                 0   \n",
       "5161                            1                         0                 0   \n",
       "\n",
       "      Manager_Gender_M  \n",
       "3348                 1  \n",
       "5907                 1  \n",
       "9409                 0  \n",
       "9473                 1  \n",
       "5161                 1  \n",
       "\n",
       "[5 rows x 33 columns]"
      ]
     },
     "metadata": {},
     "execution_count": 23
    }
   ],
   "metadata": {}
  },
  {
   "cell_type": "code",
   "execution_count": 54,
   "source": [
    "# Standardise the data\r\n",
    "#scaler = StandardScaler()\r\n",
    "#X = scaler.fit_transform(X)"
   ],
   "outputs": [],
   "metadata": {}
  },
  {
   "cell_type": "code",
   "execution_count": 55,
   "source": [
    "X_train,X_test, y_train, y_test = train_test_split(X, y, random_state=22, stratify=y)"
   ],
   "outputs": [],
   "metadata": {}
  },
  {
   "cell_type": "code",
   "execution_count": 56,
   "source": [
    "rf_model = RandomForestClassifier(random_state=167, max_depth=10, n_estimators=100)"
   ],
   "outputs": [],
   "metadata": {}
  },
  {
   "cell_type": "code",
   "execution_count": 57,
   "source": [
    "rf_model.fit(X_train, y_train)"
   ],
   "outputs": [
    {
     "output_type": "execute_result",
     "data": {
      "text/plain": [
       "RandomForestClassifier(max_depth=10, random_state=167)"
      ]
     },
     "metadata": {},
     "execution_count": 57
    }
   ],
   "metadata": {}
  },
  {
   "cell_type": "code",
   "execution_count": 58,
   "source": [
    "pred_train = rf_model.predict(X_train)\r\n",
    "pred_test = rf_model.predict(X_test)"
   ],
   "outputs": [],
   "metadata": {}
  },
  {
   "cell_type": "code",
   "execution_count": 63,
   "source": [
    "Pred_part1 = rf_model.predict(data_all_columns_test)"
   ],
   "outputs": [],
   "metadata": {}
  },
  {
   "cell_type": "code",
   "execution_count": 59,
   "source": [
    "from sklearn.metrics import roc_auc_score"
   ],
   "outputs": [],
   "metadata": {}
  },
  {
   "cell_type": "code",
   "execution_count": 60,
   "source": [
    "pred_test[1].shape, y_test.shape"
   ],
   "outputs": [
    {
     "output_type": "execute_result",
     "data": {
      "text/plain": [
       "((), (2907,))"
      ]
     },
     "metadata": {},
     "execution_count": 60
    }
   ],
   "metadata": {}
  },
  {
   "cell_type": "code",
   "execution_count": 61,
   "source": [
    "roc_auc_score(pred_train, y_train), roc_auc_score(pred_test, y_test)"
   ],
   "outputs": [
    {
     "output_type": "execute_result",
     "data": {
      "text/plain": [
       "(0.8324196490734896, 0.7210360585958099)"
      ]
     },
     "metadata": {},
     "execution_count": 61
    }
   ],
   "metadata": {}
  },
  {
   "cell_type": "code",
   "execution_count": 66,
   "source": [
    "data_all_columns_test_pred[\"Prediction\"] = Pred_part1"
   ],
   "outputs": [
    {
     "output_type": "stream",
     "name": "stderr",
     "text": [
      "<ipython-input-66-4c7ef4d4ad48>:1: SettingWithCopyWarning: \n",
      "A value is trying to be set on a copy of a slice from a DataFrame.\n",
      "Try using .loc[row_indexer,col_indexer] = value instead\n",
      "\n",
      "See the caveats in the documentation: https://pandas.pydata.org/pandas-docs/stable/user_guide/indexing.html#returning-a-view-versus-a-copy\n",
      "  data_all_columns_test_pred[\"Prediction\"] = Pred_part1\n"
     ]
    }
   ],
   "metadata": {}
  },
  {
   "cell_type": "code",
   "execution_count": 69,
   "source": [
    "data_all_columns_test_pred"
   ],
   "outputs": [
    {
     "output_type": "execute_result",
     "data": {
      "text/plain": [
       "(4221, 21)"
      ]
     },
     "metadata": {},
     "execution_count": 69
    }
   ],
   "metadata": {}
  },
  {
   "cell_type": "markdown",
   "source": [
    "# Model for data with missing manager"
   ],
   "metadata": {}
  },
  {
   "cell_type": "code",
   "execution_count": 71,
   "source": [
    "data_missing_manager_1 = data_cleaned.copy()\r\n",
    "data_missing_manager_test_1 = data_missing_manager_test.copy()"
   ],
   "outputs": [],
   "metadata": {}
  },
  {
   "cell_type": "code",
   "execution_count": 72,
   "source": [
    "data_missing_manager_1.head()"
   ],
   "outputs": [
    {
     "output_type": "execute_result",
     "data": {
      "text/html": [
       "<div>\n",
       "<style scoped>\n",
       "    .dataframe tbody tr th:only-of-type {\n",
       "        vertical-align: middle;\n",
       "    }\n",
       "\n",
       "    .dataframe tbody tr th {\n",
       "        vertical-align: top;\n",
       "    }\n",
       "\n",
       "    .dataframe thead th {\n",
       "        text-align: right;\n",
       "    }\n",
       "</style>\n",
       "<table border=\"1\" class=\"dataframe\">\n",
       "  <thead>\n",
       "    <tr style=\"text-align: right;\">\n",
       "      <th></th>\n",
       "      <th>ID</th>\n",
       "      <th>Office_PIN</th>\n",
       "      <th>Applicant_Gender</th>\n",
       "      <th>Applicant_Marital_Status</th>\n",
       "      <th>Applicant_Occupation</th>\n",
       "      <th>Applicant_Qualification</th>\n",
       "      <th>Manager_Joining_Designation</th>\n",
       "      <th>Manager_Current_Designation</th>\n",
       "      <th>Manager_Grade</th>\n",
       "      <th>Manager_Status</th>\n",
       "      <th>...</th>\n",
       "      <th>Manager_Num_Application</th>\n",
       "      <th>Manager_Num_Coded</th>\n",
       "      <th>Manager_Business</th>\n",
       "      <th>Manager_Num_Products</th>\n",
       "      <th>Business_Sourced</th>\n",
       "      <th>Applicant_Age</th>\n",
       "      <th>Manager_Age</th>\n",
       "      <th>Manager_Tenure</th>\n",
       "      <th>Application_Receipt_Month</th>\n",
       "      <th>Application_Receipt_Year</th>\n",
       "    </tr>\n",
       "  </thead>\n",
       "  <tbody>\n",
       "    <tr>\n",
       "      <th>0</th>\n",
       "      <td>FIN1000001</td>\n",
       "      <td>842001</td>\n",
       "      <td>M</td>\n",
       "      <td>M</td>\n",
       "      <td>Others</td>\n",
       "      <td>Graduate</td>\n",
       "      <td>1.0</td>\n",
       "      <td>2.0</td>\n",
       "      <td>3.0</td>\n",
       "      <td>Confirmation</td>\n",
       "      <td>...</td>\n",
       "      <td>2.0</td>\n",
       "      <td>1.0</td>\n",
       "      <td>335249.0</td>\n",
       "      <td>28.0</td>\n",
       "      <td>0</td>\n",
       "      <td>35.0</td>\n",
       "      <td>29.0</td>\n",
       "      <td>17.0</td>\n",
       "      <td>4</td>\n",
       "      <td>2007</td>\n",
       "    </tr>\n",
       "    <tr>\n",
       "      <th>1</th>\n",
       "      <td>FIN1000002</td>\n",
       "      <td>842001</td>\n",
       "      <td>M</td>\n",
       "      <td>S</td>\n",
       "      <td>Others</td>\n",
       "      <td>Class XII</td>\n",
       "      <td>1.0</td>\n",
       "      <td>2.0</td>\n",
       "      <td>3.0</td>\n",
       "      <td>Confirmation</td>\n",
       "      <td>...</td>\n",
       "      <td>2.0</td>\n",
       "      <td>1.0</td>\n",
       "      <td>335249.0</td>\n",
       "      <td>28.0</td>\n",
       "      <td>1</td>\n",
       "      <td>24.0</td>\n",
       "      <td>29.0</td>\n",
       "      <td>17.0</td>\n",
       "      <td>4</td>\n",
       "      <td>2007</td>\n",
       "    </tr>\n",
       "    <tr>\n",
       "      <th>2</th>\n",
       "      <td>FIN1000003</td>\n",
       "      <td>800001</td>\n",
       "      <td>M</td>\n",
       "      <td>M</td>\n",
       "      <td>Business</td>\n",
       "      <td>Class XII</td>\n",
       "      <td>1.0</td>\n",
       "      <td>1.0</td>\n",
       "      <td>2.0</td>\n",
       "      <td>Confirmation</td>\n",
       "      <td>...</td>\n",
       "      <td>0.0</td>\n",
       "      <td>0.0</td>\n",
       "      <td>357184.0</td>\n",
       "      <td>24.0</td>\n",
       "      <td>0</td>\n",
       "      <td>41.0</td>\n",
       "      <td>38.0</td>\n",
       "      <td>11.0</td>\n",
       "      <td>4</td>\n",
       "      <td>2007</td>\n",
       "    </tr>\n",
       "    <tr>\n",
       "      <th>3</th>\n",
       "      <td>FIN1000004</td>\n",
       "      <td>814112</td>\n",
       "      <td>M</td>\n",
       "      <td>S</td>\n",
       "      <td>Salaried</td>\n",
       "      <td>Class XII</td>\n",
       "      <td>1.0</td>\n",
       "      <td>3.0</td>\n",
       "      <td>4.0</td>\n",
       "      <td>Confirmation</td>\n",
       "      <td>...</td>\n",
       "      <td>0.0</td>\n",
       "      <td>0.0</td>\n",
       "      <td>318356.0</td>\n",
       "      <td>22.0</td>\n",
       "      <td>0</td>\n",
       "      <td>19.0</td>\n",
       "      <td>28.0</td>\n",
       "      <td>44.0</td>\n",
       "      <td>4</td>\n",
       "      <td>2007</td>\n",
       "    </tr>\n",
       "    <tr>\n",
       "      <th>4</th>\n",
       "      <td>FIN1000005</td>\n",
       "      <td>814112</td>\n",
       "      <td>M</td>\n",
       "      <td>M</td>\n",
       "      <td>Others</td>\n",
       "      <td>Class XII</td>\n",
       "      <td>1.0</td>\n",
       "      <td>1.0</td>\n",
       "      <td>2.0</td>\n",
       "      <td>Confirmation</td>\n",
       "      <td>...</td>\n",
       "      <td>2.0</td>\n",
       "      <td>1.0</td>\n",
       "      <td>230402.0</td>\n",
       "      <td>17.0</td>\n",
       "      <td>0</td>\n",
       "      <td>21.0</td>\n",
       "      <td>36.0</td>\n",
       "      <td>11.0</td>\n",
       "      <td>4</td>\n",
       "      <td>2007</td>\n",
       "    </tr>\n",
       "  </tbody>\n",
       "</table>\n",
       "<p>5 rows × 21 columns</p>\n",
       "</div>"
      ],
      "text/plain": [
       "           ID  Office_PIN Applicant_Gender Applicant_Marital_Status  \\\n",
       "0  FIN1000001      842001                M                        M   \n",
       "1  FIN1000002      842001                M                        S   \n",
       "2  FIN1000003      800001                M                        M   \n",
       "3  FIN1000004      814112                M                        S   \n",
       "4  FIN1000005      814112                M                        M   \n",
       "\n",
       "  Applicant_Occupation Applicant_Qualification  Manager_Joining_Designation  \\\n",
       "0               Others                Graduate                          1.0   \n",
       "1               Others               Class XII                          1.0   \n",
       "2             Business               Class XII                          1.0   \n",
       "3             Salaried               Class XII                          1.0   \n",
       "4               Others               Class XII                          1.0   \n",
       "\n",
       "   Manager_Current_Designation  Manager_Grade Manager_Status  ...  \\\n",
       "0                          2.0            3.0   Confirmation  ...   \n",
       "1                          2.0            3.0   Confirmation  ...   \n",
       "2                          1.0            2.0   Confirmation  ...   \n",
       "3                          3.0            4.0   Confirmation  ...   \n",
       "4                          1.0            2.0   Confirmation  ...   \n",
       "\n",
       "  Manager_Num_Application  Manager_Num_Coded  Manager_Business  \\\n",
       "0                     2.0                1.0          335249.0   \n",
       "1                     2.0                1.0          335249.0   \n",
       "2                     0.0                0.0          357184.0   \n",
       "3                     0.0                0.0          318356.0   \n",
       "4                     2.0                1.0          230402.0   \n",
       "\n",
       "   Manager_Num_Products  Business_Sourced  Applicant_Age  Manager_Age  \\\n",
       "0                  28.0                 0           35.0         29.0   \n",
       "1                  28.0                 1           24.0         29.0   \n",
       "2                  24.0                 0           41.0         38.0   \n",
       "3                  22.0                 0           19.0         28.0   \n",
       "4                  17.0                 0           21.0         36.0   \n",
       "\n",
       "   Manager_Tenure  Application_Receipt_Month  Application_Receipt_Year  \n",
       "0            17.0                          4                      2007  \n",
       "1            17.0                          4                      2007  \n",
       "2            11.0                          4                      2007  \n",
       "3            44.0                          4                      2007  \n",
       "4            11.0                          4                      2007  \n",
       "\n",
       "[5 rows x 21 columns]"
      ]
     },
     "metadata": {},
     "execution_count": 72
    }
   ],
   "metadata": {}
  },
  {
   "cell_type": "code",
   "execution_count": 73,
   "source": [
    "data_missing_manager_1.drop(['Manager_Joining_Designation', 'Manager_Current_Designation', 'Manager_Grade', 'Manager_Status', 'Manager_Gender', 'Manager_Num_Application', 'Manager_Num_Coded', 'Manager_Business', 'Manager_Num_Products', 'Manager_Age', 'Manager_Tenure'], axis=1, inplace=True)"
   ],
   "outputs": [],
   "metadata": {}
  },
  {
   "cell_type": "code",
   "execution_count": 74,
   "source": [
    "data_missing_manager_test_1.drop(['Manager_Joining_Designation', 'Manager_Current_Designation', 'Manager_Grade', 'Manager_Status', 'Manager_Gender', 'Manager_Num_Application', 'Manager_Num_Coded', 'Manager_Business', 'Manager_Num_Products', 'Manager_Age', 'Manager_Tenure'], axis=1, inplace=True)"
   ],
   "outputs": [],
   "metadata": {}
  },
  {
   "cell_type": "code",
   "execution_count": 75,
   "source": [
    "data_missing_manager_1.drop(\"ID\", axis=1, inplace=True)\r\n",
    "data_missing_manager_test_1.drop(\"ID\", axis=1, inplace=True)"
   ],
   "outputs": [],
   "metadata": {}
  },
  {
   "cell_type": "code",
   "execution_count": 76,
   "source": [
    "data_missing_manager_1.shape, data_missing_manager_test_1.shape"
   ],
   "outputs": [
    {
     "output_type": "execute_result",
     "data": {
      "text/plain": [
       "((9527, 9), (824, 8))"
      ]
     },
     "metadata": {},
     "execution_count": 76
    }
   ],
   "metadata": {}
  },
  {
   "cell_type": "code",
   "execution_count": 77,
   "source": [
    "data_missing_manager_1 = pd.get_dummies(data_missing_manager_1)\r\n",
    "data_missing_manager_test_1 = pd.get_dummies(data_missing_manager_test_1)"
   ],
   "outputs": [],
   "metadata": {}
  },
  {
   "cell_type": "code",
   "execution_count": 78,
   "source": [
    "data_missing_manager_1.shape, data_missing_manager_test_1.shape"
   ],
   "outputs": [
    {
     "output_type": "execute_result",
     "data": {
      "text/plain": [
       "((9527, 21), (824, 19))"
      ]
     },
     "metadata": {},
     "execution_count": 78
    }
   ],
   "metadata": {}
  },
  {
   "cell_type": "code",
   "execution_count": 79,
   "source": [
    "data_missing_manager_1.drop(\"Applicant_Occupation_Student\", axis=1, inplace=True)"
   ],
   "outputs": [],
   "metadata": {}
  },
  {
   "cell_type": "code",
   "execution_count": 80,
   "source": [
    "from sklearn.utils import resample\r\n",
    "\r\n",
    "# separate minority and majority classes\r\n",
    "not_accept = data_missing_manager_1[data_missing_manager_1.Business_Sourced==1]\r\n",
    "accept = data_missing_manager_1[data_missing_manager_1.Business_Sourced==0]\r\n",
    "\r\n",
    "# upsample minority\r\n",
    "not_accept_upsampled = resample(not_accept,\r\n",
    "                          replace=True, # sample with replacement\r\n",
    "                          n_samples=len(accept), # match number in majority class\r\n",
    "                          random_state=27) # reproducible results\r\n",
    "\r\n",
    "# combine majority and upsampled minority\r\n",
    "data_missing_manager_1 = pd.concat([not_accept_upsampled, accept])"
   ],
   "outputs": [],
   "metadata": {}
  },
  {
   "cell_type": "code",
   "execution_count": 81,
   "source": [
    "X_1 = data_missing_manager_1.drop('Business_Sourced', axis=1)\r\n",
    "y_1 = data_missing_manager_1['Business_Sourced']"
   ],
   "outputs": [],
   "metadata": {}
  },
  {
   "cell_type": "code",
   "execution_count": 82,
   "source": [
    "X_train_1,X_test_1, y_train_1, y_test_1 = train_test_split(X_1, y_1, random_state=22)"
   ],
   "outputs": [],
   "metadata": {}
  },
  {
   "cell_type": "code",
   "execution_count": 83,
   "source": [
    "rf_model_1 = RandomForestClassifier(random_state=167, max_depth=10, n_estimators=100)"
   ],
   "outputs": [],
   "metadata": {}
  },
  {
   "cell_type": "code",
   "execution_count": 84,
   "source": [
    "rf_model_1.fit(X_train_1, y_train_1)"
   ],
   "outputs": [
    {
     "output_type": "execute_result",
     "data": {
      "text/plain": [
       "RandomForestClassifier(max_depth=10, random_state=167)"
      ]
     },
     "metadata": {},
     "execution_count": 84
    }
   ],
   "metadata": {}
  },
  {
   "cell_type": "code",
   "execution_count": 85,
   "source": [
    "pred_train_1 = rf_model_1.predict(X_train_1)\r\n",
    "pred_test_1 = rf_model_1.predict(X_test_1)"
   ],
   "outputs": [],
   "metadata": {}
  },
  {
   "cell_type": "code",
   "execution_count": 86,
   "source": [
    "Pred_part2 = rf_model_1.predict(data_missing_manager_test_1)"
   ],
   "outputs": [],
   "metadata": {}
  },
  {
   "cell_type": "code",
   "execution_count": 87,
   "source": [
    "roc_auc_score(pred_train_1, y_train_1), roc_auc_score(pred_test_1, y_test_1)"
   ],
   "outputs": [
    {
     "output_type": "execute_result",
     "data": {
      "text/plain": [
       "(0.7645890270636699, 0.6711894254044165)"
      ]
     },
     "metadata": {},
     "execution_count": 87
    }
   ],
   "metadata": {}
  },
  {
   "cell_type": "code",
   "execution_count": 88,
   "source": [
    "data_missing_manager_test_pred[\"Prediction\"] = Pred_part2"
   ],
   "outputs": [
    {
     "output_type": "stream",
     "name": "stderr",
     "text": [
      "<ipython-input-88-60bd001c3a14>:1: SettingWithCopyWarning: \n",
      "A value is trying to be set on a copy of a slice from a DataFrame.\n",
      "Try using .loc[row_indexer,col_indexer] = value instead\n",
      "\n",
      "See the caveats in the documentation: https://pandas.pydata.org/pandas-docs/stable/user_guide/indexing.html#returning-a-view-versus-a-copy\n",
      "  data_missing_manager_test_pred[\"Prediction\"] = Pred_part2\n"
     ]
    }
   ],
   "metadata": {}
  },
  {
   "cell_type": "code",
   "execution_count": 94,
   "source": [
    "#data_missing_manager_test_pred\r\n",
    "#data_all_columns_test_pred\r\n",
    "\r\n",
    "data_all_columns_test_pred.index.union(data_missing_manager_test_pred.index)"
   ],
   "outputs": [
    {
     "output_type": "execute_result",
     "data": {
      "text/plain": [
       "Int64Index([   0,    1,    2,    3,    4,    5,    6,    7,    8,    9,\n",
       "            ...\n",
       "            5035, 5036, 5037, 5038, 5039, 5040, 5041, 5042, 5043, 5044],\n",
       "           dtype='int64', length=5045)"
      ]
     },
     "metadata": {},
     "execution_count": 94
    }
   ],
   "metadata": {}
  },
  {
   "cell_type": "code",
   "execution_count": 95,
   "source": [
    "frame = [data_missing_manager_test_pred, data_all_columns_test_pred]\r\n",
    "data_all_columns_test_pred_final = pd.concat(frame)"
   ],
   "outputs": [],
   "metadata": {}
  },
  {
   "cell_type": "code",
   "execution_count": 96,
   "source": [
    "data_all_columns_test_pred_final.sort_index(inplace=True)"
   ],
   "outputs": [],
   "metadata": {}
  },
  {
   "cell_type": "code",
   "execution_count": 97,
   "source": [
    "data_all_columns_test_pred_final[[\"ID\", \"Business_Sourced\"]].to_csv(\"Submitions.csv\", index=False)"
   ],
   "outputs": [],
   "metadata": {}
  },
  {
   "cell_type": "code",
   "execution_count": null,
   "source": [],
   "outputs": [],
   "metadata": {}
  },
  {
   "cell_type": "code",
   "execution_count": null,
   "source": [],
   "outputs": [],
   "metadata": {}
  },
  {
   "cell_type": "code",
   "execution_count": null,
   "source": [],
   "outputs": [],
   "metadata": {}
  },
  {
   "cell_type": "code",
   "execution_count": null,
   "source": [],
   "outputs": [],
   "metadata": {}
  },
  {
   "cell_type": "code",
   "execution_count": null,
   "source": [],
   "outputs": [],
   "metadata": {}
  },
  {
   "cell_type": "code",
   "execution_count": null,
   "source": [],
   "outputs": [],
   "metadata": {}
  },
  {
   "cell_type": "markdown",
   "source": [
    "## After PCA"
   ],
   "metadata": {}
  },
  {
   "cell_type": "code",
   "execution_count": 54,
   "source": [
    "# Standardise the data\r\n",
    "scaler = StandardScaler()\r\n",
    "X = scaler.fit_transform(X)"
   ],
   "outputs": [],
   "metadata": {}
  },
  {
   "cell_type": "code",
   "execution_count": 55,
   "source": [
    "X_train,X_test, y_train, y_test = train_test_split(X, y, random_state=22)"
   ],
   "outputs": [],
   "metadata": {}
  },
  {
   "cell_type": "code",
   "execution_count": 56,
   "source": [
    "#Fitting the PCA algorithm on our data to find the appropriate number of principal components to keep\r\n",
    "pca = PCA().fit(X_train) "
   ],
   "outputs": [],
   "metadata": {}
  },
  {
   "cell_type": "code",
   "execution_count": 57,
   "source": [
    "#Plotting the Cumulative Summation of the Explained Variance\r\n",
    "plt.figure(figsize=(20,5))\r\n",
    "plt.plot(np.cumsum(pca.explained_variance_ratio_) * 100)\r\n",
    "plt.xlabel('Number of Components')\r\n",
    "plt.ylabel('Variance (%)')\r\n",
    "plt.title('Explained Variance')\r\n",
    "plt.xticks(np.arange(0, 40, 2))\r\n",
    "\r\n",
    "# We want to preserve 95% of the variance so plot a horizontal line at 95% variance\r\n",
    "plt.axhline(y=95, color='r', linestyle='--')\r\n",
    "plt.show()"
   ],
   "outputs": [
    {
     "output_type": "display_data",
     "data": {
      "image/png": "[encoded data removed]",
      "text/plain": [
       "<Figure size 1440x360 with 1 Axes>"
      ]
     },
     "metadata": {
      "needs_background": "light"
     }
    }
   ],
   "metadata": {}
  },
  {
   "cell_type": "code",
   "execution_count": 58,
   "source": [
    "# selecting only 350 components\r\n",
    "pca = PCA(21).fit(X_train)"
   ],
   "outputs": [],
   "metadata": {}
  },
  {
   "cell_type": "code",
   "execution_count": 59,
   "source": [
    "# transform both training and validation data\r\n",
    "\r\n",
    "pca_training = pca.transform(X_train)\r\n",
    "pca_test = pca.transform(X_test)"
   ],
   "outputs": [],
   "metadata": {}
  },
  {
   "cell_type": "code",
   "execution_count": 69,
   "source": [
    "pca_final = pca.transform(data_all_columns_test)"
   ],
   "outputs": [],
   "metadata": {}
  },
  {
   "cell_type": "code",
   "execution_count": 60,
   "source": [
    "rf_model = RandomForestClassifier(random_state=1, max_depth=10, n_estimators=100)"
   ],
   "outputs": [],
   "metadata": {}
  },
  {
   "cell_type": "code",
   "execution_count": 61,
   "source": [
    "rf_model.fit(pca_training, y_train)"
   ],
   "outputs": [
    {
     "output_type": "execute_result",
     "data": {
      "text/plain": [
       "RandomForestClassifier(max_depth=10, random_state=1)"
      ]
     },
     "metadata": {},
     "execution_count": 61
    }
   ],
   "metadata": {}
  },
  {
   "cell_type": "code",
   "execution_count": 62,
   "source": [
    "pred_train = rf_model.predict(pca_training)\r\n",
    "pred_test = rf_model.predict(pca_test)"
   ],
   "outputs": [],
   "metadata": {}
  },
  {
   "cell_type": "code",
   "execution_count": 70,
   "source": [
    "Pred_PartPCA = rf_model.predict(pca_final)"
   ],
   "outputs": [],
   "metadata": {}
  },
  {
   "cell_type": "code",
   "execution_count": null,
   "source": [
    "from sklearn.metrics import roc_auc_score"
   ],
   "outputs": [],
   "metadata": {}
  },
  {
   "cell_type": "code",
   "execution_count": 35,
   "source": [
    "#roc_auc_score(pred_train, y_train) \r\n",
    "roc_auc_score(pred_test, y_test)"
   ],
   "outputs": [
    {
     "output_type": "execute_result",
     "data": {
      "text/plain": [
       "0.7324193608858117"
      ]
     },
     "metadata": {},
     "execution_count": 35
    }
   ],
   "metadata": {}
  },
  {
   "cell_type": "markdown",
   "source": [
    "# FA"
   ],
   "metadata": {}
  },
  {
   "cell_type": "code",
   "execution_count": 397,
   "source": [
    "# creating the training and validation set\r\n",
    "X_train, X_valid, y_train, y_valid = train_test_split(X, y, random_state = 10, test_size = 0.25)"
   ],
   "outputs": [],
   "metadata": {}
  },
  {
   "cell_type": "code",
   "execution_count": 398,
   "source": [
    "cor = X_train.corr().abs()\r\n",
    "cor\r\n",
    "\r\n",
    "s = cor.unstack()\r\n",
    "so = s.sort_values(ascending=False)"
   ],
   "outputs": [],
   "metadata": {}
  },
  {
   "cell_type": "code",
   "execution_count": 399,
   "source": [
    "count = 0\r\n",
    "for i in so:\r\n",
    "    if(i < 1 and i >= 0.5):\r\n",
    "        count = count+1\r\n",
    "\r\n",
    "count"
   ],
   "outputs": [
    {
     "output_type": "execute_result",
     "data": {
      "text/plain": [
       "34"
      ]
     },
     "metadata": {},
     "execution_count": 399
    }
   ],
   "metadata": {}
  },
  {
   "cell_type": "code",
   "execution_count": 400,
   "source": [
    "# creating the random forest regressor model\r\n",
    "model = RandomForestClassifier(random_state=1, max_depth=3, n_estimators=100)"
   ],
   "outputs": [],
   "metadata": {}
  },
  {
   "cell_type": "code",
   "execution_count": 401,
   "source": [
    "from sklearn.decomposition import FactorAnalysis"
   ],
   "outputs": [],
   "metadata": {}
  },
  {
   "cell_type": "code",
   "execution_count": 402,
   "source": [
    "fa = FactorAnalysis(n_components=17)"
   ],
   "outputs": [],
   "metadata": {}
  },
  {
   "cell_type": "code",
   "execution_count": 403,
   "source": [
    "X_train_transformed = fa.fit_transform(X_train)\r\n",
    "X_valid_transformed = fa.fit_transform(X_valid)"
   ],
   "outputs": [],
   "metadata": {}
  },
  {
   "cell_type": "code",
   "execution_count": 404,
   "source": [
    "model.fit(X_train_transformed, y_train)"
   ],
   "outputs": [
    {
     "output_type": "execute_result",
     "data": {
      "text/plain": [
       "RandomForestClassifier(max_depth=3, random_state=1)"
      ]
     },
     "metadata": {},
     "execution_count": 404
    }
   ],
   "metadata": {}
  },
  {
   "cell_type": "code",
   "execution_count": 405,
   "source": [
    "pp = model.predict(X_valid_transformed)"
   ],
   "outputs": [],
   "metadata": {}
  },
  {
   "cell_type": "code",
   "execution_count": 407,
   "source": [
    "roc_auc_score(model.predict(X_valid_transformed), y_valid)"
   ],
   "outputs": [
    {
     "output_type": "execute_result",
     "data": {
      "text/plain": [
       "0.5612806120369993"
      ]
     },
     "metadata": {},
     "execution_count": 407
    }
   ],
   "metadata": {}
  },
  {
   "cell_type": "code",
   "execution_count": null,
   "source": [],
   "outputs": [],
   "metadata": {}
  },
  {
   "cell_type": "code",
   "execution_count": null,
   "source": [],
   "outputs": [],
   "metadata": {}
  },
  {
   "cell_type": "code",
   "execution_count": null,
   "source": [],
   "outputs": [],
   "metadata": {}
  },
  {
   "cell_type": "code",
   "execution_count": null,
   "source": [],
   "outputs": [],
   "metadata": {}
  },
  {
   "cell_type": "code",
   "execution_count": null,
   "source": [],
   "outputs": [],
   "metadata": {}
  }
 ]
}